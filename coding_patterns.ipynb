{
 "cells": [
  {
   "cell_type": "markdown",
   "id": "4fb83dec",
   "metadata": {},
   "source": [
    "# Coding patterns:"
   ]
  },
  {
   "cell_type": "markdown",
   "id": "547f3147",
   "metadata": {},
   "source": [
    "# Sliding Window >>"
   ]
  },
  {
   "cell_type": "markdown",
   "id": "9b059270",
   "metadata": {},
   "source": [
    "### Sliding window max"
   ]
  },
  {
   "cell_type": "code",
   "execution_count": 115,
   "id": "2d5d96b4",
   "metadata": {},
   "outputs": [
    {
     "name": "stdout",
     "output_type": "stream",
     "text": [
      "[4] deque([1])\n",
      "[4, 5, 6, 10, 10, 10, 3, 9] deque([9])\n"
     ]
    }
   ],
   "source": [
    "from collections import deque\n",
    "\n",
    "def slidingMax(nums=[2,4,3,5,6,10,3,2,1,9],w=3):\n",
    "    q=deque()\n",
    "    res=[]\n",
    "    \n",
    "    for i in range(w):\n",
    "        while  q and nums[q[-1]]<nums[i]:\n",
    "            q.pop()\n",
    "        q.append(i)\n",
    "    res.append(nums[q[0]])\n",
    "    q.pop()\n",
    "    \n",
    "    print(res,q)\n",
    "    \n",
    "    for i in range(w,len(nums)):\n",
    "        while q and nums[q[-1]]<nums[i]:\n",
    "            q.pop()\n",
    "        q.append(i)\n",
    "        if i-w>=q[0]:\n",
    "            q.popleft()\n",
    "        res.append(nums[q[0]])\n",
    "        \n",
    "    print(res,q)\n",
    "            \n",
    "        \n",
    "    \n",
    "slidingMax() \n",
    "\n",
    "    "
   ]
  },
  {
   "cell_type": "markdown",
   "id": "65be42b4",
   "metadata": {},
   "source": [
    "### Minimum window subsequence"
   ]
  },
  {
   "cell_type": "markdown",
   "id": "f5fb43a5",
   "metadata": {},
   "source": [
    "find a minimum window in s1 that contains all the characters of the s2 in the same order or \n",
    "sequences window may have addtional charaters than s2"
   ]
  },
  {
   "cell_type": "code",
   "execution_count": 116,
   "id": "2c3a7728",
   "metadata": {},
   "outputs": [
    {
     "data": {
      "text/plain": [
       "'ambalc'"
      ]
     },
     "execution_count": 116,
     "metadata": {},
     "output_type": "execute_result"
    }
   ],
   "source": [
    "def MinWindow(s1='abrahambalci',s2='abc'):\n",
    "    i,j=0,0\n",
    "    while i<len(s1):\n",
    "        if s1[i]==s2[j]:\n",
    "            j+=1\n",
    "        if j==len(s2):\n",
    "            winStart=i\n",
    "            winEnd=i+1\n",
    "            j-=1\n",
    "            while j>=0:\n",
    "                if s1[winStart]==s2[j]:\n",
    "                    j-=1\n",
    "                winStart-=1    \n",
    "        i+=1\n",
    "        \n",
    "    return s1[winStart+1:winEnd]\n",
    "\n",
    "MinWindow()"
   ]
  },
  {
   "cell_type": "markdown",
   "id": "b436639e",
   "metadata": {},
   "source": [
    "### Minimum Window SubString"
   ]
  },
  {
   "cell_type": "code",
   "execution_count": 117,
   "id": "5a6c0be4",
   "metadata": {},
   "outputs": [
    {
     "name": "stdout",
     "output_type": "stream",
     "text": [
      "ADOBEC 0 4 {'A': 1, 'D': 1, 'O': 1, 'B': 1, 'E': 1, 'C': 1} {'A': 1, 'B': 1, 'C': 1} A\n",
      "EBANC 8 11 {'A': 1, 'D': 0, 'O': 0, 'B': 1, 'E': 1, 'C': 1, 'N': 1} {'A': 1, 'B': 1, 'C': 1} E\n",
      "BANC 9 11 {'A': 1, 'D': 0, 'O': 0, 'B': 1, 'E': 0, 'C': 1, 'N': 1} {'A': 1, 'B': 1, 'C': 1} B\n"
     ]
    },
    {
     "data": {
      "text/plain": [
       "'BANC'"
      ]
     },
     "execution_count": 117,
     "metadata": {},
     "output_type": "execute_result"
    }
   ],
   "source": [
    "def minWindow( s='ADOBECODEBANC', t='ABC'):\n",
    "\n",
    "    if t=='': return ''\n",
    "\n",
    "    window,countT={},{}\n",
    "    res,LenRes=[-1,-1],float('inf')\n",
    "\n",
    "    for ch in t:\n",
    "        countT[ch]=1+countT.get(ch,0)\n",
    "\n",
    "    have,need=0,len(countT)\n",
    "    l=0\n",
    "\n",
    "    for r in range(len(s)):\n",
    "        ch=s[r]\n",
    "        window[ch]=1+window.get(ch,0)\n",
    "        if ch in countT and window[ch]==countT[ch]:\n",
    "            have+=1\n",
    "\n",
    "        while have==need:\n",
    "            if (r-l+1)<LenRes:\n",
    "                res=[l,r]\n",
    "                LenRes=(r-l+1)\n",
    "                print(s[l:r+1],l,r-1,window,countT,s[l])\n",
    "            #pop left ch from window \n",
    "            window[s[l]]-=1\n",
    "            if s[l] in countT and window[s[l]]<countT[s[l]]:\n",
    "                have-=1\n",
    "            l+=1\n",
    "\n",
    "    l,r=res\n",
    "    return s[l:r+1] if LenRes!=float('inf') else ''\n",
    "\n",
    "minWindow()"
   ]
  },
  {
   "cell_type": "markdown",
   "id": "bf36b9d8",
   "metadata": {},
   "source": [
    "### Longest Substring Without Repeating Characters"
   ]
  },
  {
   "cell_type": "markdown",
   "id": "9af3cb88",
   "metadata": {},
   "source": [
    "Input: s = \"abcabcbb\"\n",
    "Output: 3\n",
    "Explanation: The answer is \"abc\", with the length of 3."
   ]
  },
  {
   "cell_type": "code",
   "execution_count": 118,
   "id": "5152a900",
   "metadata": {},
   "outputs": [
    {
     "name": "stdout",
     "output_type": "stream",
     "text": [
      "set()\n",
      "set()\n",
      "{'a'}\n",
      "{'x'}\n",
      "set()\n",
      "set()\n",
      "{'a'}\n",
      "{'a', 'b'}\n",
      "{'b', 'c'}\n",
      "{'a', 'c'}\n",
      "{'a', 'b'}\n",
      "{'c'}\n",
      "set()\n"
     ]
    },
    {
     "data": {
      "text/plain": [
       "3"
      ]
     },
     "execution_count": 118,
     "metadata": {},
     "output_type": "execute_result"
    }
   ],
   "source": [
    "def lss(s='aaxaaabcabcbb'):\n",
    "    l=0\n",
    "    res=0\n",
    "    visited=set()\n",
    "    for r in range(len(s)):\n",
    "        while s[r] in visited:\n",
    "            visited.remove(s[l])\n",
    "            l+=1\n",
    "        print(visited)\n",
    "        visited.add(s[r])\n",
    "        res=max((r-l+1),res)\n",
    "    return res\n",
    "lss()\n",
    "        "
   ]
  },
  {
   "cell_type": "markdown",
   "id": "d379b7a2",
   "metadata": {},
   "source": [
    "### Repeated DNA Sequences\n"
   ]
  },
  {
   "cell_type": "code",
   "execution_count": 119,
   "id": "b90eca95",
   "metadata": {},
   "outputs": [
    {
     "data": {
      "text/plain": [
       "['AAAAAAAAAA']"
      ]
     },
     "execution_count": 119,
     "metadata": {},
     "output_type": "execute_result"
    }
   ],
   "source": [
    "def RepeatedDNA(s='AAAAAAAAAAA',w=10):\n",
    "    uSeq=set()\n",
    "    res=[]\n",
    "    for i in range(len(s)-w+1):\n",
    "        cur=\"\"\n",
    "        for j in range(i,i+w):\n",
    "            cur+=s[j]\n",
    "        if cur not in uSeq:\n",
    "            uSeq.add(cur)\n",
    "        else:\n",
    "            if not cur in res:\n",
    "                res.append(cur)\n",
    "    return res#[seq for seq in uSeq if uSeq[seq]>1]\n",
    "\n",
    "RepeatedDNA()\n",
    "        "
   ]
  },
  {
   "cell_type": "markdown",
   "id": "837cf12a",
   "metadata": {},
   "source": [
    "# Two Pointers >>"
   ]
  },
  {
   "cell_type": "markdown",
   "id": "c27592a8",
   "metadata": {},
   "source": [
    "### Reverse elements of an array"
   ]
  },
  {
   "cell_type": "code",
   "execution_count": 120,
   "id": "a3f4e4dd",
   "metadata": {},
   "outputs": [
    {
     "data": {
      "text/plain": [
       "'dcbaa'"
      ]
     },
     "execution_count": 120,
     "metadata": {},
     "output_type": "execute_result"
    }
   ],
   "source": [
    "def rev(s='aabcd'):\n",
    "    l,r=0,len(s)-1\n",
    "    s=list(s)\n",
    "    while l<=r:\n",
    "        s[l],s[r]=s[r],s[l]\n",
    "        l+=1\n",
    "        r-=1\n",
    "    return ''.join(s)\n",
    "rev()"
   ]
  },
  {
   "cell_type": "markdown",
   "id": "2ce7d17a",
   "metadata": {},
   "source": [
    "### Three Sum"
   ]
  },
  {
   "cell_type": "code",
   "execution_count": 14,
   "id": "fc3030e8",
   "metadata": {},
   "outputs": [
    {
     "data": {
      "text/plain": [
       "[[-1, -1, 2], [-1, 0, 1]]"
      ]
     },
     "execution_count": 14,
     "metadata": {},
     "output_type": "execute_result"
    }
   ],
   "source": [
    "# with target 0 and wiouth repeated numbers as a,b,c\n",
    "def threeSum2( nums=[-1,0,1,2,-1,-4]):\n",
    "    \"\"\"\n",
    "    :type nums: List[int]\n",
    "    :rtype: List[List[int]]\n",
    "    \"\"\"\n",
    "    res=[]\n",
    "    nums.sort()\n",
    "    for i,a in enumerate(nums):\n",
    "        if i>0 and a==nums[i-1]:\n",
    "            continue \n",
    "        l,r=i+1,len(nums)-1\n",
    "        while l<r:\n",
    "            threeS=a+nums[l]+nums[r]\n",
    "            if threeS>0:\n",
    "                r-=1\n",
    "            elif threeS<0:\n",
    "                l+=1\n",
    "            else:\n",
    "                res.append([a,nums[l],nums[r]])\n",
    "                l+=1\n",
    "                while nums[l]==nums[l-1] and l<r:\n",
    "                    l+=1\n",
    "    return res\n",
    "\n",
    "threeSum2()"
   ]
  },
  {
   "cell_type": "markdown",
   "id": "52aefaae",
   "metadata": {},
   "source": [
    "### Reverse words in sentence"
   ]
  },
  {
   "cell_type": "code",
   "execution_count": 138,
   "id": "e78bce89",
   "metadata": {},
   "outputs": [
    {
     "data": {
      "text/plain": [
       "'day good a is this'"
      ]
     },
     "execution_count": 138,
     "metadata": {},
     "output_type": "execute_result"
    }
   ],
   "source": [
    "def reverse_words(sentence='this is a good day'):\n",
    "   \n",
    "    words=[[word] for word in sentence.split(' ')]\n",
    "    #print(words)\n",
    "    l,r=0,len(words)-1\n",
    "    while l<r:\n",
    "        words[l],words[r]=words[r],words[l]\n",
    "        l+=1\n",
    "        r-=1\n",
    "        \n",
    "    return ' '.join([''.join(word) for word in words])\n",
    "\n",
    "reverse_words()"
   ]
  },
  {
   "cell_type": "markdown",
   "id": "5a999040",
   "metadata": {},
   "source": [
    "### Is Palindrome II "
   ]
  },
  {
   "cell_type": "code",
   "execution_count": 162,
   "id": "030256f5",
   "metadata": {},
   "outputs": [
    {
     "data": {
      "text/plain": [
       "True"
      ]
     },
     "execution_count": 162,
     "metadata": {},
     "output_type": "execute_result"
    }
   ],
   "source": [
    "def palindrome(s='abcb'):\n",
    "    l,r=0,len(s)-1\n",
    "    while l<r:\n",
    "        if s[l]==s[r]:\n",
    "            l+=1\n",
    "            r-=1\n",
    "        else:\n",
    "            str1=s[:l]+s[l+1:]\n",
    "            str2=s[:r]+s[r+1:]\n",
    "            return str1==str1[::-1] or str2==str2[::-1]\n",
    "\n",
    "    return True\n",
    "            \n",
    "\n",
    "\n",
    "palindrome()    "
   ]
  },
  {
   "cell_type": "markdown",
   "id": "f0f3dd7c",
   "metadata": {},
   "source": [
    "# Fast and Slow Pointers"
   ]
  },
  {
   "cell_type": "markdown",
   "id": "cdf27024",
   "metadata": {},
   "source": [
    "### Palindrome Linked list"
   ]
  },
  {
   "cell_type": "code",
   "execution_count": 138,
   "id": "baadb0e8",
   "metadata": {},
   "outputs": [],
   "source": [
    "#O(n) time, O(n) space\n",
    "def isPalindrome2( head):\n",
    "    \"\"\"\n",
    "    :type head: ListNode\n",
    "    :rtype: bool\n",
    "    \"\"\"\n",
    "    nums=[]\n",
    "\n",
    "    cur=head\n",
    "    while cur:\n",
    "        nums.append(cur.val)\n",
    "        cur=cur.next\n",
    "\n",
    "    l,r=0,len(nums)-1\n",
    "    while l<=r:\n",
    "        if nums[l]!=nums[r]:\n",
    "            return False\n",
    "        l+=1\n",
    "        r-=1\n",
    "    return True\n",
    "\n",
    "# O(n) time, O(1) space\n",
    "# find the middle node of the list using fast and slow pointers, then reverse the second half and compare both halfs\n",
    "def isPalindrome(head):\n",
    "    fast=slow=head\n",
    "    while fast and fast.next:\n",
    "        fast=fast.next.next\n",
    "        slow=slow.next\n",
    "    \n",
    "    #reverse the second half of the list\n",
    "    prev,cur=None,slow\n",
    "    while cur:\n",
    "        nex=cur.next\n",
    "        cur.next=prev\n",
    "        prev=cur\n",
    "        cur=nex\n",
    "        \n",
    "    #check if firt half is equal to the reversed second half of the list\n",
    "    cur1,cur2=prev,head\n",
    "    while cur1:\n",
    "        if cur1.val!=cur2.val:\n",
    "            return False\n",
    "        cur1=cur1.next\n",
    "        cur2=cur2.next\n",
    "    return True"
   ]
  },
  {
   "cell_type": "markdown",
   "id": "f023e5d1",
   "metadata": {},
   "source": [
    "# Merge Intervals"
   ]
  },
  {
   "cell_type": "markdown",
   "id": "45f14554",
   "metadata": {},
   "source": [
    "### insert interval"
   ]
  },
  {
   "cell_type": "code",
   "execution_count": 163,
   "id": "81fd8c07",
   "metadata": {},
   "outputs": [
    {
     "data": {
      "text/plain": [
       "[[1, 2], [3, 10], [12, 16]]"
      ]
     },
     "execution_count": 163,
     "metadata": {},
     "output_type": "execute_result"
    }
   ],
   "source": [
    "def insert_intervals(intervals=[[1,2],[3,5],[6,7],[8,10],[12,16]],newinterval=[4,8]):\n",
    "    res=[]\n",
    "    for i,v in enumerate(intervals):\n",
    "        if newinterval[1]<v[0]:\n",
    "            res.append(newinterval)\n",
    "            return res+intervals[i:]\n",
    "        elif newinterval[0]>v[1]:\n",
    "            res.append(v)\n",
    "        else:\n",
    "            newinterval=[min(v[0],newinterval[0]),max(v[1],newinterval[1])]\n",
    "    res.append(newinterval)\n",
    "    return res\n",
    "insert_intervals()"
   ]
  },
  {
   "cell_type": "markdown",
   "id": "dafa23ce",
   "metadata": {},
   "source": [
    "### Meeting rooms ~ schedule tasks on minimum machines"
   ]
  },
  {
   "cell_type": "markdown",
   "id": "9b2e32f4",
   "metadata": {},
   "source": [
    "minimum number of rooms that can accomedate all the meetings"
   ]
  },
  {
   "cell_type": "code",
   "execution_count": 170,
   "id": "1e99d997",
   "metadata": {},
   "outputs": [
    {
     "name": "stdout",
     "output_type": "stream",
     "text": [
      "[[1, 3], [2, 5], [4, 8]]\n",
      "[5, 8]\n"
     ]
    },
    {
     "data": {
      "text/plain": [
       "2"
      ]
     },
     "execution_count": 170,
     "metadata": {},
     "output_type": "execute_result"
    }
   ],
   "source": [
    "from heapq import heapify,heappush,heappop\n",
    "\n",
    "def mettingRooms( a=[[1, 3],[2, 5],[4, 8]]):\n",
    "    a=sorted(a,key=lambda x:x[0])\n",
    "    print(a)\n",
    "    heap=[]\n",
    "    heapify(heap)\n",
    "    heappush(heap,a[0][1])\n",
    "    \n",
    "    for i in range(1,len(a)):\n",
    "        if heap[0]<a[i][0]:\n",
    "            heappop(heap)\n",
    "        heappush(heap,a[i][1])\n",
    "    print(heap)\n",
    "    return len(heap)\n",
    "\n",
    "mettingRooms()\n",
    "        "
   ]
  },
  {
   "cell_type": "markdown",
   "id": "557c103f",
   "metadata": {},
   "source": [
    "### Employee Free time"
   ]
  },
  {
   "cell_type": "markdown",
   "id": "67fefe3c",
   "metadata": {},
   "source": [
    "We are given a list schedule of employees, which represents the working time for each employee.\n",
    "\n",
    "Each employee has a list of non-overlapping Intervals, and these intervals are in sorted order.\n",
    "\n",
    "Return the list of finite intervals representing common, positive-length free time for all employees, also in sorted order.\n",
    "Input: schedule = [[[1,2],[5,6]],[[1,3]],[[4,10]]]\n",
    "Output: [[3,4]]\n",
    "Explanation:\n",
    "There are a total of three employees, and all common\n",
    "free time intervals would be [-inf, 1], [3, 4], [10, inf].\n",
    "We discard any intervals that contain inf as they aren't finite."
   ]
  },
  {
   "cell_type": "markdown",
   "id": "0af50351",
   "metadata": {},
   "source": [
    "Given a list of lists l, how to flatten a list\n",
    "\n",
    "flat_list = [item for sublist in l for item in sublist]"
   ]
  },
  {
   "cell_type": "code",
   "execution_count": 180,
   "id": "00f601c3",
   "metadata": {},
   "outputs": [
    {
     "name": "stdout",
     "output_type": "stream",
     "text": [
      "[[1, 2], [5, 6], [1, 3], [4, 10]]\n"
     ]
    },
    {
     "data": {
      "text/plain": [
       "[[3, 4]]"
      ]
     },
     "execution_count": 180,
     "metadata": {},
     "output_type": "execute_result"
    }
   ],
   "source": [
    "def freeTime(schedule = [[[1,2],[5,6]],[[1,3]],[[4,10]]]):\n",
    "    schedule=[intv  for emp in schedule for intv in emp ]\n",
    "    print(schedule)\n",
    "    schedule=sorted(schedule,key=lambda x:x[0])\n",
    "    endTime=schedule[0][1]\n",
    "    res=[]\n",
    "    for i in range(1,len(schedule)):\n",
    "        if schedule[i][0]>endTime:\n",
    "            res.append([endTime,schedule[i][0]])\n",
    "        endTime=max(endTime,schedule[i][1])\n",
    "    return res\n",
    "\n",
    "freeTime()\n",
    "            "
   ]
  },
  {
   "cell_type": "markdown",
   "id": "06f555cd",
   "metadata": {},
   "source": [
    "# Two heaps"
   ]
  },
  {
   "cell_type": "markdown",
   "id": "998cf635",
   "metadata": {},
   "source": [
    "### Maximize capital"
   ]
  },
  {
   "cell_type": "markdown",
   "id": "21b06a9a",
   "metadata": {},
   "source": [
    "Input: k = 2, w = 0, profits = [1,2,3], capital = [0,1,1]\n",
    "Output: 4\n",
    "Explanation: Since your initial capital is 0, you can only start the project indexed 0.\n",
    "After finishing it you will obtain profit 1 and your capital becomes 1."
   ]
  },
  {
   "cell_type": "code",
   "execution_count": null,
   "id": "738a43af",
   "metadata": {},
   "outputs": [],
   "source": [
    "from heapq import heapify,heappush,heappop\n",
    "class Solution(object):\n",
    "    def findMaximizedCapital(self, k, w, profits, capital):\n",
    "\n",
    "        minheap_cap=[]\n",
    "        maxheap_pro=[]\n",
    "        heapify(minheap_cap)\n",
    "        heapify(maxheap_pro)\n",
    "\n",
    "        for i in range(len(capital)):\n",
    "            heappush(minheap_cap,(capital[i],i))\n",
    "\n",
    "        for _ in range(k):\n",
    "\n",
    "            while minheap_cap and w>=minheap_cap[0][0]:\n",
    "                c,i=heappop(minheap_cap)\n",
    "                heappush(maxheap_pro,(-profits[i],i))\n",
    "\n",
    "            if not maxheap_pro:\n",
    "                break\n",
    "\n",
    "            j=-heappop(maxheap_pro)[0]\n",
    "            w+=j\n",
    "        return w"
   ]
  },
  {
   "cell_type": "markdown",
   "id": "32b3bc4a",
   "metadata": {},
   "source": [
    "### find the Median of a stream"
   ]
  },
  {
   "cell_type": "code",
   "execution_count": 182,
   "id": "68fe8c98",
   "metadata": {},
   "outputs": [],
   "source": [
    "from heapq import heapify, heappush, heappop\n",
    "class MedianFinder(object):\n",
    "\n",
    "    def __init__(self):\n",
    "        self.smallH=[]\n",
    "        self.largeH=[]\n",
    "        heapify(self.smallH)\n",
    "        heapify(self.largeH)\n",
    "\n",
    "        \n",
    "\n",
    "    def addNum(self, num):\n",
    "        \"\"\"\n",
    "        :type num: int\n",
    "        :rtype: None\n",
    "        \"\"\"\n",
    "        #1.start adding nums to max heap in the left that hold small numbers\n",
    "        heappush(self.smallH,-num)\n",
    "        \n",
    "        #2.make sure every top of max heap is always smaller that the top of min heap \n",
    "        if self.smallH and self.largeH and self.smallH[0]>self.largeH:\n",
    "            val=heappop(self.smallH) \n",
    "            heappush(self.largeH,-val)\n",
    "            \n",
    "        #3.check if the heap lengths are balanced \n",
    "        if len(self.smallH)>len(self.largeH):\n",
    "            val=heappop(self.smallH) \n",
    "            heappush(self.largeH,-val)\n",
    "\n",
    "        if len(self.smallH)<len(self.largeH):\n",
    "            val=heappop(self.largeH) \n",
    "            heappush(self.smallH,-val)\n",
    "\n",
    "    def findMedian(self):\n",
    "        \"\"\"\n",
    "        :rtype: float\n",
    "        \"\"\"\n",
    "        if len(self.smallH)>len(self.largeH):\n",
    "            return -self.smallH[0]\n",
    "        if len(self.smallH)<len(self.largeH):\n",
    "            return self.largeH[0]\n",
    "        return (self.largeH[0]-self.smallH[0])/2.0\n",
    "        "
   ]
  },
  {
   "cell_type": "markdown",
   "id": "e7077170",
   "metadata": {},
   "source": [
    "# K-Way Merge for sorted arrays"
   ]
  },
  {
   "cell_type": "markdown",
   "id": "c5eb7a3a",
   "metadata": {},
   "source": [
    "### Merge Sorted Array"
   ]
  },
  {
   "cell_type": "raw",
   "id": "80b135ae",
   "metadata": {},
   "source": [
    "You are given two integer arrays nums1 and nums2, sorted in non-decreasing order, and two integers m and n, representing the number of elements in nums1 and nums2 respectively.\n",
    "\n",
    "Merge nums1 and nums2 into a single array sorted in non-decreasing order.\n",
    "\n",
    "The final sorted array should not be returned by the function, but instead be stored inside the array nums1. To accommodate this, nums1 has a length of m + n, where the first m elements denote the elements that should be merged, and the last n elements are set to 0 and should be ignored. nums2 has a length of n."
   ]
  },
  {
   "cell_type": "code",
   "execution_count": 188,
   "id": "c54444ca",
   "metadata": {},
   "outputs": [
    {
     "data": {
      "text/plain": [
       "[2, 5, 10, 20, 30]"
      ]
     },
     "execution_count": 188,
     "metadata": {},
     "output_type": "execute_result"
    }
   ],
   "source": [
    "def arrMerge(nums1=[10,20,30,0,0], m=3, nums2=[2,5], n=2):\n",
    "    \"\"\"\n",
    "    :type nums1: List[int]\n",
    "    :type m: int\n",
    "    :type nums2: List[int]\n",
    "    :type n: int\n",
    "    :rtype: None Do not return anything, modify nums1 in-place instead.\n",
    "    \"\"\"\n",
    "    if m==0: \n",
    "        nums1[m]= nums2[m]\n",
    "        return nums1 \n",
    "    i,j=m-1,n-1 \n",
    "    ind=len(nums1)-1\n",
    "    while i>=0 and j>=0:\n",
    "        if nums1[i]>=nums2[j]:\n",
    "            nums1[ind]=nums1[i]\n",
    "            i-=1\n",
    "        else:\n",
    "            nums1[ind]=nums2[j]\n",
    "            j-=1\n",
    "        ind-=1\n",
    "\n",
    "    while j>=0:\n",
    "        nums1[ind]=nums2[j]\n",
    "        j-=1\n",
    "        ind-=1\n",
    "        \n",
    "\n",
    "    return nums1\n",
    "\n",
    "arrMerge()"
   ]
  },
  {
   "cell_type": "markdown",
   "id": "6b8d9f93",
   "metadata": {},
   "source": [
    "### Kth Smallest Element in a Sorted Matrix"
   ]
  },
  {
   "cell_type": "code",
   "execution_count": 189,
   "id": "08f34f46",
   "metadata": {},
   "outputs": [
    {
     "data": {
      "text/plain": [
       "13"
      ]
     },
     "execution_count": 189,
     "metadata": {},
     "output_type": "execute_result"
    }
   ],
   "source": [
    "def kthSmallest(matrix = [[1,5,9],[10,11,13],[12,13,15]], k = 8):\n",
    "\n",
    "    heap=[]\n",
    "    rows=len(matrix)\n",
    "    cols=len(matrix[0])\n",
    "\n",
    "    for r in range(rows):\n",
    "        for c in range(cols):\n",
    "            heappush(heap,matrix[r][c])\n",
    "\n",
    "    for i in range(k):\n",
    "        res=heappop(heap)\n",
    "\n",
    "    return res\n",
    "\n",
    "kthSmallest()"
   ]
  },
  {
   "cell_type": "markdown",
   "id": "c3fbc509",
   "metadata": {},
   "source": [
    "### Find K Pairs with Smallest Sums"
   ]
  },
  {
   "cell_type": "code",
   "execution_count": 191,
   "id": "8ce71c2d",
   "metadata": {},
   "outputs": [
    {
     "data": {
      "text/plain": [
       "[[1, 4], [2, 4], [1, 7]]"
      ]
     },
     "execution_count": 191,
     "metadata": {},
     "output_type": "execute_result"
    }
   ],
   "source": [
    "from heapq import *\n",
    "\n",
    "def k_smallest_pairs(list1=[1, 2, 9] ,list2= [4, 7, 9] , k=3):\n",
    "    result = []\n",
    "    heap=[]\n",
    "    # TODO: Write your code here\n",
    "    for i in range(len(list1)):\n",
    "        for j in range(len(list2)):\n",
    "            heappush(heap,(list1[i]+list2[j],i,j))\n",
    "\n",
    "    for i in range(min(k,len(list1)*len(list2))):\n",
    "            sum_,i_,j_=heappop(heap)\n",
    "            result.append([list1[i_],list2[j_]])\n",
    "\n",
    "    return result\n",
    "\n",
    "k_smallest_pairs()"
   ]
  },
  {
   "cell_type": "markdown",
   "id": "7c8c201c",
   "metadata": {},
   "source": [
    "### Merge K sorted Linked lists "
   ]
  },
  {
   "cell_type": "code",
   "execution_count": null,
   "id": "27171715",
   "metadata": {},
   "outputs": [],
   "source": [
    "def mergeKLists(self,lists):\n",
    "    heap=[]\n",
    "    head=None\n",
    "    cur=None\n",
    "    for l in lists:\n",
    "        while l:\n",
    "            heappush(heap,l.val)\n",
    "            l=l.next\n",
    "\n",
    "    while heap:\n",
    "        if not head:\n",
    "            head=ListNode(heappop(heap))\n",
    "            cur=head\n",
    "        else:\n",
    "            cur.next=ListNode(heappop(heap))\n",
    "            cur=cur.next\n",
    "\n",
    "    return head"
   ]
  },
  {
   "cell_type": "code",
   "execution_count": 192,
   "id": "3e5f3d7a",
   "metadata": {},
   "outputs": [],
   "source": [
    "#solution2\n",
    "\n",
    "def mergeKLists( lists):\n",
    "\n",
    "    def merge2lists(h1,h2):\n",
    "        dum=ListNode()\n",
    "        cur=dum\n",
    "        p1,p2=h1,h2\n",
    "\n",
    "        while p1 and p2:\n",
    "            if p1.val<p2.val:\n",
    "                cur.next=p1\n",
    "                p1=p1.next\n",
    "            else:\n",
    "                cur.next=p2\n",
    "                p2=p2.next\n",
    "            cur=cur.next\n",
    "\n",
    "        if p1:\n",
    "            cur.next=p1\n",
    "        if p2:\n",
    "            cur.next=p2\n",
    "        return dum.next\n",
    "\n",
    "    if not lists or lists==0:return None\n",
    "\n",
    "    while len(lists)>1:\n",
    "        mergedlists=[]\n",
    "        for i in range(0,len(lists),2):\n",
    "            l1=lists[i]\n",
    "            l2=lists[i+1] if (i+1)<len(lists) else None\n",
    "            mergedlists.append(merge2lists(l1,l2))\n",
    "        lists=mergedlists\n",
    "    return lists[0]"
   ]
  },
  {
   "cell_type": "markdown",
   "id": "7d46a112",
   "metadata": {},
   "source": [
    "### Median of 2 sorted array"
   ]
  },
  {
   "cell_type": "code",
   "execution_count": 193,
   "id": "f9f52728",
   "metadata": {},
   "outputs": [
    {
     "name": "stdout",
     "output_type": "stream",
     "text": [
      "[1, 4, 5, 7, 8, 9]\n"
     ]
    },
    {
     "data": {
      "text/plain": [
       "6.0"
      ]
     },
     "execution_count": 193,
     "metadata": {},
     "output_type": "execute_result"
    }
   ],
   "source": [
    "def find_median(nums1=[1, 5, 8] , nums2=[4, 7, 9]):\n",
    "# first merge 2 sorted arrays with o(n) \n",
    "    n=len(nums1)-1\n",
    "    m=len(nums2)-1\n",
    "    res=[0]* (len(nums1)+len(nums2))\n",
    "    k=len(nums1)+len(nums2)-1\n",
    "    while n>=0 and m>=0:\n",
    "        if nums1[n]>=nums2[m]:\n",
    "            res[k]=nums1[n]\n",
    "            n-=1\n",
    "        else:\n",
    "            res[k]=nums2[m]\n",
    "            m-=1\n",
    "        k-=1\n",
    "\n",
    "    while n>=0:\n",
    "        res[k]=nums1[n]\n",
    "        n-=1\n",
    "        k-=1\n",
    "\n",
    "    while m>=0:\n",
    "        res[k]=nums2[m]\n",
    "        m-=1\n",
    "        k-=1\n",
    "\n",
    "    \n",
    "    mid=len(res)//2\n",
    "    print(res)\n",
    "\n",
    "    return  (res[mid]+res[mid-1])/2.0 if len(res)%2==0 else res[mid]\n",
    "\n",
    "find_median()\n"
   ]
  },
  {
   "cell_type": "markdown",
   "id": "07d9b3a4",
   "metadata": {},
   "source": [
    "# Top K Elements"
   ]
  },
  {
   "cell_type": "markdown",
   "id": "951e6b0b",
   "metadata": {},
   "source": [
    "### Kth Largest Element in a Stream"
   ]
  },
  {
   "cell_type": "code",
   "execution_count": 194,
   "id": "64b4d0a4",
   "metadata": {},
   "outputs": [],
   "source": [
    "from heapq import *\n",
    "class KthLargest(object):\n",
    "\n",
    "    def __init__(self, k, nums):\n",
    "        self.heap=nums\n",
    "        heapify(self.heap)\n",
    "        self.k=k\n",
    "\n",
    "        while len(self.heap)>k:\n",
    "            heappop(self.heap)\n",
    "        \n",
    "\n",
    "    def add(self, val):\n",
    "        heappush(self.heap,val)\n",
    "        \n",
    "        if len(self.heap)>self.k:\n",
    "            heappop(self.heap)\n",
    "        return self.heap[0]\n",
    "    "
   ]
  },
  {
   "cell_type": "markdown",
   "id": "173acd5a",
   "metadata": {},
   "source": [
    "### Reorgnizing string"
   ]
  },
  {
   "cell_type": "code",
   "execution_count": 195,
   "id": "e6f8ade4",
   "metadata": {},
   "outputs": [
    {
     "name": "stdout",
     "output_type": "stream",
     "text": [
      "Counter({'a': 3, 'b': 1, 'c': 1})\n",
      "[(-3, 'a'), (-1, 'b'), (-1, 'c')]\n",
      "a\n",
      "ab\n",
      "aba\n",
      "abac\n",
      "abaca\n"
     ]
    },
    {
     "data": {
      "text/plain": [
       "'abaca'"
      ]
     },
     "execution_count": 195,
     "metadata": {},
     "output_type": "execute_result"
    }
   ],
   "source": [
    "# importing libraries\n",
    "from collections import Counter\n",
    "from heapq import *\n",
    "\n",
    "def reorganize_string(input_string='aaabc'):\n",
    "    # Write your code here\n",
    "    hashmap=Counter(input_string)\n",
    "    print(hashmap)\n",
    "    heap=[]\n",
    "    res=''\n",
    "    for ch,cnt in hashmap.items():\n",
    "        heappush(heap,(-cnt,ch))\n",
    "    print(heap)\n",
    "\n",
    "    prev=None\n",
    "    while heap or prev:\n",
    "        if prev and not heap:\n",
    "            return ''\n",
    "        cnt,ch=heappop(heap)\n",
    "        res+=ch\n",
    "        cnt+=1\n",
    "\n",
    "        print(res)\n",
    "\n",
    "        if prev:\n",
    "            heappush(heap,prev)\n",
    "            prev=None\n",
    "\n",
    "        if cnt!=0:\n",
    "            prev=(cnt,ch)\n",
    "\n",
    "\n",
    "    return res\n",
    "\n",
    "reorganize_string()\n",
    "\n",
    "    \n"
   ]
  },
  {
   "cell_type": "markdown",
   "id": "695b0382",
   "metadata": {},
   "source": [
    "# Modified binary search"
   ]
  },
  {
   "cell_type": "markdown",
   "id": "cfb3f355",
   "metadata": {},
   "source": [
    "### Binary search, recursive and iterative approach"
   ]
  },
  {
   "cell_type": "code",
   "execution_count": 42,
   "id": "4fbef83d",
   "metadata": {},
   "outputs": [
    {
     "data": {
      "text/plain": [
       "5"
      ]
     },
     "execution_count": 42,
     "metadata": {},
     "output_type": "execute_result"
    }
   ],
   "source": [
    "def bs_rec(nums=[1,2,3,4,5,6],target=6):\n",
    "    if len(nums)==0:\n",
    "        return -1\n",
    "    mid=len(nums)//2\n",
    "    if nums[mid]==target:\n",
    "        return mid\n",
    "    elif nums[mid]>target:\n",
    "        return bs_rec(nums[:mid])\n",
    "    else:\n",
    "        result=bs_rec(nums[mid+1:])\n",
    "        return mid+result+1 if result>=0 else -1\n",
    "\n",
    "\n",
    "bs_rec()"
   ]
  },
  {
   "cell_type": "code",
   "execution_count": 197,
   "id": "8a5c76c5",
   "metadata": {},
   "outputs": [
    {
     "data": {
      "text/plain": [
       "1"
      ]
     },
     "execution_count": 197,
     "metadata": {},
     "output_type": "execute_result"
    }
   ],
   "source": [
    "def bs_iterative(nums=[1,2,3,4,5,6],target=2):\n",
    "    l,h=0,len(nums)-1\n",
    "    while l<=h:\n",
    "        mid=(h-l)//2+l\n",
    "        if nums[mid]==target:\n",
    "            return mid\n",
    "        elif nums[mid]>target:\n",
    "            h=mid-1\n",
    "        else:\n",
    "            l=mid+1\n",
    "    return -1\n",
    "\n",
    "bs_iterative()\n",
    "            "
   ]
  },
  {
   "cell_type": "markdown",
   "id": "2ebc41a5",
   "metadata": {},
   "source": [
    "### Binary search in rotated array"
   ]
  },
  {
   "cell_type": "code",
   "execution_count": 91,
   "id": "ce2e5b5f",
   "metadata": {},
   "outputs": [
    {
     "data": {
      "text/plain": [
       "0"
      ]
     },
     "execution_count": 91,
     "metadata": {},
     "output_type": "execute_result"
    }
   ],
   "source": [
    "def search( nums=[4,5,6,7,0,1,2], target=4):\n",
    "\n",
    "    l,h=0,len(nums)-1\n",
    "    def search_(nums,l,h,t):\n",
    "        if l>h:\n",
    "            return -1\n",
    "        #print(l,h)\n",
    "        mid=(l+h)//2\n",
    "        if nums[mid]==t:\n",
    "            return mid\n",
    "        elif  nums[l]<=t<nums[mid]:\n",
    "            return search_(nums,l,mid-1,t)\n",
    "        elif nums[mid]<t<= nums[h] :\n",
    "            return search_(nums,mid+1,h,t)\n",
    "        elif   nums[mid]>nums[h]:\n",
    "            return search_(nums,mid+1,h,t)\n",
    "        elif   nums[l]>nums[mid]:\n",
    "            return search_(nums,l,mid-1,t)\n",
    "        else:\n",
    "            return -1\n",
    "\n",
    "    return search_(nums,l,h,target)\n",
    "\n",
    "search()"
   ]
  },
  {
   "cell_type": "code",
   "execution_count": 203,
   "id": "2d55ba1b",
   "metadata": {},
   "outputs": [
    {
     "data": {
      "text/plain": [
       "5"
      ]
     },
     "execution_count": 203,
     "metadata": {},
     "output_type": "execute_result"
    }
   ],
   "source": [
    "#check mid, check sorted left, check sorted right, chech unsorted left, unsorted right\n",
    "def binary_search_rotated(nums=[4,5,6,7,0,1,2], target=1):\n",
    "    l,r=0,len(nums)-1\n",
    "    \n",
    "    while l<=r:\n",
    "        mid=(l+r)//2\n",
    "        if nums[mid]==target:\n",
    "            return mid\n",
    "        elif nums[l]<=target<nums[mid]:\n",
    "            r=mid-1\n",
    "        elif nums[mid]<target<=nums[r]:\n",
    "            l=mid+1\n",
    "        elif nums[l]>nums[mid]:\n",
    "            r=mid-1\n",
    "        elif nums[mid]>nums[r]:\n",
    "            l=mid+1\n",
    "        else:\n",
    "            return -1\n",
    "\n",
    "binary_search_rotated()\n",
    "        "
   ]
  },
  {
   "cell_type": "markdown",
   "id": "44cf4dd6",
   "metadata": {},
   "source": [
    "### First bad version"
   ]
  },
  {
   "cell_type": "code",
   "execution_count": 205,
   "id": "5dd0529a",
   "metadata": {},
   "outputs": [
    {
     "data": {
      "text/plain": [
       "2"
      ]
     },
     "execution_count": 205,
     "metadata": {},
     "output_type": "execute_result"
    }
   ],
   "source": [
    "def first_bad_version(nums=[0,0,1,1,1,1]):\n",
    "    l,r =0,len(nums)-1\n",
    "    \n",
    "    while l<=r:\n",
    "        mid=(l+r)//2\n",
    "        if nums[mid]==1:\n",
    "            if nums[mid-1]==0:\n",
    "                return mid\n",
    "            r=mid-1\n",
    "        else:\n",
    "            l=mid+1\n",
    "            \n",
    "first_bad_version()"
   ]
  },
  {
   "cell_type": "markdown",
   "id": "91fcef9b",
   "metadata": {},
   "source": [
    "### Random Pick with Weight "
   ]
  },
  {
   "cell_type": "code",
   "execution_count": 220,
   "id": "668936ae",
   "metadata": {},
   "outputs": [
    {
     "name": "stdout",
     "output_type": "stream",
     "text": [
      "[2, 92, 100] 0  picked index--> 0\n",
      "[2, 92, 100] 99  picked index--> 2\n",
      "[2, 92, 100] 56  picked index--> 1\n",
      "[2, 92, 100] 32  picked index--> 1\n",
      "[2, 92, 100] 10  picked index--> 1\n",
      "[2, 92, 100] 7  picked index--> 1\n",
      "[2, 92, 100] 45  picked index--> 1\n",
      "[2, 92, 100] 84  picked index--> 1\n",
      "[2, 92, 100] 7  picked index--> 1\n",
      "[2, 92, 100] 49  picked index--> 1\n"
     ]
    }
   ],
   "source": [
    "import random\n",
    "\n",
    "def pick_index(nums=[2,90,8]):\n",
    "    cum_sums=[]\n",
    "    cum_sum=0\n",
    "    for w in nums:\n",
    "        cum_sum+=w\n",
    "        cum_sums.append(cum_sum)\n",
    "        \n",
    "    target=random.randint(0,cum_sum)\n",
    "    \n",
    "    \n",
    "    #binary search random target in cu_sums array\n",
    "    l,r=0,len(cum_sums)\n",
    "    while l<=r:\n",
    "        mid=(l+r)//2\n",
    "        if cum_sums[mid]==target:\n",
    "            return mid\n",
    "        elif cum_sums[mid]>target:\n",
    "            r=mid-1\n",
    "        else:\n",
    "            l=mid+1\n",
    "    print(cum_sums,target,' picked index-->',l)\n",
    "    return l\n",
    "    \n",
    "for i in range(10):    \n",
    "    pick_index()      "
   ]
  },
  {
   "cell_type": "markdown",
   "id": "99428a08",
   "metadata": {},
   "source": [
    "### K closest elements to item x of a sorted array"
   ]
  },
  {
   "cell_type": "code",
   "execution_count": 223,
   "id": "db278652",
   "metadata": {},
   "outputs": [
    {
     "data": {
      "text/plain": [
       "[2, 3]"
      ]
     },
     "execution_count": 223,
     "metadata": {},
     "output_type": "execute_result"
    }
   ],
   "source": [
    "def findClosestElements( arr = [1,2,3,4,5], k = 2, x = 3):\n",
    "\n",
    "    def b_s(arr,x):        \n",
    "        l,r =0,len(arr)-1\n",
    "        while l<=r:\n",
    "            mid=(l+r)//2\n",
    "            if arr[mid]==x:\n",
    "                return mid\n",
    "            elif arr[mid]>x:\n",
    "                l=mid-1\n",
    "            else:\n",
    "                r=mid+1\n",
    "        return l\n",
    "\n",
    "    if len(arr)==k:\n",
    "        return arr\n",
    "\n",
    "    wl=b_s(arr,x)-1\n",
    "    wr=wl+1\n",
    "\n",
    "    while wr-wl-1<k:\n",
    "        #print(wl,wr,k)\n",
    "        if wl==-1:\n",
    "            wr+=1\n",
    "            continue\n",
    "        if wr==len(arr) or abs(arr[wl]-x)<=abs(arr[wr]-x) :\n",
    "            wl-= 1\n",
    "        else:\n",
    "            wr+=1\n",
    "\n",
    "    return arr[wl+1:wr]\n",
    "\n",
    "findClosestElements()"
   ]
  },
  {
   "cell_type": "markdown",
   "id": "cb283bb8",
   "metadata": {},
   "source": [
    "# Subsets"
   ]
  },
  {
   "cell_type": "code",
   "execution_count": 227,
   "id": "8b0812cd",
   "metadata": {},
   "outputs": [
    {
     "data": {
      "text/plain": [
       "[[], [1], [3], [1, 3], [5], [1, 5], [3, 5], [1, 3, 5]]"
      ]
     },
     "execution_count": 227,
     "metadata": {},
     "output_type": "execute_result"
    }
   ],
   "source": [
    "def get_all_subsets(v=[1,3,5]):\n",
    "    num_subsets=2**len(v)\n",
    "    sets=[]\n",
    "    for i in range(0,num_subsets):\n",
    "        st=set([])\n",
    "        for j in range(len(v)):\n",
    "            if get_bit(i,j)==1:\n",
    "                st.add(v[j])\n",
    "                #print(st)\n",
    "        sets.append(list(st))\n",
    "    return sets\n",
    "\n",
    "def get_bit(i,j):\n",
    "    temp=1<<j\n",
    "    if i&temp==0:\n",
    "        return 0\n",
    "    return 1\n",
    "\n",
    "get_all_subsets()"
   ]
  },
  {
   "cell_type": "code",
   "execution_count": 248,
   "id": "e27a4ba9",
   "metadata": {},
   "outputs": [
    {
     "data": {
      "text/plain": [
       "['sop', 'osp', 'spo', 'pso', 'ops', 'pos']"
      ]
     },
     "execution_count": 248,
     "metadata": {},
     "output_type": "execute_result"
    }
   ],
   "source": [
    "def permute_word(word='pos'):\n",
    "    result = []\n",
    "    path=''\n",
    "\n",
    "    def perm(word,path):\n",
    "        if not word:\n",
    "            result.append(path)\n",
    "            return\n",
    "        \n",
    "        for i in range (len(word)):\n",
    "            perm(word[:i]+word[i+1:],word[i]+path) \n",
    "\n",
    "    perm(word,path)\n",
    "    return result\n",
    "\n",
    "permute_word()"
   ]
  },
  {
   "cell_type": "code",
   "execution_count": 247,
   "id": "a576a2fc",
   "metadata": {},
   "outputs": [
    {
     "data": {
      "text/plain": [
       "['wa', 'wb', 'wc', 'xa', 'xb', 'xc', 'ya', 'yb', 'yc', 'za', 'zb', 'zc']"
      ]
     },
     "execution_count": 247,
     "metadata": {},
     "output_type": "execute_result"
    }
   ],
   "source": [
    "def letter_combinations(digits='92'):\n",
    "    dic={'2':'abc','3':'def','4':'ghi','5':'jkl','6':'mno','7':'pqrs','8':'tuv','9':'wxyz'}\n",
    "    result,path=[],''\n",
    "    \n",
    "    def perm(digits,path):\n",
    "        if not digits:\n",
    "            result.append(path)\n",
    "            return \n",
    "        \n",
    "        pre=dic[digits[0]]\n",
    "        \n",
    "        for ch in pre:\n",
    "            perm(digits[1:],path+ch)\n",
    "   \n",
    "    perm(digits,path)\n",
    "    return result\n",
    "\n",
    "letter_combinations()\n",
    "            "
   ]
  },
  {
   "cell_type": "markdown",
   "id": "c4c3fd9f",
   "metadata": {},
   "source": [
    "### Generate valid nested parantecies\n"
   ]
  },
  {
   "cell_type": "code",
   "execution_count": 249,
   "id": "dd498801",
   "metadata": {},
   "outputs": [
    {
     "data": {
      "text/plain": [
       "['((()))', '(()())', '(())()', '()(())', '()()()']"
      ]
     },
     "execution_count": 249,
     "metadata": {},
     "output_type": "execute_result"
    }
   ],
   "source": [
    "def pgen(n=3):\n",
    "    path=''\n",
    "    res=[]\n",
    "    def gen_(l,r,path):\n",
    "        if l==r==n:\n",
    "            res.append(path)\n",
    "            return \n",
    "        if r>l: return \n",
    "        if l<n:\n",
    "            gen_(l+1,r,path+'(')\n",
    "        if r<n:\n",
    "            gen_(l,r+1,path+')')\n",
    "        \n",
    "        return res\n",
    "    \n",
    "    return gen_(0,0,path)\n",
    "pgen()"
   ]
  },
  {
   "cell_type": "markdown",
   "id": "c560db89",
   "metadata": {},
   "source": [
    "### Get k sum subsets"
   ]
  },
  {
   "cell_type": "code",
   "execution_count": 258,
   "id": "027e1731",
   "metadata": {},
   "outputs": [
    {
     "data": {
      "text/plain": [
       "[[1, 2, 3, 4], [2, 3, 5], [1, 4, 5], [1, 3, 6], [4, 6]]"
      ]
     },
     "execution_count": 258,
     "metadata": {},
     "output_type": "execute_result"
    }
   ],
   "source": [
    "def getbit(i,j):\n",
    "    if (i& (1<<j))==0:\n",
    "        return False\n",
    "    return True\n",
    "\n",
    "def get_k_sum_subsets(set_of_integers=[1,2,3,4,5,6], target_sum=10):\n",
    "    # Write your code here\n",
    "    subsets = []  \n",
    "    n=2**len(set_of_integers)\n",
    "\n",
    "    for i in range(n):\n",
    "        curset=set()\n",
    "        runSum=0\n",
    "        for j in range(len(set_of_integers)):\n",
    "            if getbit(i,j):\n",
    "                runSum+=set_of_integers[j]\n",
    "                curset.add(set_of_integers[j])\n",
    "        #print(curset,runSum)\n",
    "        if runSum==target_sum:\n",
    "            subsets.append(list(curset))\n",
    "    return subsets\n",
    "\n",
    "get_k_sum_subsets()"
   ]
  },
  {
   "cell_type": "markdown",
   "id": "9d55d810",
   "metadata": {},
   "source": [
    "# Trees Depth First Search"
   ]
  },
  {
   "cell_type": "markdown",
   "id": "6b599ba9",
   "metadata": {},
   "source": [
    "### Flatten a binary tree to linked list"
   ]
  },
  {
   "cell_type": "code",
   "execution_count": 259,
   "id": "8bc23559",
   "metadata": {},
   "outputs": [],
   "source": [
    "\n",
    "def flatten( root):\n",
    "\n",
    "    def dfs(root):\n",
    "        if not root:\n",
    "            return \n",
    "\n",
    "        LeftTail=dfs(root.left)\n",
    "        RightTail=dfs(root.right)\n",
    "\n",
    "        if LeftTail:\n",
    "            LeftTail.right=root.right\n",
    "            root.right=root.left\n",
    "            root.left=None\n",
    "        last=RightTail or LeftTail or root\n",
    "        return last\n",
    "\n",
    "    return dfs(root)"
   ]
  },
  {
   "cell_type": "markdown",
   "id": "af5067b6",
   "metadata": {},
   "source": [
    "### Max depth or height of a binary tree"
   ]
  },
  {
   "cell_type": "code",
   "execution_count": 19,
   "id": "33d93224",
   "metadata": {},
   "outputs": [
    {
     "data": {
      "text/plain": [
       "3"
      ]
     },
     "execution_count": 19,
     "metadata": {},
     "output_type": "execute_result"
    }
   ],
   "source": [
    "class treeNode:\n",
    "    def __init__(self,val=0,left=None,right=None):\n",
    "        self.val=val\n",
    "        self.left=left\n",
    "        self.right=right\n",
    "\n",
    "def treeHieght(root=treeNode(             1,\n",
    "                            treeNode(2),         treeNode(3,\n",
    "                                            treeNode(4),     treeNode(5)))):\n",
    "    if not root:\n",
    "        return 0\n",
    "    hl=treeHieght(root.left)\n",
    "    hr=treeHieght(root.right)\n",
    "    return 1+max(hl,hr)\n",
    "\n",
    "\n",
    "treeHieght()"
   ]
  },
  {
   "cell_type": "markdown",
   "id": "1512313d",
   "metadata": {},
   "source": [
    "### Diameter of binary tree"
   ]
  },
  {
   "cell_type": "code",
   "execution_count": 260,
   "id": "1167f540",
   "metadata": {},
   "outputs": [
    {
     "data": {
      "text/plain": [
       "4"
      ]
     },
     "execution_count": 260,
     "metadata": {},
     "output_type": "execute_result"
    }
   ],
   "source": [
    "class treeNode:\n",
    "    def __init__(self,val=0,left=None,right=None):\n",
    "        self.val=val\n",
    "        self.left=left\n",
    "        self.right=right\n",
    "\n",
    "def treeDiam( root=treeNode(               1,\n",
    "                            treeNode(2),          treeNode(3,\n",
    "                                            treeNode(4),     treeNode(5,\n",
    "                                                                      treeNode(6))))):\n",
    "    diam=0\n",
    "    def treeHieght(root=root):\n",
    "        nonlocal diam\n",
    "        if not root:\n",
    "            return -1\n",
    "        leftH=treeHieght(root.left)\n",
    "        rightH=treeHieght(root.right)\n",
    "        diam=max(diam,2+leftH+rightH)\n",
    "        return 1+max(leftH,rightH)\n",
    "    \n",
    "    treeHieght(root)\n",
    "    return diam\n",
    "\n",
    "treeDiam()"
   ]
  },
  {
   "cell_type": "markdown",
   "id": "ffbfca22",
   "metadata": {},
   "source": [
    "### Min depth of a binary tree"
   ]
  },
  {
   "cell_type": "code",
   "execution_count": 94,
   "id": "4b26d195",
   "metadata": {},
   "outputs": [
    {
     "data": {
      "text/plain": [
       "2"
      ]
     },
     "execution_count": 94,
     "metadata": {},
     "output_type": "execute_result"
    }
   ],
   "source": [
    "def minDepth( root=treeNode(               1,\n",
    "                            treeNode(2),          treeNode(3,\n",
    "                                            treeNode(4),     treeNode(5)))):\n",
    "\n",
    "    def height(root):\n",
    "        if not root:\n",
    "            return 0\n",
    "        lh=height(root.left)\n",
    "        rh=height(root.right)\n",
    "        if root.left and root.right:\n",
    "            return 1+min(lh,rh)\n",
    "        if not root.left:\n",
    "            return 1+rh\n",
    "        if not root.right:\n",
    "            return 1+lh\n",
    "\n",
    "    return height(root)\n",
    "\n",
    "minDepth()\n"
   ]
  },
  {
   "cell_type": "markdown",
   "id": "ee29c327",
   "metadata": {},
   "source": [
    "### Binary Tree Paths"
   ]
  },
  {
   "cell_type": "code",
   "execution_count": 271,
   "id": "8ce48746",
   "metadata": {},
   "outputs": [
    {
     "data": {
      "text/plain": [
       "['1->5->6', '1->3']"
      ]
     },
     "execution_count": 271,
     "metadata": {},
     "output_type": "execute_result"
    }
   ],
   "source": [
    "'''\n",
    "       1\n",
    "     /   \\\n",
    "    5     3\n",
    "   / \\   / \\\n",
    "   N  6 N   N\n",
    "'''\n",
    "def treePaths(root=treeNode(1,treeNode(5,None,treeNode(6)),treeNode(3,None,None))):\n",
    "    res=[]\n",
    "    path=''\n",
    "    \n",
    "    def dfs(root,path,res):\n",
    "        if not root: return \n",
    "        path+=(str(root.val)+'->')\n",
    "        \n",
    "        if not root.left and not root.right:\n",
    "            res.append(path[:-2])       \n",
    "\n",
    "        dfs(root.left,path,res)\n",
    "        dfs(root.right,path,res)\n",
    "     \n",
    "        return res\n",
    "\n",
    "    return dfs(root,path,res)\n",
    "\n",
    "treePaths()\n"
   ]
  },
  {
   "cell_type": "code",
   "execution_count": 276,
   "id": "8fc1fb65",
   "metadata": {},
   "outputs": [
    {
     "data": {
      "text/plain": [
       "[[1, 5, 6], [1, 3]]"
      ]
     },
     "execution_count": 276,
     "metadata": {},
     "output_type": "execute_result"
    }
   ],
   "source": [
    "'''\n",
    "       1\n",
    "     /   \\\n",
    "    5     3\n",
    "   / \\   / \\\n",
    "   N  6 N   N\n",
    "'''\n",
    "import copy\n",
    "def treePaths(root=treeNode(1,treeNode(5,None,treeNode(6)),treeNode(3,None,None))):\n",
    "    res=[]\n",
    "    path=[]\n",
    "    \n",
    "    def dfs(root,path,res):\n",
    "        if not root: return \n",
    "        path.append(root.val)\n",
    "        \n",
    "        if not root.left and not root.right:\n",
    "            res.append(copy.copy(path))       \n",
    "\n",
    "        dfs(root.left,path,res)\n",
    "        dfs(root.right,path,res)\n",
    "        path.pop()\n",
    "     \n",
    "        return res\n",
    "\n",
    "    return dfs(root,path,res)\n",
    "\n",
    "treePaths()\n"
   ]
  },
  {
   "cell_type": "markdown",
   "id": "1684a0c8",
   "metadata": {},
   "source": [
    "\n",
    "### invert Binary Tree"
   ]
  },
  {
   "cell_type": "code",
   "execution_count": 277,
   "id": "977d2d30",
   "metadata": {},
   "outputs": [
    {
     "name": "stdout",
     "output_type": "stream",
     "text": [
      "d3c1b2a\n",
      "a2b1c3d"
     ]
    }
   ],
   "source": [
    "\n",
    "\n",
    "def invertTree(root=treeNode(1,treeNode(2,treeNode('a'),treeNode('b')),treeNode(3,treeNode('c'),treeNode('d')))):\n",
    "    if not root:\n",
    "        return \n",
    "    root.left,root.right=root.right,root.left\n",
    "    invertTree(root.left)\n",
    "    invertTree(root.right)\n",
    "    return root\n",
    "\n",
    "def printTree(root=root):\n",
    "    if root==None:\n",
    "        return\n",
    "    printTree(root.left)\n",
    "    print(root.val,end='')\n",
    "    printTree(root.right)\n",
    "    \n",
    "    \n",
    "printTree(root)\n",
    "print()\n",
    "printTree(invertTree(root))"
   ]
  },
  {
   "cell_type": "markdown",
   "id": "363d17a0",
   "metadata": {},
   "source": [
    "# Arrays\n",
    "\n",
    "https://lei-d.gitbook.io/leetcode/array"
   ]
  },
  {
   "cell_type": "markdown",
   "id": "9455a3f3",
   "metadata": {},
   "source": [
    "## Squares of a Sorted Array"
   ]
  },
  {
   "cell_type": "raw",
   "id": "a3aa6867",
   "metadata": {},
   "source": [
    "Given an integer array nums sorted in non-decreasing order, return an array of the squares of each number sorted in non-decreasing order.\n",
    "\n",
    "Example 1:\n",
    "\n",
    "Input: nums = [-4,-1,0,3,10]\n",
    "Output: [0,1,9,16,100]\n",
    "Explanation: After squaring, the array becomes [16,1,0,9,100].\n",
    "After sorting, it becomes [0,1,9,16,100]."
   ]
  },
  {
   "cell_type": "code",
   "execution_count": 1,
   "id": "919a5073",
   "metadata": {},
   "outputs": [
    {
     "data": {
      "text/plain": [
       "[0, 1, 9, 16, 100]"
      ]
     },
     "execution_count": 1,
     "metadata": {},
     "output_type": "execute_result"
    }
   ],
   "source": [
    "def sortedSquares(nums=[-4,-1,0,3,10]):\n",
    "    \"\"\"\n",
    "    :type nums: List[int]\n",
    "    :rtype: List[int]\n",
    "    \"\"\"\n",
    "    l,r=0,len(nums)-1\n",
    "    res=[0]*len(nums)\n",
    "    i=r\n",
    "    while l<=r:\n",
    "        if abs(nums[l])>=abs(nums[r]):\n",
    "            res[i]=nums[l]**2\n",
    "            l+=1\n",
    "        else:\n",
    "            res[i]=nums[r]**2\n",
    "            r-=1\n",
    "        i-=1\n",
    "    return res\n",
    "\n",
    "sortedSquares()"
   ]
  },
  {
   "cell_type": "markdown",
   "id": "bc0761fb",
   "metadata": {},
   "source": [
    "## Array Diagonal Traverse\n"
   ]
  },
  {
   "cell_type": "raw",
   "id": "7f6a5220",
   "metadata": {},
   "source": [
    "Given an m x n matrix mat, return an array of all the elements of the array in a diagonal order.\n",
    "\n",
    "Example 1:\n",
    "\n",
    "Input: mat = [[1,2,3],\n",
    "              [4,5,6],\n",
    "              [7,8,9]]\n",
    "Output: [1,2,4,7,5,3,6,8,9]"
   ]
  },
  {
   "cell_type": "code",
   "execution_count": 1,
   "id": "0b6e0fda",
   "metadata": {},
   "outputs": [
    {
     "name": "stdout",
     "output_type": "stream",
     "text": [
      "1 \n",
      "\n",
      "2 4 \n",
      "\n",
      "7 5 3 \n",
      "\n",
      "6 8 \n",
      "\n",
      "9 \n",
      "\n"
     ]
    },
    {
     "data": {
      "text/plain": [
       "[1, 2, 4, 7, 5, 3, 6, 8, 9]"
      ]
     },
     "execution_count": 1,
     "metadata": {},
     "output_type": "execute_result"
    }
   ],
   "source": [
    "def findDiagonalOrder( mat=[[1,2,3],\n",
    "                            [4,5,6],\n",
    "                            [7,8,9]]):\n",
    "    \"\"\"\n",
    "    :type mat: List[List[int]]\n",
    "    :rtype: List[int]\n",
    "    \"\"\"\n",
    "    m,n=len(mat),len(mat[0])\n",
    "    arr=[0]*(m*n)\n",
    "    out2=[]\n",
    "    i,row,col=0,0,0\n",
    "    up=True\n",
    "    while row<m and col<n:\n",
    "        if up:\n",
    "            while row>0 and col<n-1:\n",
    "                arr[i]=mat[row][col]\n",
    "                print(arr[i],end=' ')\n",
    "                i+=1\n",
    "                row-=1\n",
    "                col+=1\n",
    "            arr[i]=mat[row][col]\n",
    "            print(arr[i],end=' ')\n",
    "            i+=1\n",
    "            if col==n-1:\n",
    "                row+=1\n",
    "            else:\n",
    "                col+=1\n",
    "        else:  #downward diagonal\n",
    "            while row<m-1 and col>0:\n",
    "                arr[i]=mat[row][col]\n",
    "                print(arr[i],end=' ')\n",
    "                i+=1\n",
    "                row+=1\n",
    "                col-=1\n",
    "            arr[i]=mat[row][col]\n",
    "            print(arr[i],end=' ')\n",
    "            i+=1\n",
    "            if row==m-1:\n",
    "                col+=1\n",
    "            else:\n",
    "                row+=1\n",
    "        up=not up\n",
    "        print('\\n')\n",
    "    return arr\n",
    "\n",
    "findDiagonalOrder()"
   ]
  },
  {
   "cell_type": "markdown",
   "id": "79a555cc",
   "metadata": {},
   "source": [
    "## Is Subsequence"
   ]
  },
  {
   "cell_type": "raw",
   "id": "ed10295d",
   "metadata": {},
   "source": [
    "Given two strings s and t, return true if s is a subsequence of t, or false otherwise.\n",
    "\n",
    "A subsequence of a string is a new string that is formed from the original string by deleting some (can be none) of the characters without disturbing the relative positions of the remaining characters. (i.e., \"ace\" is a subsequence of \"abcde\" while \"aec\" is not)."
   ]
  },
  {
   "cell_type": "code",
   "execution_count": 2,
   "id": "98f99d7f",
   "metadata": {},
   "outputs": [
    {
     "data": {
      "text/plain": [
       "True"
      ]
     },
     "execution_count": 2,
     "metadata": {},
     "output_type": "execute_result"
    }
   ],
   "source": [
    "def isSubsequence(s='ace',t='abcde'):\n",
    "    i,j=0,0\n",
    "    n,m=len(s),len(t)\n",
    "    while i<n and j<m:\n",
    "        if s[i]==t[j]:\n",
    "            i+=1\n",
    "        j+=1\n",
    "    if i==n:\n",
    "        return True\n",
    "    return False\n",
    "\n",
    "isSubsequence()"
   ]
  },
  {
   "cell_type": "markdown",
   "id": "ab9b2a2a",
   "metadata": {},
   "source": [
    "# Smallest Non-constructible Value"
   ]
  },
  {
   "cell_type": "code",
   "execution_count": 10,
   "id": "2f13579b",
   "metadata": {},
   "outputs": [
    {
     "data": {
      "text/plain": [
       "8"
      ]
     },
     "execution_count": 10,
     "metadata": {},
     "output_type": "execute_result"
    }
   ],
   "source": [
    "def smallest_non_constructible_value(A=[1,2,4]):\n",
    "    # linear search\n",
    "    res = 0\n",
    "    for a in sorted(A):\n",
    "        if a > res + 1:\n",
    "            break\n",
    "        res += a\n",
    "    return res + 1\n",
    "\n",
    "smallest_non_constructible_value()"
   ]
  },
  {
   "cell_type": "code",
   "execution_count": 31,
   "id": "8407b963",
   "metadata": {},
   "outputs": [
    {
     "name": "stdout",
     "output_type": "stream",
     "text": [
      "97\n",
      "122\n",
      "65\n",
      "90\n",
      "True\n"
     ]
    }
   ],
   "source": [
    "ch=['a','z','A','Z']\n",
    "for i in range (len(ch)):\n",
    "    print(ord(ch[i]))\n",
    "if ord('a') in range(ord('a'),ord('z')):\n",
    "    print(True)"
   ]
  },
  {
   "cell_type": "markdown",
   "id": "b276a1e1",
   "metadata": {},
   "source": [
    "## Minimum Rounds to Complete All Tasks"
   ]
  },
  {
   "cell_type": "raw",
   "id": "449ea86c",
   "metadata": {},
   "source": [
    "You are given a 0-indexed integer array tasks, where tasks[i] represents the difficulty level of a task. In each round, you can complete either 2 or 3 tasks of the same difficulty level.\n",
    "\n",
    "Return the minimum rounds required to complete all the tasks, or -1 if it is not possible to complete all the tasks.\n",
    "Example 1:\n",
    "\n",
    "Input: tasks = [2,2,3,3,2,4,4,4,4,4]\n",
    "Output: 4\n",
    "Explanation: To complete all the tasks, a possible plan is:\n",
    "- In the first round, you complete 3 tasks of difficulty level 2. \n",
    "- In the second round, you complete 2 tasks of difficulty level 3. \n",
    "- In the third round, you complete 3 tasks of difficulty level 4. \n",
    "- In the fourth round, you complete 2 tasks of difficulty level 4.  \n",
    "It can be shown that all the tasks cannot be completed in fewer than 4 rounds, so the answer is 4."
   ]
  },
  {
   "cell_type": "code",
   "execution_count": 48,
   "id": "51cefbc6",
   "metadata": {},
   "outputs": [
    {
     "data": {
      "text/plain": [
       "4"
      ]
     },
     "execution_count": 48,
     "metadata": {},
     "output_type": "execute_result"
    }
   ],
   "source": [
    "from collections import Counter\n",
    "\n",
    "def minimumRounds(tasks=[2,2,3,3,2,4,4,4,4,4]):\n",
    "    \"\"\"\n",
    "    :type tasks: List[int]\n",
    "    :rtype: int\n",
    "    \"\"\"\n",
    "    dic={task:0 for task in tasks}\n",
    "    for task in tasks:\n",
    "        dic[task]+=1\n",
    "\n",
    "    #dic=Counter(tasks)\n",
    "    res=0\n",
    "    for freq in dic.values():\n",
    "        if freq<2:\n",
    "            return -1\n",
    "        if freq==2:\n",
    "            res+=1\n",
    "        elif freq%3==0:\n",
    "            res+=freq//3\n",
    "        elif freq>3:\n",
    "            res+=(freq//3)+1\n",
    "    return res\n",
    "\n",
    "minimumRounds()"
   ]
  },
  {
   "cell_type": "markdown",
   "id": "bd9b1fc9",
   "metadata": {},
   "source": [
    "## Add Binary"
   ]
  },
  {
   "cell_type": "raw",
   "id": "f26d35de",
   "metadata": {},
   "source": [
    "# Given two binary strings a and b, return their sum as a binary string.\n",
    "\n",
    "Example 1:\n",
    "\n",
    "Input: a = \"11\", b = \"1\"\n",
    "Output: \"100\"\n",
    "Example 2:\n",
    "\n",
    "Input: a = \"1010\", b = \"1011\"\n",
    "Output: \"10101\""
   ]
  },
  {
   "cell_type": "code",
   "execution_count": 65,
   "id": "132748e6",
   "metadata": {},
   "outputs": [
    {
     "data": {
      "text/plain": [
       "'1001'"
      ]
     },
     "execution_count": 65,
     "metadata": {},
     "output_type": "execute_result"
    }
   ],
   "source": [
    "def addBinary( a='11', b='110'):\n",
    "    \"\"\"\n",
    "    :type a: str\n",
    "    :type b: str\n",
    "    :rtype: str\n",
    "    \"\"\"\n",
    "    a=a[::-1]\n",
    "    b=b[::-1]\n",
    "    res=''\n",
    "    parity=0\n",
    "    for i in range(max(len(a),len(b))):\n",
    "        digit1=int(a[i]) if i<len(a) else 0\n",
    "        digit2=int(b[i]) if i<len(b) else 0\n",
    "        cur=(digit1+digit2+parity)%2\n",
    "        parity=(digit1+digit2+parity)//2\n",
    "        res+=str(cur)\n",
    "    if parity:\n",
    "        res+=str(parity)\n",
    "    return res[::-1]\n",
    "\n",
    "addBinary()"
   ]
  },
  {
   "cell_type": "markdown",
   "id": "4ebb6d62",
   "metadata": {},
   "source": [
    "## Minimum Number of Arrows to Burst Balloons"
   ]
  },
  {
   "cell_type": "raw",
   "id": "49565db3",
   "metadata": {},
   "source": [
    "There are some spherical balloons taped onto a flat wall that represents the XY-plane. The balloons are represented as a 2D integer array points where points[i] = [xstart, xend] denotes a balloon whose horizontal diameter stretches between xstart and xend. You do not know the exact y-coordinates of the balloons.\n",
    "\n",
    "Arrows can be shot up directly vertically (in the positive y-direction) from different points along the x-axis. A balloon with xstart and xend is burst by an arrow shot at x if xstart <= x <= xend. There is no limit to the number of arrows that can be shot. A shot arrow keeps traveling up infinitely, bursting any balloons in its path.\n",
    "\n",
    "Given the array points, return the minimum number of arrows that must be shot to burst all balloons.\n",
    "Example 1:\n",
    "\n",
    "Input: points = [[10,16],[2,8],[1,6],[7,12]]\n",
    "Output: 2\n",
    "Explanation: The balloons can be burst by 2 arrows:\n",
    "- Shoot an arrow at x = 6, bursting the balloons [2,8] and [1,6].\n",
    "- Shoot an arrow at x = 11, bursting the balloons [10,16] and [7,12].\n"
   ]
  },
  {
   "cell_type": "code",
   "execution_count": 80,
   "id": "0d30ebae",
   "metadata": {},
   "outputs": [
    {
     "name": "stdout",
     "output_type": "stream",
     "text": [
      "[[1, 6], [2, 8], [7, 12], [10, 16]]\n",
      "[[1, 6]]\n",
      "[[2, 6]]\n",
      "[[2, 6], [7, 12]]\n",
      "[[2, 6], [10, 12]]\n",
      "[[2, 6], [2, 8], [10, 12], [10, 16]]\n",
      "[[2, 6], [10, 12]]\n"
     ]
    },
    {
     "data": {
      "text/plain": [
       "2"
      ]
     },
     "execution_count": 80,
     "metadata": {},
     "output_type": "execute_result"
    }
   ],
   "source": [
    "#merging interval finds union of two intervals. here we need to find the intersection of intervals\n",
    "def findMinArrowShots(points=[[10,16],[2,8],[1,6],[7,12]]):\n",
    "    \"\"\"\n",
    "    :type points: List[List[int]]\n",
    "    :rtype: int\n",
    "    \"\"\"\n",
    "    points=sorted(points,key=lambda x:x[0])\n",
    "    print(points)\n",
    "    res=[]\n",
    "    for v in points:\n",
    "        if  not res or v[0]>res[-1][1]:\n",
    "            res.append(v)\n",
    "        else:\n",
    "            res[-1][0]=max(v[0],res[-1][0])\n",
    "            res[-1][1]=min(v[1],res[-1][1])\n",
    "        print (res)\n",
    "    print(points)\n",
    "    print(res)\n",
    "    return \n",
    "\n",
    "findMinArrowShots()"
   ]
  },
  {
   "cell_type": "markdown",
   "id": "41bd4264",
   "metadata": {},
   "source": [
    "## Meeting Rooms"
   ]
  },
  {
   "cell_type": "code",
   "execution_count": 13,
   "id": "50df3a84",
   "metadata": {},
   "outputs": [
    {
     "data": {
      "text/plain": [
       "4"
      ]
     },
     "execution_count": 13,
     "metadata": {},
     "output_type": "execute_result"
    }
   ],
   "source": [
    "from queue import PriorityQueue\n",
    "\n",
    "def mettingRooms( A=[[1, 18],[18, 23],[15, 29],[4, 15],[2, 11], [5, 13]]):\n",
    "    \n",
    "    \n",
    "    A=sorted(A,key = lambda x:x[0])\n",
    "    q=PriorityQueue()\n",
    "    q.put(A[0][1])\n",
    "    \n",
    "    for i in range(1,len(A)):\n",
    "        if A[i][0]>=q.queue[0]:\n",
    "            q.get()\n",
    "        q.put(A[i][1])\n",
    "    \n",
    "    return len(q.queue)\n",
    "            \n",
    "\n",
    "    \n",
    "mettingRooms()"
   ]
  },
  {
   "cell_type": "code",
   "execution_count": 15,
   "id": "e0aa0bdf",
   "metadata": {},
   "outputs": [
    {
     "data": {
      "text/plain": [
       "4"
      ]
     },
     "execution_count": 15,
     "metadata": {},
     "output_type": "execute_result"
    }
   ],
   "source": [
    "\n",
    "from heapq import heapify, heappop, heappush\n",
    "\n",
    "def mettingRooms( A=[[1, 18],[18, 23],[15, 29],[4, 15],[2, 11], [5, 13]]):\n",
    "        \n",
    "    A=sorted(A,key = lambda x:x[0])\n",
    "\n",
    "    minheap=[]\n",
    "    heapify(minheap)\n",
    "    heappush(minheap,A[0][1])\n",
    "    \n",
    "    for i in range(1,len(A)):\n",
    "        if A[i][0]>=minheap[0]:\n",
    "            heappop(minheap)\n",
    "        heappush(minheap,A[i][1])\n",
    "    \n",
    "    return len(minheap)\n",
    "            \n",
    "\n",
    "    \n",
    "mettingRooms()"
   ]
  },
  {
   "cell_type": "markdown",
   "id": "faa1198b",
   "metadata": {},
   "source": [
    "## Delete Columns to Make Sorted\n"
   ]
  },
  {
   "cell_type": "raw",
   "id": "8c23354f",
   "metadata": {},
   "source": [
    "# You are given an array of n strings strs, all of the same length.\n",
    "\n",
    "The strings can be arranged such that there is one on each line, making a grid. For example, strs = [\"abc\", \"bce\", \"cae\"] can be arranged as:\n",
    "\n",
    "abc\n",
    "bce\n",
    "cae\n",
    "You want to delete the columns that are not sorted lexicographically. In the above example (0-indexed), columns 0 ('a', 'b', 'c') and 2 ('c', 'e', 'e') are sorted while column 1 ('b', 'c', 'a') is not, so you would delete column 1.\n",
    "\n",
    "Return the number of columns that you will delete.\n",
    "\n",
    "Example 1:\n",
    "\n",
    "Input: strs = [\"cba\",\"daf\",\"ghi\"]\n",
    "Output: 1\n",
    "Explanation: The grid looks as follows:\n",
    "  cba\n",
    "  daf\n",
    "  ghi\n",
    "Columns 0 and 2 are sorted, but column 1 is not, so you only need to delete 1 column.\n"
   ]
  },
  {
   "cell_type": "code",
   "execution_count": 82,
   "id": "21ccb698",
   "metadata": {},
   "outputs": [
    {
     "data": {
      "text/plain": [
       "1"
      ]
     },
     "execution_count": 82,
     "metadata": {},
     "output_type": "execute_result"
    }
   ],
   "source": [
    "def minDeletionSize( strs=[\"cba\",\n",
    "                           \"daf\",\n",
    "                           \"ghi\"]):\n",
    "    \"\"\"\n",
    "    :type strs: List[str]\n",
    "    :rtype: int\n",
    "    \"\"\"\n",
    "    res=set()\n",
    "    for col in range(len(strs[0])):\n",
    "        oldch=strs[0][col]\n",
    "        for row in range(1,len(strs)):\n",
    "            if strs[row][col]<oldch:\n",
    "                res.add(col) \n",
    "            oldch=strs[row][col]\n",
    "\n",
    "    return len(res)\n",
    "\n",
    "minDeletionSize()"
   ]
  },
  {
   "cell_type": "markdown",
   "id": "610a90e0",
   "metadata": {},
   "source": [
    "## Detect Capital\n"
   ]
  },
  {
   "cell_type": "raw",
   "id": "b73eb66f",
   "metadata": {},
   "source": [
    "We define the usage of capitals in a word to be right when one of the following cases holds:\n",
    "All letters in this word are capitals, like \"USA\".\n",
    "All letters in this word are not capitals, like \"leetcode\".\n",
    "Only the first letter in this word is capital, like \"Google\".\n",
    "Given a string word, return true if the usage of capitals in it is right."
   ]
  },
  {
   "cell_type": "code",
   "execution_count": 84,
   "id": "33cc4e72",
   "metadata": {},
   "outputs": [
    {
     "data": {
      "text/plain": [
       "True"
      ]
     },
     "execution_count": 84,
     "metadata": {},
     "output_type": "execute_result"
    }
   ],
   "source": [
    "def detectCapitalUse( word='Google'):\n",
    "    \"\"\"\n",
    "    :type word: str\n",
    "    :rtype: bool\n",
    "    \"\"\"\n",
    "    if len(word)==1:\n",
    "        return True\n",
    "\n",
    "    allLower,firstUpperLastLower,allUpper=False,False,False\n",
    "\n",
    "    if word[0].islower():\n",
    "        allLower=True\n",
    "    elif word[0].isupper() and word[-1].islower():\n",
    "        firstUpperLastLower=True\n",
    "    elif word[0].isupper() and word[-1].isupper():\n",
    "        allUpper=True\n",
    "\n",
    "    for ch in word[1:]:\n",
    "        if allLower and ch.isupper():\n",
    "            return False\n",
    "        if firstUpperLastLower and ch.isupper():\n",
    "            return False\n",
    "        if allUpper and ch.islower():\n",
    "            return False\n",
    "    return True\n",
    "\n",
    "detectCapitalUse()\n"
   ]
  },
  {
   "cell_type": "markdown",
   "id": "c225d7dc",
   "metadata": {},
   "source": [
    "## Counting Bits"
   ]
  },
  {
   "cell_type": "raw",
   "id": "8786309b",
   "metadata": {},
   "source": [
    "Given an integer n, return an array ans of length n + 1 such that for each i (0 <= i <= n), ans[i] is the number of 1's in the binary representation of i.\n",
    "Input: n = 5\n",
    "Output: [0,1,1,2,1,2]\n",
    "Explanation:\n",
    "0 --> 0\n",
    "1 --> 1\n",
    "2 --> 10\n",
    "3 --> 11\n",
    "4 --> 100\n",
    "5 --> 101\n"
   ]
  },
  {
   "cell_type": "code",
   "execution_count": 27,
   "id": "80ec4075",
   "metadata": {},
   "outputs": [
    {
     "data": {
      "text/plain": [
       "[('0', 0),\n",
       " ('1', 1),\n",
       " ('10', 1),\n",
       " ('11', 2),\n",
       " ('100', 1),\n",
       " ('101', 2),\n",
       " ('110', 2),\n",
       " ('111', 3),\n",
       " ('1000', 1)]"
      ]
     },
     "execution_count": 27,
     "metadata": {},
     "output_type": "execute_result"
    }
   ],
   "source": [
    "def countBits(n=8):\n",
    "\n",
    "    def bits(i):\n",
    "        binaryI=bin(i)[2:]\n",
    "        numOnes=0\n",
    "        for bit in binaryI:\n",
    "            if int(bit) & 1:\n",
    "                numOnes+=1\n",
    "        return binaryI,numOnes\n",
    "            \n",
    "        \n",
    "        \n",
    "\n",
    "    res=[0]*(n+1)\n",
    "    for i in range(len(res)):\n",
    "        res[i]=bits(i)\n",
    "\n",
    "    return res\n",
    "\n",
    "countBits()\n"
   ]
  },
  {
   "cell_type": "markdown",
   "id": "b2fc58b1",
   "metadata": {},
   "source": [
    "## Gas Station"
   ]
  },
  {
   "cell_type": "raw",
   "id": "f0933308",
   "metadata": {},
   "source": [
    "\n",
    "There are n gas stations along a circular route, where the amount of gas at the ith station is gas[i].\n",
    "\n",
    "You have a car with an unlimited gas tank and it costs cost[i] of gas to travel from the ith station to its next (i + 1)th station. You begin the journey with an empty tank at one of the gas stations.\n",
    "\n",
    "Given two integer arrays gas and cost, return the starting gas station's index if you can travel around the circuit once in the clockwise direction, otherwise return -1. If there exists a solution, it is guaranteed to be unique\n",
    "\n"
   ]
  },
  {
   "cell_type": "code",
   "execution_count": 29,
   "id": "c4af956c",
   "metadata": {},
   "outputs": [
    {
     "data": {
      "text/plain": [
       "0"
      ]
     },
     "execution_count": 29,
     "metadata": {},
     "output_type": "execute_result"
    }
   ],
   "source": [
    "def canCircle(gas=[2,2,1],cost=[2,1,1]):\n",
    "    if sum(gas)<sum(cost):\n",
    "        return -1\n",
    "    total,start=0,0\n",
    "    for i in range(len(gas)):\n",
    "        total+=gas[i]-cost[i]\n",
    "        if total<0:\n",
    "            start=i+1\n",
    "            total=0\n",
    "    return start\n",
    "\n",
    "canCircle()"
   ]
  },
  {
   "cell_type": "markdown",
   "id": "18eef28f",
   "metadata": {},
   "source": [
    "## Backspace String Compare"
   ]
  },
  {
   "cell_type": "raw",
   "id": "53dc54bc",
   "metadata": {},
   "source": [
    "Given two strings s and t, return true if they are equal when both are typed into empty text editors. '#' means a backspace character.\n",
    "\n",
    "Note that after backspacing an empty text, the text will continue empty.\n",
    "\n",
    " \n",
    "Example 1:\n",
    "\n",
    "Input: s = \"ab#c\", t = \"ad#c\"\n",
    "Output: true\n",
    "Explanation: Both s and t become \"ac\".\n",
    "Example 2:\n",
    "\n",
    "Input: s = \"ab##\", t = \"c#d#\"\n",
    "Output: true\n",
    "Explanation: Both s and t become \"\"."
   ]
  },
  {
   "cell_type": "code",
   "execution_count": 135,
   "id": "fd771239",
   "metadata": {},
   "outputs": [
    {
     "data": {
      "text/plain": [
       "True"
      ]
     },
     "execution_count": 135,
     "metadata": {},
     "output_type": "execute_result"
    }
   ],
   "source": [
    "def backspaceCompare( s = \"ab##\", t = \"c#d#\"):\n",
    "\n",
    "    s,t=list(s),list(t)\n",
    "    sBack,tBack=[],[]\n",
    "\n",
    "    for ch in s:\n",
    "        if ch =='#': \n",
    "            if  sBack:\n",
    "                sBack.pop()\n",
    "        else:\n",
    "            sBack.append(ch)\n",
    "\n",
    "    for ch in t:\n",
    "        if ch =='#':\n",
    "            if tBack:\n",
    "                tBack.pop()\n",
    "        else:\n",
    "            tBack.append(ch)\n",
    "\n",
    "    return sBack==tBack\n",
    "\n",
    "backspaceCompare()"
   ]
  },
  {
   "cell_type": "markdown",
   "id": "ef802ceb",
   "metadata": {},
   "source": [
    "## Is same tree"
   ]
  },
  {
   "cell_type": "code",
   "execution_count": 136,
   "id": "504c9541",
   "metadata": {},
   "outputs": [],
   "source": [
    "def isSameTree( p, q):\n",
    "\n",
    "    if  not p and not q:\n",
    "        return True\n",
    "\n",
    "    if not p or not q or p.val!=q.val:\n",
    "        return False\n",
    "\n",
    "    return   self.isSameTree(p.left,q.left) and self.isSameTree(p.right,q.right) "
   ]
  },
  {
   "cell_type": "markdown",
   "id": "01009a61",
   "metadata": {},
   "source": [
    "## Symmetric Tree"
   ]
  },
  {
   "cell_type": "raw",
   "id": "9ab940e9",
   "metadata": {},
   "source": [
    "\n",
    "Given the root of a binary tree, check whether it is a mirror of itself (i.e., symmetric around its center).\n"
   ]
  },
  {
   "cell_type": "code",
   "execution_count": 5,
   "id": "f0a30361",
   "metadata": {},
   "outputs": [
    {
     "data": {
      "text/plain": [
       "True"
      ]
     },
     "execution_count": 5,
     "metadata": {},
     "output_type": "execute_result"
    }
   ],
   "source": [
    "def isSymmetric( root=treeNode(               1,\n",
    "                            treeNode(2,\n",
    "                        treeNode(4),     treeNode(5)),          treeNode(2,\n",
    "                                                               treeNode(5),     treeNode(4)))):\n",
    "\n",
    "    def isMirror(p,q):\n",
    "        if p==None and q==None:\n",
    "            return True\n",
    "        if not p or not q or p.val!=q.val:\n",
    "            return False\n",
    "        return isMirror(p.left,q.right) and isMirror(p.right,q.left)\n",
    "\n",
    "    return isMirror(root.left,root.right)\n",
    "\n",
    "isSymmetric()"
   ]
  },
  {
   "cell_type": "markdown",
   "id": "43718d2f",
   "metadata": {},
   "source": [
    "## Max Colliniar points"
   ]
  },
  {
   "cell_type": "code",
   "execution_count": 191,
   "id": "24b53d9a",
   "metadata": {},
   "outputs": [
    {
     "data": {
      "text/plain": [
       "3"
      ]
     },
     "execution_count": 191,
     "metadata": {},
     "output_type": "execute_result"
    }
   ],
   "source": [
    "from collections import defaultdict\n",
    "def maxPoints(points=[[4,5],[4,-1],[4,0]]):\n",
    "    \"\"\"\n",
    "    :type points: List[List[int]]\n",
    "    :rtype: int\n",
    "    \"\"\"\n",
    "    line={}\n",
    "    coliniar=defaultdict(lambda: set())\n",
    "\n",
    "    points=sorted(points,key=lambda x:x[0])\n",
    "    for i in range(len(points)-1):\n",
    "        for j in range(i+1,len(points)):\n",
    "\n",
    "            if points[j][1]==points[i][1]:\n",
    "                sl=0\n",
    "                b=points[i][1]\n",
    "            elif points[j][0]==points[i][0]:\n",
    "                sl=points[j][0]\n",
    "                b=None\n",
    "            else:\n",
    "                sl=(points[j][1]-points[i][1])/(points[j][0]-points[i][0])\n",
    "                b=points[j][1]-(sl*points[j][0])#y=mx+b\n",
    "\n",
    "            coliniar[(sl,b)].add(i)\n",
    "            coliniar[(sl,b)].add(j)\n",
    "            \n",
    "\n",
    "    return max([len(coliniar[line]) for line in coliniar])\n",
    "maxPoints()"
   ]
  },
  {
   "cell_type": "code",
   "execution_count": 205,
   "id": "41551dbe",
   "metadata": {},
   "outputs": [
    {
     "data": {
      "text/plain": [
       "[<matplotlib.lines.Line2D at 0x7f8619466850>,\n",
       " <matplotlib.lines.Line2D at 0x7f8619466970>]"
      ]
     },
     "execution_count": 205,
     "metadata": {},
     "output_type": "execute_result"
    },
    {
     "data": {
      "image/png": "[encoded data removed]",
      "text/plain": [
       "<Figure size 432x288 with 1 Axes>"
      ]
     },
     "metadata": {
      "needs_background": "light"
     },
     "output_type": "display_data"
    }
   ],
   "source": [
    "import matplotlib.pyplot as plt\n",
    "import numpy as np\n",
    "points=[[0,0],[4,5],[7,8],[8,9],[5,6],[3,4],[1,1]]\n",
    "\n",
    "plt.plot(np.array(points),'*')\n"
   ]
  },
  {
   "cell_type": "markdown",
   "id": "59cb868d",
   "metadata": {},
   "source": [
    "# 283. Move Zeroes\n",
    "Easy\n",
    "12.3K\n",
    "308\n",
    "Companies\n",
    "Given an integer array nums, move all 0's to the end of it while maintaining the relative order of the non-zero elements.\n",
    "\n",
    "Note that you must do this in-place without making a copy of the array.\n",
    "\n",
    " \n",
    "\n",
    "Example 1:\n",
    "\n",
    "Input: nums = [0,1,0,3,12]\n",
    "Output: [1,3,12,0,0]\n",
    "Example 2:\n",
    "\n",
    "Input: nums = [0]\n",
    "Output: [0]"
   ]
  },
  {
   "cell_type": "code",
   "execution_count": 199,
   "id": "73e841e9",
   "metadata": {},
   "outputs": [
    {
     "data": {
      "text/plain": [
       "[1, 3, 12, 0, 0]"
      ]
     },
     "execution_count": 199,
     "metadata": {},
     "output_type": "execute_result"
    }
   ],
   "source": [
    "def moveZeroes( nums= [0,1,0,3,12]):\n",
    "\n",
    "    l=0\n",
    "\n",
    "    for r in range(len(nums)):\n",
    "        if nums[r]:\n",
    "            nums[l],nums[r]=nums[r],nums[l]\n",
    "            l+=1\n",
    "\n",
    "    return nums\n",
    "\n",
    "moveZeroes()"
   ]
  },
  {
   "cell_type": "markdown",
   "id": "007e739c",
   "metadata": {},
   "source": [
    "# 108. Convert Sorted Array to Binary Search Tree\n",
    "\n",
    "Given an integer array nums where the elements are sorted in ascending order, convert it to a \n",
    "height-balanced\n",
    " binary search tree.\n",
    "\n",
    " \n",
    "\n",
    "Example 1:\n",
    "\n",
    "\n",
    "Input: nums = [-10,-3,0,5,9]\n",
    "Output: [0,-3,9,-10,null,5]\n",
    "Explanation: [0,-10,5,null,-3,null,9] is also accepted:"
   ]
  },
  {
   "cell_type": "code",
   "execution_count": 12,
   "id": "cee9d9d7",
   "metadata": {},
   "outputs": [
    {
     "data": {
      "text/plain": [
       "<__main__.TreeNode at 0x7f975458a160>"
      ]
     },
     "execution_count": 12,
     "metadata": {},
     "output_type": "execute_result"
    }
   ],
   "source": [
    "class TreeNode:\n",
    "    def __init__(self,val=0,left=None,right=None):\n",
    "        self.val=val\n",
    "        self.left=left\n",
    "        self.right=right\n",
    "        \n",
    "def arraytoTree(nums=[-10,-3,0,5,9]):\n",
    "    l,r=0,len(nums)-1\n",
    "\n",
    "    def makeTree(l,r):\n",
    "        if l>r:\n",
    "            return \n",
    "        mid=(l+r)//2\n",
    "        root=TreeNode(nums[mid])\n",
    "        root.left=makeTree(l,mid-1)\n",
    "        root.right=makeTree(mid+1,r)\n",
    "        return root\n",
    "\n",
    "    return makeTree(l,r)\n",
    "\n",
    "arraytoTree()"
   ]
  },
  {
   "cell_type": "markdown",
   "id": "f31a1ba9",
   "metadata": {},
   "source": [
    "# 572. Subtree of Another Tree\n",
    "\n",
    "\n",
    "Given the roots of two binary trees root and subRoot, return true if there is a subtree of root with the same structure and node values of subRoot and false otherwise.\n",
    "\n",
    "A subtree of a binary tree tree is a tree that consists of a node in tree and all of this node's descendants. The tree tree could also be considered as a subtree of itself."
   ]
  },
  {
   "cell_type": "code",
   "execution_count": null,
   "id": "b62bcbfb",
   "metadata": {},
   "outputs": [],
   "source": [
    "class Solution(object):\n",
    "    def isSubtree(self, root, subRoot):\n",
    "        \"\"\"\n",
    "        :type root: TreeNode\n",
    "        :type subRoot: TreeNode\n",
    "        :rtype: bool\n",
    "        \"\"\"\n",
    "        if not root:\n",
    "            return False\n",
    "        if not subRoot:\n",
    "            return True\n",
    "        \n",
    "        def check_same(p,q):\n",
    "            if not p and not q:\n",
    "                return True\n",
    "            if not p or not q or p.val != q.val:\n",
    "                return False\n",
    "            return check_same(p.left,q.left) and check_same(p.right,q.right)\n",
    "        \n",
    "\n",
    "        if check_same(root,subRoot):\n",
    "            return True\n",
    "        return self.isSubtree(root.left,subRoot) or self.isSubtree(root.right,subRoot)"
   ]
  },
  {
   "cell_type": "markdown",
   "id": "777314eb",
   "metadata": {},
   "source": [
    "# 57. Insert Interval\n",
    "\n",
    "You are given an array of non-overlapping intervals intervals where intervals[i] = [starti, endi] represent the start and the end of the ith interval and intervals is sorted in ascending order by starti. You are also given an interval newInterval = [start, end] that represents the start and end of another interval.\n",
    "\n",
    "Insert newInterval into intervals such that intervals is still sorted in ascending order by starti and intervals still does not have any overlapping intervals (merge overlapping intervals if necessary).\n",
    "\n",
    "Return intervals after the insertion."
   ]
  },
  {
   "cell_type": "code",
   "execution_count": 18,
   "id": "390885bc",
   "metadata": {},
   "outputs": [
    {
     "data": {
      "text/plain": [
       "[[1, 2], [3, 10], [12, 16]]"
      ]
     },
     "execution_count": 18,
     "metadata": {},
     "output_type": "execute_result"
    }
   ],
   "source": [
    "def insert(intervals = [[1,2],[3,5],[6,7],[8,10],[12,16]], newInterval = [4,8]):\n",
    "    #binary search overlapping interval with the newInterval\n",
    "    res=[]\n",
    "    for i,v in enumerate(intervals):\n",
    "        if newInterval[1]<v[0]:\n",
    "            res.append(newInterval)\n",
    "            return res+intervals[i:]\n",
    "        \n",
    "        elif v[1]<newInterval[0]:\n",
    "            res.append(v)\n",
    "            \n",
    "        else:\n",
    "            newInterval=[min(v[0],newInterval[0]),max(v[1],newInterval[1])]\n",
    "    res.append(newInterval)\n",
    "    return res\n",
    "\n",
    "insert()"
   ]
  },
  {
   "cell_type": "markdown",
   "id": "03acca40",
   "metadata": {},
   "source": [
    "# 973. K Closest Points to Origin\n",
    "\n",
    "Given an array of points where points[i] = [xi, yi] represents a point on the X-Y plane and an integer k, return the k closest points to the origin (0, 0).\n",
    "\n",
    "The distance between two points on the X-Y plane is the Euclidean distance (i.e., √(x1 - x2)2 + (y1 - y2)2).\n",
    "\n",
    "You may return the answer in any order. The answer is guaranteed to be unique (except for the order that it is in)."
   ]
  },
  {
   "cell_type": "code",
   "execution_count": 23,
   "id": "bd5e0611",
   "metadata": {},
   "outputs": [
    {
     "data": {
      "text/plain": [
       "[[-2, 2]]"
      ]
     },
     "execution_count": 23,
     "metadata": {},
     "output_type": "execute_result"
    }
   ],
   "source": [
    "# O(n)\n",
    "from heapq import heapify,heappush,heappop\n",
    "def kClosest( points=[[1,3],[-2,2]], k=1):\n",
    "    dist,res=[],[]\n",
    "    heapify(dist)\n",
    "\n",
    "    for x,y in points:\n",
    "        heappush(dist,[x**2+y**2,x,y])\n",
    "\n",
    "    for i in range(k):\n",
    "        res.append(heappop(dist)[1:])\n",
    "\n",
    "    return res\n",
    "\n",
    "kClosest()"
   ]
  },
  {
   "cell_type": "code",
   "execution_count": 32,
   "id": "f38c0abc",
   "metadata": {},
   "outputs": [
    {
     "data": {
      "text/plain": [
       "False"
      ]
     },
     "execution_count": 32,
     "metadata": {},
     "output_type": "execute_result"
    }
   ],
   "source": [
    "def canFinish( numCourses=2, prerequisites=[[0,1],[1,0]]):\n",
    "    \"\"\"\n",
    "    :type numCourses: int\n",
    "    :type prerequisites: List[List[int]]\n",
    "    :rtype: bool\n",
    "    \"\"\"\n",
    "    dic={i:[] for i in range(numCourses)}\n",
    "    crsStatus=[0]*numCourses #0: not visited, 1: is processing, 2: processed\n",
    "\n",
    "    for crs,pre in prerequisites:\n",
    "        dic[crs].append(pre)\n",
    "    #print(dic,crsStatus)\n",
    "\n",
    "    def dfs(crs):\n",
    "        if dic[crs]==[]:\n",
    "            return True\n",
    "        if crsStatus[crs]==1:\n",
    "            return False\n",
    "        crsStatus[crs]=1\n",
    "\n",
    "        for pre in dic[crs]:\n",
    "            if not dfs(pre):\n",
    "                return False\n",
    "            dic[crs].remove(pre)\n",
    "        crsStatus[crs]=2\n",
    "        return True\n",
    "\n",
    "    return dfs(0)\n",
    "\n",
    "canFinish()"
   ]
  },
  {
   "cell_type": "markdown",
   "id": "d9b78a51",
   "metadata": {},
   "source": [
    "# Implement Trie (Prefix Tree)\n",
    "\n",
    "A trie (pronounced as \"try\") or prefix tree is a tree data structure used to efficiently store and retrieve keys in a dataset of strings. There are various applications of this data structure, such as autocomplete and spellchecker.\n",
    "\n",
    "Implement the Trie class:\n",
    "\n",
    "Trie() Initializes the trie object.\n",
    "void insert(String word) Inserts the string word into the trie.\n",
    "boolean search(String word) Returns true if the string word is in the trie (i.e., was inserted before), and false otherwise.\n",
    "boolean startsWith(String prefix) Returns true if there is a previously inserted string word that has the prefix prefix, and false otherwise.Prefic Trees (Tri)"
   ]
  },
  {
   "cell_type": "code",
   "execution_count": 51,
   "id": "515ce046",
   "metadata": {},
   "outputs": [
    {
     "name": "stdout",
     "output_type": "stream",
     "text": [
      "False\n",
      "True\n"
     ]
    },
    {
     "data": {
      "text/plain": [
       "False"
      ]
     },
     "execution_count": 51,
     "metadata": {},
     "output_type": "execute_result"
    }
   ],
   "source": [
    "class triNode:\n",
    "    def __init__(self):\n",
    "        self.children={}\n",
    "        self.isend=False\n",
    "\n",
    "class Trie(object):\n",
    "\n",
    "    def __init__(self):\n",
    "        self.head=triNode()\n",
    "    \n",
    "    def insert(self, word):\n",
    "        cur=self.head\n",
    "        for ch in word:\n",
    "            if not ch in cur.children:\n",
    "                cur.children[ch]=triNode()\n",
    "            cur=cur.children[ch]         \n",
    "        cur.isend=True\n",
    "        \n",
    "\n",
    "    def search(self, word): \n",
    "        cur=self.head\n",
    "        for ch in word:\n",
    "            if not ch in cur.children:\n",
    "                return False\n",
    "            cur=cur.children[ch]\n",
    "        return cur.isend\n",
    "              \n",
    "\n",
    "    def startsWith(self, prefix):\n",
    "\n",
    "        cur=self.head\n",
    "        for ch in prefix:\n",
    "            if not ch in cur.children:\n",
    "                return False\n",
    "            cur=cur.children[ch]\n",
    "        return True\n",
    "        \n",
    "\n",
    "\n",
    "# Your Trie object will be instantiated and called as such:\n",
    "obj = Trie()\n",
    "obj.insert('apple')\n",
    "print(obj.search('fruit'))\n",
    "print(obj.startsWith('app'))\n",
    "\n",
    "txt='A trie ( pronounced as try ) or prefix tree is a tree data structure used to efficiently store and retrieve keys in a dataset of strings. There are various applications of this data structure, such as autocomplete and spellchecker.'\n",
    "txt=txt.split(' ')\n",
    "\n",
    "for word in txt:\n",
    "    obj.insert(word)\n",
    "    \n",
    "obj.startsWith('tz')"
   ]
  },
  {
   "cell_type": "markdown",
   "id": "462fcadc",
   "metadata": {},
   "source": [
    "# Check Monotone:\n",
    "    "
   ]
  },
  {
   "cell_type": "code",
   "execution_count": 67,
   "id": "2860c871",
   "metadata": {},
   "outputs": [
    {
     "data": {
      "text/plain": [
       "False"
      ]
     },
     "execution_count": 67,
     "metadata": {},
     "output_type": "execute_result"
    }
   ],
   "source": [
    "def checkMonotone(s='01110'):\n",
    "    state=0\n",
    "    i=0\n",
    "    while i<len(s) and state==0:\n",
    "        if s[i]=='1':\n",
    "            state=1\n",
    "            break\n",
    "        i+=1\n",
    "\n",
    "    while i<len(s) and state==1:\n",
    "        if s[i]=='0':\n",
    "            return False\n",
    "        i+=1\n",
    "    return i==len(s)\n",
    "\n",
    "checkMonotone()\n",
    "    "
   ]
  },
  {
   "cell_type": "markdown",
   "id": "b795ef92",
   "metadata": {},
   "source": [
    "# Flip String to Monotone Increasing\n",
    "\n",
    "A binary string is monotone increasing if it consists of some number of 0's (possibly none), followed by some number of 1's (also possibly none).\n",
    "\n",
    "You are given a binary string s. You can flip s[i] changing it from 0 to 1 or from 1 to 0.\n",
    "\n",
    "Return the minimum number of flips to make s monotone increasing.\n",
    "\n",
    " \n",
    "\n",
    "Example 1:\n",
    "\n",
    "Input: s = \"00110\"\n",
    "Output: 1\n",
    "Explanation: We flip the last digit to get 00111."
   ]
  },
  {
   "cell_type": "code",
   "execution_count": 73,
   "id": "eaf1bba0",
   "metadata": {},
   "outputs": [
    {
     "data": {
      "text/plain": [
       "1"
      ]
     },
     "execution_count": 73,
     "metadata": {},
     "output_type": "execute_result"
    }
   ],
   "source": [
    "def minFlipsMonoIncr( s=\"00110\"):\n",
    "    cntOne=0\n",
    "    res=0\n",
    "\n",
    "    for ch in s:\n",
    "        if ch=='1':\n",
    "            cntOne+=1\n",
    "        else:\n",
    "            res=min(res+1,cntOne)\n",
    "    return res\n",
    "\n",
    "minFlipsMonoIncr()"
   ]
  },
  {
   "cell_type": "markdown",
   "id": "ff7859da",
   "metadata": {},
   "source": [
    "# 918. Maximum Sum Circular Subarray\n",
    "Given a circular integer array nums of length n, return the maximum possible sum of a non-empty subarray of nums.\n",
    "\n",
    "A circular array means the end of the array connects to the beginning of the array. Formally, the next element of nums[i] is nums[(i + 1) % n] and the previous element of nums[i] is nums[(i - 1 + n) % n].\n",
    "\n",
    "A subarray may only include each element of the fixed buffer nums at most once. Formally, for a subarray nums[i], nums[i + 1], ..., nums[j], there does not exist i <= k1, k2 <= j with k1 % n == k2 % n."
   ]
  },
  {
   "cell_type": "code",
   "execution_count": 75,
   "id": "6bfcb6ac",
   "metadata": {},
   "outputs": [
    {
     "data": {
      "text/plain": [
       "8"
      ]
     },
     "execution_count": 75,
     "metadata": {},
     "output_type": "execute_result"
    }
   ],
   "source": [
    "def maxSubarraySumCircular(nums=[-5,3,5]):\n",
    "    curmax=totmax=curmin=totmin=totsum=nums[0]\n",
    "    for i in range(1,len(nums)):\n",
    "        curmax=max(nums[i]+curmax,nums[i])\n",
    "        curmin=min(nums[i]+curmin,nums[i])\n",
    "\n",
    "        totmax=max(totmax,curmax)\n",
    "        totmin=min(totmin,curmin)\n",
    "        totsum+=nums[i]\n",
    "\n",
    "    return totmax if totmax<0 else max(totmax,totsum-totmin)\n",
    "\n",
    "maxSubarraySumCircular()"
   ]
  },
  {
   "cell_type": "markdown",
   "id": "691af742",
   "metadata": {},
   "source": [
    "# 239. Sliding Window Maximum\n",
    "Hard\n",
    "\n",
    "You are given an array of integers nums, there is a sliding window of size k which is moving from the very left of the array to the very right. You can only see the k numbers in the window. Each time the sliding window moves right by one position.\n",
    "\n",
    "Return the max sliding window.\n",
    "\n",
    " \n",
    "\n",
    "Example 1:\n",
    "\n",
    "Input: nums = [1,3,-1,-3,5,3,6,7], k = 3\n",
    "Output: [3,3,5,5,6,7]"
   ]
  },
  {
   "cell_type": "code",
   "execution_count": 78,
   "id": "8d68befd",
   "metadata": {},
   "outputs": [
    {
     "data": {
      "text/plain": [
       "[3, 3, 5, 5, 6, 7]"
      ]
     },
     "execution_count": 78,
     "metadata": {},
     "output_type": "execute_result"
    }
   ],
   "source": [
    "from collections import deque \n",
    "\n",
    "def maxSlidingWindow( nums = [1,3,-1,-3,5,3,6,7], k = 3 ):\n",
    "    res=[]\n",
    "    q=deque()\n",
    "    l=r=0\n",
    "\n",
    "    while r<len(nums):\n",
    "        #remove smaller items from q before adding to make q always decreasing\n",
    "        while q and nums[q[-1]]<nums[r]:\n",
    "            q.pop()\n",
    "        q.append(r)\n",
    "\n",
    "        #check for window left bound\n",
    "        if l>q[0]:\n",
    "            q.popleft()\n",
    "\n",
    "        if (r+1)>=k:\n",
    "            res.append(nums[q[0]])\n",
    "            l+=1\n",
    "        r+=1\n",
    "    return res\n",
    "\n",
    "maxSlidingWindow()"
   ]
  },
  {
   "cell_type": "code",
   "execution_count": 30,
   "id": "00728d35",
   "metadata": {},
   "outputs": [
    {
     "data": {
      "text/plain": [
       "[3, 3, 5, 5, 6, 7]"
      ]
     },
     "execution_count": 30,
     "metadata": {},
     "output_type": "execute_result"
    }
   ],
   "source": [
    "from collections import deque\n",
    "\n",
    "\n",
    "def find_max_sliding_window(nums= [1,3,-1,-3,5,3,6,7], window_size=3):\n",
    "    result = []\n",
    "    window = deque()\n",
    "    \n",
    "    if window_size > len(nums):\n",
    "        window_size = len(nums)\n",
    "    for i in range(window_size):\n",
    "        while window and nums[i] >= nums[window[-1]]:\n",
    "            window.pop()\n",
    "        window.append(i)\n",
    "    result.append(nums[window[0]])\n",
    "    for i in range(window_size, len(nums)):\n",
    "        while window and nums[i] >= nums[window[-1]]:\n",
    "            window.pop()\n",
    "        if window and window[0] <= (i - window_size):\n",
    "            window.popleft()\n",
    "        window.append(i)\n",
    "        result.append(nums[window[0]])\n",
    "    return result\n",
    "\n",
    "find_max_sliding_window()"
   ]
  },
  {
   "cell_type": "markdown",
   "id": "f787ccb1",
   "metadata": {},
   "source": [
    "# 155. Min Stack\n",
    "\n",
    "Design a stack that supports push, pop, top, and retrieving the minimum element in constant time.\n",
    "\n",
    "Implement the MinStack class:\n",
    "\n",
    "MinStack() initializes the stack object.\n",
    "void push(int val) pushes the element val onto the stack.\n",
    "void pop() removes the element on the top of the stack.\n",
    "int top() gets the top element of the stack.\n",
    "int getMin() retrieves the minimum element in the stack.\n",
    "You must implement a solution with O(1) time complexity for each function."
   ]
  },
  {
   "cell_type": "code",
   "execution_count": 79,
   "id": "ee3598eb",
   "metadata": {},
   "outputs": [],
   "source": [
    "class MinStack(object):\n",
    "\n",
    "    def __init__(self):\n",
    "        self.stk=[]\n",
    "        self.minstk=[]\n",
    "        \n",
    "    def push(self, val):\n",
    "        self.stk.append(val) \n",
    "        self.minstk.append( val if not self.minstk else min(val, self.minstk[-1]) )\n",
    "            \n",
    "        \n",
    "    def pop(self):\n",
    "        if not self.stk:\n",
    "            return \n",
    "        self.stk.pop()\n",
    "        self.minstk.pop()\n",
    "\n",
    "    def top(self):\n",
    "        if not self.stk:\n",
    "            return \n",
    "        return self.stk[-1]\n",
    "        \n",
    "\n",
    "    def getMin(self):\n",
    "        if self.minstk:\n",
    "            return \n",
    "        return self.minstk[-1]"
   ]
  },
  {
   "cell_type": "markdown",
   "id": "e8b76ded",
   "metadata": {},
   "source": [
    "# Non decreasing sub sequeneces of an array491. Non-decreasing Subsequences\n",
    "\n",
    "Given an integer array nums, return all the different possible non-decreasing subsequences of the given array with at least two elements. You may return the answer in any order.\n",
    "\n",
    " \n",
    "\n",
    "Example 1:\n",
    "\n",
    "Input: nums = [4,6,7,7]\n",
    "Output: [[4,6],[4,6,7],[4,6,7,7],[4,7],[4,7,7],[6,7],[6,7,7],[7,7]]"
   ]
  },
  {
   "cell_type": "code",
   "execution_count": 129,
   "id": "bc5d3f67",
   "metadata": {},
   "outputs": [
    {
     "data": {
      "text/plain": [
       "{(4, 6), (4, 6, 7), (4, 6, 7, 7), (4, 7), (4, 7, 7), (6, 7), (6, 7, 7), (7, 7)}"
      ]
     },
     "execution_count": 129,
     "metadata": {},
     "output_type": "execute_result"
    }
   ],
   "source": [
    "def findSubsequences( nums=[4,6,7,7]):\n",
    "    \"\"\"\n",
    "    :type nums: List[int]\n",
    "    :rtype: List[List[int]]\n",
    "    \"\"\"\n",
    "    res=set()\n",
    "\n",
    "    def bt(i,subseq):\n",
    "        if  len(subseq)>1:\n",
    "            res.add(tuple(subseq))\n",
    "\n",
    "        if i==len(nums):\n",
    "            return\n",
    "\n",
    "        if  not subseq or nums[i]>=subseq[-1]:\n",
    "            bt(i+1,subseq+[nums[i]])\n",
    "        bt(i+1,subseq)\n",
    "\n",
    "    bt(0,[])\n",
    "    return res\n",
    "\n",
    "findSubsequences()"
   ]
  },
  {
   "cell_type": "markdown",
   "id": "3980f08a",
   "metadata": {},
   "source": [
    "# 2023 ^"
   ]
  },
  {
   "cell_type": "markdown",
   "id": "d41161b3",
   "metadata": {},
   "source": [
    "# 2022 >"
   ]
  },
  {
   "cell_type": "markdown",
   "id": "d86ec549",
   "metadata": {},
   "source": [
    "### 1.Two Sum"
   ]
  },
  {
   "cell_type": "code",
   "execution_count": 10,
   "id": "b51aab85",
   "metadata": {},
   "outputs": [
    {
     "data": {
      "text/plain": [
       "(1, 2)"
      ]
     },
     "execution_count": 10,
     "metadata": {},
     "output_type": "execute_result"
    }
   ],
   "source": [
    "def two_sum(nums,target):\n",
    "    n=len(nums)\n",
    "    dict_pairs={}\n",
    "    for i in range (n):\n",
    "        if not nums[i] in dict_pairs:\n",
    "            dict_pairs[target-nums[i]]=i\n",
    "        else:\n",
    "            return (dict_pairs[nums[i]],i)\n",
    "    return -1\n",
    "\n",
    "nums=[1,2,3,4]\n",
    "two_sum(nums,5)"
   ]
  },
  {
   "cell_type": "code",
   "execution_count": 20,
   "id": "d1756609",
   "metadata": {},
   "outputs": [
    {
     "data": {
      "text/plain": [
       "[(1, 3, 0)]"
      ]
     },
     "execution_count": 20,
     "metadata": {},
     "output_type": "execute_result"
    }
   ],
   "source": [
    "def threeSum(nums=[2,1,-4,-3,5,6],target=0):\n",
    "    \n",
    "    res=[]\n",
    "    for j in range (len(nums)):\n",
    "        rem=target-nums[j]\n",
    "        dic ={}\n",
    "        for i in range (j,len(nums)):\n",
    "            if j!=i:\n",
    "                if nums[i] not in dic :\n",
    "                    dic[rem-nums[i]]=i\n",
    "                else:\n",
    "                    res.append(( dic[nums[i]],i,j))\n",
    "    return res\n",
    "\n",
    "threeSum()"
   ]
  },
  {
   "cell_type": "markdown",
   "id": "1fd121da",
   "metadata": {},
   "source": [
    "## 3. Best Time to Buy and Sell Stock"
   ]
  },
  {
   "cell_type": "markdown",
   "id": "b978c20c",
   "metadata": {},
   "source": [
    "You are given an array prices where prices[i] is the price of a given stock on the ith day.\n",
    "You want to maximize your profit by choosing a single day to buy one stock and choosing a different day in the future to sell that stock.\n",
    "Return the maximum profit you can achieve from this transaction. If you cannot achieve any profit, return 0.\n",
    "Example 1:\n",
    "\n",
    "Input: prices = [7,1,5,3,6,4]\n",
    "Output: 5\n",
    "Explanation: Buy on day 2 (price = 1) and sell on day 5 (price = 6), profit = 6-1 = 5.\n",
    "Note that buying on day 2 and selling on day 1 is not allowed because you must buy before you sell."
   ]
  },
  {
   "cell_type": "code",
   "execution_count": 30,
   "id": "aad5d66f",
   "metadata": {},
   "outputs": [
    {
     "data": {
      "text/plain": [
       "5"
      ]
     },
     "execution_count": 30,
     "metadata": {},
     "output_type": "execute_result"
    }
   ],
   "source": [
    "def maxProfit(prices=[7,1,5,3,6,4] ):\n",
    "    l,r=0,1\n",
    "    n=len(prices)\n",
    "    max_p=0\n",
    "    while r<n:\n",
    "        if prices[l]<prices[r]:\n",
    "            profit=prices[r]-prices[l]\n",
    "            max_p=max(profit,max_p)\n",
    "        else:\n",
    "            l=l+1\n",
    "        r+=1\n",
    "    return max_p\n",
    "\n",
    "maxProfit()"
   ]
  },
  {
   "cell_type": "markdown",
   "id": "81b28f7f",
   "metadata": {},
   "source": [
    "## 4. Contains Duplicate"
   ]
  },
  {
   "cell_type": "markdown",
   "id": "e97487c4",
   "metadata": {},
   "source": [
    "Given an integer array nums, return true if any value appears at least twice in the array, and return false if every element is distinct.\n",
    "Example 1:\n",
    "\n",
    "Input: nums = [1,2,3,1]\n",
    "Output: true"
   ]
  },
  {
   "cell_type": "code",
   "execution_count": 20,
   "id": "47ae84a8",
   "metadata": {},
   "outputs": [
    {
     "data": {
      "text/plain": [
       "True"
      ]
     },
     "execution_count": 20,
     "metadata": {},
     "output_type": "execute_result"
    }
   ],
   "source": [
    "def check_duplicate(nums=[1,2,3,1]):\n",
    "    n=len(nums)\n",
    "    numSet=set()\n",
    "    for i in range(n):\n",
    "        if nums[i] in numSet:\n",
    "            return True\n",
    "        else:\n",
    "            numSet.add(nums[i])\n",
    "    return False\n",
    "\n",
    "check_duplicate()"
   ]
  },
  {
   "cell_type": "markdown",
   "id": "258ac1d8",
   "metadata": {},
   "source": [
    "### 5.Product of Array Except Self"
   ]
  },
  {
   "cell_type": "markdown",
   "id": "e8463532",
   "metadata": {},
   "source": [
    "Given an integer array nums, return an array answer such that answer[i] is equal to the product of all the elements of nums except nums[i].\n",
    "\n",
    "The product of any prefix or suffix of nums is guaranteed to fit in a 32-bit integer.\n",
    "\n",
    "You must write an algorithm that runs in O(n) time and without using the division operation.\n",
    "\n"
   ]
  },
  {
   "cell_type": "code",
   "execution_count": 32,
   "id": "481c2c38",
   "metadata": {},
   "outputs": [
    {
     "name": "stdout",
     "output_type": "stream",
     "text": [
      "[1, 5, 10, 30]\n",
      "3 30\n",
      "2 40\n",
      "1 60\n",
      "0 24\n",
      "[24, 60, 40, 30] [24, 60, 40, 30]\n"
     ]
    }
   ],
   "source": [
    "def prod_except_self(nums=[5,2,3,4]):\n",
    "    prodAll=1\n",
    "    n=len(nums)\n",
    "    ans=[0]*n\n",
    "    for i in  range(n):\n",
    "        prodAll*=nums[i]\n",
    "    for i in range(n):\n",
    "        ans[i]=prodAll/nums[i]\n",
    "    return ans\n",
    "\n",
    "\n",
    "\n",
    "def prod_except_self2(nums=[5,2,3,4]):\n",
    "    n=len(nums)\n",
    "    ans=[0]*n\n",
    "    prefix=1\n",
    "    \n",
    "    for i in range(n):\n",
    "        ans[i]=prefix\n",
    "        prefix*=nums[i]\n",
    "    print(ans)\n",
    "        \n",
    "    postfix=1\n",
    "    for i in range(n-1,-1,-1):\n",
    "        ans[i]*=postfix\n",
    "        postfix*=nums[i]\n",
    "        print(i,ans[i])\n",
    "    return ans\n",
    "\n",
    "def product_except_slef3(nums=[5,2,3,4]):\n",
    "    n=len(nums)\n",
    "    prefix=[1]*n\n",
    "    postfix=[1]*n\n",
    "    res=[0]*n\n",
    "    prefix[0]=nums[0]\n",
    "    postfix[n-1]=nums[n-1]\n",
    "    \n",
    "    for i in range(1,n):\n",
    "        prefix[i]=prefix[i-1]*nums[i]\n",
    "    for i in range(n-2,-1,-1):\n",
    "        postfix[i]=postfix[i+1]*nums[i]\n",
    "    for i in range(n):\n",
    "        res[i]=(prefix[i-1] if i!=0 else 1) * (postfix[i+1] if i!=n-1 else 1)\n",
    "    return res\n",
    "        \n",
    "    \n",
    "\n",
    "print(prod_except_self2(),product_except_slef3())\n",
    "        "
   ]
  },
  {
   "cell_type": "markdown",
   "id": "16571424",
   "metadata": {},
   "source": [
    "# Maximum Subarray"
   ]
  },
  {
   "cell_type": "markdown",
   "id": "0d0f542a",
   "metadata": {},
   "source": [
    "Given an integer array nums, find the contiguous subarray (containing at least one number) which has the largest sum and return its sum.\n",
    "\n",
    "A subarray is a contiguous part of an array.\n",
    "Example 1:\n",
    "\n",
    "Input: nums = [-2,1,-3,4,-1,2,1,-5,4]\n",
    "Output: 6\n",
    "Explanation: [4,-1,2,1] has the largest sum = 6."
   ]
  },
  {
   "cell_type": "code",
   "execution_count": 30,
   "id": "07ec057c",
   "metadata": {},
   "outputs": [
    {
     "data": {
      "text/plain": [
       "6"
      ]
     },
     "execution_count": 30,
     "metadata": {},
     "output_type": "execute_result"
    }
   ],
   "source": [
    "def maxSubArray(nums=[-2,1,-3,4,-1,2,1,-5,4]):\n",
    "    curSum=maxSum=nums[0]\n",
    "    n=len(nums)\n",
    "    for i in range(1,n):\n",
    "        curSum=max(nums[i],nums[i]+curSum)\n",
    "        maxSum=max(curSum,maxSum)\n",
    "    return maxSum\n",
    "\n",
    "maxSubArray()"
   ]
  },
  {
   "cell_type": "markdown",
   "id": "8816e695",
   "metadata": {},
   "source": [
    "# Valid Paranteces "
   ]
  },
  {
   "cell_type": "markdown",
   "id": "9e1c4f02",
   "metadata": {},
   "source": [
    "Given a string s containing just the characters '(', ')', '{', '}', '[' and ']', determine if the input string is valid.\n",
    "\n",
    "An input string is valid if:\n",
    "\n",
    "Open brackets must be closed by the same type of brackets.\n",
    "Open brackets must be closed in the correct order.\n",
    " \n",
    "\n",
    "Example 1:\n",
    "\n",
    "Input: s = \"()\"\n",
    "Output: true\n",
    "Example 2:\n",
    "\n",
    "Input: s = \"()[]{}\"\n",
    "Output: true"
   ]
  },
  {
   "cell_type": "code",
   "execution_count": 73,
   "id": "917116c9",
   "metadata": {},
   "outputs": [
    {
     "data": {
      "text/plain": [
       "False"
      ]
     },
     "execution_count": 73,
     "metadata": {},
     "output_type": "execute_result"
    }
   ],
   "source": [
    "def validParanteces(s=')'):\n",
    "    stk=[]\n",
    "    char_dict={'(':')','[':']','{':'}'}\n",
    "    for ch in s:\n",
    "        if ch in char_dict:\n",
    "            stk.append(char_dict[ch])\n",
    "        elif stk and ch == stk[-1]:\n",
    "            stk.pop()\n",
    "        else:\n",
    "            return False\n",
    "        print(stk)\n",
    "    if stk==[]:\n",
    "        return True\n",
    "    else :\n",
    "        return False\n",
    "    \n",
    "    \n",
    "validParanteces()"
   ]
  },
  {
   "cell_type": "markdown",
   "id": "1e64cdc3",
   "metadata": {},
   "source": [
    "# Valid Palindrome"
   ]
  },
  {
   "cell_type": "code",
   "execution_count": 124,
   "id": "2a907b2b",
   "metadata": {},
   "outputs": [
    {
     "data": {
      "text/plain": [
       "True"
      ]
     },
     "execution_count": 124,
     "metadata": {},
     "output_type": "execute_result"
    }
   ],
   "source": [
    "def valiPalindrome(s='aa aa,xaaa /\"]a'):\n",
    "    if len(s)<=1:\n",
    "        return True\n",
    "    else:\n",
    "        s=[ch.lower() for ch in str(s) if ch.isalnum()]\n",
    "        l,r=0,len(s)-1\n",
    "        while l<r:\n",
    "            if s[l]==s[r]:\n",
    "                l+=1\n",
    "                r-=1\n",
    "            else:\n",
    "                return False\n",
    "        return True\n",
    "    \n",
    "valiPalindrome()"
   ]
  },
  {
   "cell_type": "markdown",
   "id": "1d652879",
   "metadata": {},
   "source": [
    "# Valid Anagram"
   ]
  },
  {
   "cell_type": "markdown",
   "id": "12b89915",
   "metadata": {},
   "source": [
    "Given two strings s and t, return true if t is an anagram of s, and false otherwise.\n",
    "\n",
    "An Anagram is a word or phrase formed by rearranging the letters of a different word or phrase, typically using all the original letters exactly once.\n",
    "\n",
    "Example 1:\n",
    "\n",
    "Input: s = \"anagram\", t = \"nagaram\"\n",
    "Output: true"
   ]
  },
  {
   "cell_type": "code",
   "execution_count": 36,
   "id": "347e2acc",
   "metadata": {},
   "outputs": [
    {
     "data": {
      "text/plain": [
       "True"
      ]
     },
     "execution_count": 36,
     "metadata": {},
     "output_type": "execute_result"
    }
   ],
   "source": [
    "def validAnagram(s=\"anagram\",t=\"nagaram\"):\n",
    "    charDict={}\n",
    "    n=len(s)\n",
    "    m=len(t)\n",
    "    if not n==m:\n",
    "        return False\n",
    "    charDict={}\n",
    "    for i in range(n):\n",
    "        charDict[s[i]]=charDict.get(s[i],0)+1\n",
    "    for i in range(n):\n",
    "        charDict[t[i]]=charDict.get(t[i],0)-1\n",
    "    if not any(charDict.values())==0:\n",
    "        return False\n",
    "    return True\n",
    "\n",
    "validAnagram()"
   ]
  },
  {
   "cell_type": "markdown",
   "id": "564176ee",
   "metadata": {},
   "source": [
    "# Check if a binary tree is balanced"
   ]
  },
  {
   "cell_type": "markdown",
   "id": "14e29325",
   "metadata": {},
   "source": [
    "Given a binary tree, determine if it is height-balanced.\n",
    "\n",
    "For this problem, a height-balanced binary tree is defined as:\n",
    "\n",
    "a binary tree in which the left and right subtrees of every node differ in height by no more than 1.\n",
    "\n",
    "Example 1:\n",
    "Input: root = [3,9,20,null,null,15,7]\n",
    "Output: true\n"
   ]
  },
  {
   "cell_type": "code",
   "execution_count": 21,
   "id": "3eddd4f6",
   "metadata": {},
   "outputs": [],
   "source": [
    "class treeNode:\n",
    "    def __init__(self,val=0,left=None,right=None):\n",
    "        self.val=val\n",
    "        self.left=left\n",
    "        self.right=right\n",
    "        "
   ]
  },
  {
   "cell_type": "code",
   "execution_count": 22,
   "id": "7cb55f78",
   "metadata": {},
   "outputs": [],
   "source": [
    "def checkTreeBalanced(root):\n",
    "    def dfs(root):\n",
    "        if not root:\n",
    "            return [True,0]\n",
    "        left,right=dfs(root.left),dfs(root.right)\n",
    "        balanced=left[0] and right[0] and abs(left[1]-right[1])<2\n",
    "        return [balanced,1+max(left[1],right[1])]\n",
    "    \n",
    "    return dfs(root)[0],dfs(root)[1]"
   ]
  },
  {
   "cell_type": "code",
   "execution_count": 23,
   "id": "d4a25414",
   "metadata": {},
   "outputs": [
    {
     "data": {
      "text/plain": [
       "(True, 2)"
      ]
     },
     "execution_count": 23,
     "metadata": {},
     "output_type": "execute_result"
    }
   ],
   "source": [
    "root=treeNode(10,treeNode(2),treeNode(30))\n",
    "checkTreeBalanced(root)"
   ]
  },
  {
   "cell_type": "markdown",
   "id": "89241071",
   "metadata": {},
   "source": [
    "# Lowest Common Ancestor of a Binary Search Tree\n"
   ]
  },
  {
   "cell_type": "markdown",
   "id": "ccc84662",
   "metadata": {},
   "source": [
    "\n",
    "Given a binary search tree (BST), find the lowest common ancestor (LCA) node of two given nodes in the BST.\n",
    "\n",
    "According to the definition of LCA on Wikipedia: “The lowest common ancestor is defined between two nodes p and q as the lowest node in T that has both p and q as descendants (where we allow a node to be a descendant of itself).”\n",
    "\n",
    "\n",
    "Example 1:\n",
    "\n",
    "Input: root = [6,2,8,0,4,7,9,null,null,3,5], p = 2, q = 8\n",
    "Output: 6\n",
    "Explanation: The LCA of nodes 2 and 8 is 6."
   ]
  },
  {
   "cell_type": "code",
   "execution_count": 34,
   "id": "5a048f3a",
   "metadata": {},
   "outputs": [
    {
     "data": {
      "text/plain": [
       "10"
      ]
     },
     "execution_count": 34,
     "metadata": {},
     "output_type": "execute_result"
    }
   ],
   "source": [
    "def lca(root,p,q):\n",
    "    if p==root or q==root:\n",
    "        return root.val\n",
    "    if root.val>p.val and root.val>q.val:\n",
    "        return lca(root.left,p,q)\n",
    "    if root.val<p.val and root.val<q.val:\n",
    "        return lca(root.right,p,q)\n",
    "    return root.val\n",
    "lca(root,root.left,root.right)"
   ]
  },
  {
   "cell_type": "markdown",
   "id": "6ace8074",
   "metadata": {},
   "source": [
    "### LCA in a non BST tree"
   ]
  },
  {
   "cell_type": "code",
   "execution_count": 92,
   "id": "91890b93",
   "metadata": {},
   "outputs": [],
   "source": [
    "def lca2( root, p, q):\n",
    "\n",
    "    if not root:return \n",
    "\n",
    "    if root==p or root==q:\n",
    "        return root\n",
    "\n",
    "    left=self.lca2(root.left,p,q)\n",
    "    right=self.lca2(root.right,p,q)\n",
    "    if not left:\n",
    "        return right\n",
    "    if not right:\n",
    "        return left\n",
    "\n",
    "    return root"
   ]
  },
  {
   "cell_type": "markdown",
   "id": "caca0514",
   "metadata": {},
   "source": [
    "# Merge Two Sorted Lists"
   ]
  },
  {
   "cell_type": "markdown",
   "id": "dba1da0e",
   "metadata": {},
   "source": [
    "You are given the heads of two sorted linked lists list1 and list2.\n",
    "\n",
    "Merge the two lists in a one sorted list. The list should be made by splicing together the nodes of the first two lists.\n",
    "\n",
    "Return the head of the merged linked list. \n",
    "\n",
    "Example 1:\n",
    "\n",
    "Input: list1 = [1,2,4], list2 = [1,3,5]\n",
    "Output: [1,1,2,3,4,5]"
   ]
  },
  {
   "cell_type": "code",
   "execution_count": 32,
   "id": "7e9672fe",
   "metadata": {},
   "outputs": [
    {
     "name": "stdout",
     "output_type": "stream",
     "text": [
      "1 1 2 3 4 5 "
     ]
    }
   ],
   "source": [
    "class listNode:\n",
    "    def __init__(self, val=0,next=None):\n",
    "        self.val=val\n",
    "        self.next=next\n",
    "        \n",
    "def printList(list1=listNode(1,listNode(2,listNode(4)))):\n",
    "    cur=list1\n",
    "    while cur:\n",
    "        print(cur.val,end=' ')\n",
    "        cur=cur.next\n",
    "    \n",
    "      \n",
    "def mergeSortedLists(list1=listNode(1,listNode(2,listNode(4))),list2=listNode(1,listNode(3,listNode(5)))):\n",
    "    dummyNode=listNode()\n",
    "    cur=dummyNode\n",
    "    p1=list1\n",
    "    p2=list2\n",
    "    while p1 and p2:\n",
    "        if p1.val<p2.val:\n",
    "            cur.next=p1\n",
    "            p1=p1.next\n",
    "        else:\n",
    "            cur.next=p2\n",
    "            p2=p2.next\n",
    "        cur=cur.next\n",
    "    if p1:\n",
    "        cur.next=p1\n",
    "    if p2:\n",
    "        cur.next=p2\n",
    "    return dummyNode.next\n",
    "\n",
    "\n",
    "merged=mergeSortedLists()\n",
    "printList(merged)"
   ]
  },
  {
   "cell_type": "markdown",
   "id": "08e9c1aa",
   "metadata": {},
   "source": [
    "# Linked list has cycle"
   ]
  },
  {
   "cell_type": "code",
   "execution_count": 33,
   "id": "663fb7fa",
   "metadata": {},
   "outputs": [
    {
     "data": {
      "text/plain": [
       "True"
      ]
     },
     "execution_count": 33,
     "metadata": {},
     "output_type": "execute_result"
    }
   ],
   "source": [
    "def hasCycle(head):\n",
    "    if not head or not head.next:\n",
    "        return False\n",
    "    slow=fast=head\n",
    "    while fast and fast.next:\n",
    "        slow=slow.next\n",
    "        fast=fast.next.next\n",
    "        if slow==fast:\n",
    "            return True\n",
    "    return False\n",
    "\n",
    "n1= listNode(1)\n",
    "n2=listNode(2)\n",
    "n3=listNode(3)\n",
    "n1.next=n2\n",
    "n2.next=n3\n",
    "n3.next=n1\n",
    "\n",
    "hasCycle(n1)\n"
   ]
  },
  {
   "cell_type": "markdown",
   "id": "8240aa2e",
   "metadata": {},
   "source": [
    "# Flood Fill\n"
   ]
  },
  {
   "cell_type": "markdown",
   "id": "645c2030",
   "metadata": {},
   "source": [
    "\n",
    "An image is represented by an m x n integer grid image where image[i][j] represents the pixel value of the image.\n",
    "\n",
    "You are also given three integers sr, sc, and color. You should perform a flood fill on the image starting from the pixel image[sr][sc].\n",
    "\n",
    "To perform a flood fill, consider the starting pixel, plus any pixels connected 4-directionally to the starting pixel of the same color as the starting pixel, plus any pixels connected 4-directionally to those pixels (also with the same color), and so on. Replace the color of all of the aforementioned pixels with color.\n",
    "\n",
    "Return the modified image after performing the flood fill.\n",
    "\n",
    "Example 1:\n",
    "\n",
    "Input: image = [[1,1,1],[1,1,0],[1,0,1]], sr = 1, sc = 1, color = 2\n",
    "Output: [[2,2,2],[2,2,0],[2,0,1]]\n",
    "Explanation: From the center of the image with position (sr, sc) = (1, 1) (i.e., the red pixel), all pixels connected by a path of the same color as the starting pixel (i.e., the blue pixels) are colored with the new color.\n",
    "Note the bottom corner is not colored 2, because it is not 4-directionally connected to the starting pixel."
   ]
  },
  {
   "cell_type": "code",
   "execution_count": 50,
   "id": "69ddd19c",
   "metadata": {},
   "outputs": [
    {
     "name": "stdout",
     "output_type": "stream",
     "text": [
      "[2, 2, 2]\n",
      "[2, 2, 0]\n",
      "[2, 0, 1]\n"
     ]
    }
   ],
   "source": [
    "def floodFill(image=[[1,1,1],\n",
    "                     [1,1,0],\n",
    "                     [1,0,1]],sr=1,sc=1,color=2):\n",
    "    rows,cols=len(image),len(image[0])\n",
    "    oldColor=image[sr][sc]\n",
    "    visited=set()\n",
    "    dist=[(-1,0),(1,0),(0,-1),(0,1)]\n",
    "    \n",
    "    def dfs(r,c):\n",
    "        if (r,c) in visited:return\n",
    "        visited.add((r,c))\n",
    "        for d in dist:\n",
    "            x,y=r+d[0],c+d[1]\n",
    "            if 0<=x<rows and 0<=y<cols and image[x][y]==oldColor:\n",
    "                image[x][y]=color\n",
    "                dfs(x,y)\n",
    "            \n",
    "        \n",
    "    if oldColor!=color:\n",
    "        image[sr][sc]=color\n",
    "        dfs(sr,sc)\n",
    "        return image\n",
    "\n",
    "print(\"\\n\".join([''.join(str(r)) for r in floodFill()]))\n",
    " \n"
   ]
  },
  {
   "cell_type": "code",
   "execution_count": null,
   "id": "190bd72e",
   "metadata": {},
   "outputs": [],
   "source": [
    "def floodFill(self, image, sr, sc, newColor):\n",
    "        # time O(n^2) space O(n)\n",
    "        # runtime: 90ms\n",
    "        rows, cols = len(image), len(image[0])\n",
    "        dir = ((-1,0),(1,0),(0,1),(0,-1))\n",
    "        visited = set(); pixel = image[sr][sc] # store pixel value\n",
    "        def dfs(i, j): \n",
    "            if (i,j) in visited: return\n",
    "            visited.add((i,j)) \n",
    "            for d in dir: # traverse neighbors\n",
    "                x, y = i+d[0], j+d[1] \n",
    "                if 0<= x < rows and 0<= y < cols and image[x][y] == pixel:\n",
    "                    image[x][y] = newColor\n",
    "                    dfs(x,y)\n",
    "        if newColor != pixel: \n",
    "            image[sr][sc]=newColor\n",
    "            dfs(sr, sc) \n",
    "        return image\n",
    "# credit to dfs template\n",
    "# https://discuss.leetcode.com/topic/66065/python-dfs-bests-85-tips-for-all-dfs-in-matrix-question"
   ]
  },
  {
   "cell_type": "markdown",
   "id": "13abc227",
   "metadata": {},
   "source": [
    "# Ransom Note"
   ]
  },
  {
   "cell_type": "markdown",
   "id": "8faf7726",
   "metadata": {},
   "source": [
    "Given two strings ransomNote and magazine, return true if ransomNote can be constructed by using the letters from magazine and false otherwise.\n",
    "Each letter in magazine can only be used once in ransomNote.\n",
    "Example 1:\n",
    "\n",
    "Input: ransomNote = \"a\", magazine = \"b\"\n",
    "Output: false\n",
    "Example 2:\n",
    "\n",
    "Input: ransomNote = \"aa\", magazine = \"ab\"\n",
    "Output: false\n",
    "Example 3:\n",
    "\n",
    "Input: ransomNote = \"aa\", magazine = \"aab\"\n",
    "Output: true\n",
    "\n"
   ]
  },
  {
   "cell_type": "code",
   "execution_count": 36,
   "id": "229450b2",
   "metadata": {},
   "outputs": [
    {
     "data": {
      "text/plain": [
       "True"
      ]
     },
     "execution_count": 36,
     "metadata": {},
     "output_type": "execute_result"
    }
   ],
   "source": [
    "#import collections\n",
    "def canConstruct(ransom='cabcab',mag='aabbcc'):\n",
    "    \n",
    "    dicM={}\n",
    "\n",
    "    for ch in mag:\n",
    "        dicM[ch]=1+dicM.get(ch,0)\n",
    "\n",
    "    for ch in ransom:\n",
    "        if ch in dicM and dicM[ch]>0:\n",
    "                dicM[ch]-=1\n",
    "        else:\n",
    "            return False\n",
    "    return True\n",
    "            \n",
    "    \n",
    "canConstruct()\n",
    "    "
   ]
  },
  {
   "cell_type": "markdown",
   "id": "201a61dd",
   "metadata": {},
   "source": [
    "# Staircase problem"
   ]
  },
  {
   "cell_type": "markdown",
   "id": "f863e505",
   "metadata": {},
   "source": [
    " Climbing Stairs\n",
    "\n",
    "You are climbing a staircase. It takes n steps to reach the top.\n",
    "\n",
    "Each time you can either climb 1 or 2 steps. In how many distinct ways can you climb to the top?\n",
    "\n",
    "Example 1:\n",
    "\n",
    "Input: n = 2\n",
    "Output: 2\n",
    "Explanation: There are two ways to climb to the top.\n",
    "1. 1 step + 1 step\n",
    "2. 2 steps"
   ]
  },
  {
   "cell_type": "code",
   "execution_count": 76,
   "id": "971ce0b6",
   "metadata": {},
   "outputs": [
    {
     "data": {
      "text/plain": [
       "10946"
      ]
     },
     "execution_count": 76,
     "metadata": {},
     "output_type": "execute_result"
    }
   ],
   "source": [
    "def stairs(n=20):\n",
    "    ways=[0]*(n+1)\n",
    "    ways[0]=1\n",
    "    ways[1]=1\n",
    "    for i in range(2,len(ways)):\n",
    "        ways[i]=ways[i-1]+ways[i-2]\n",
    "    return ways[n]\n",
    "stairs()"
   ]
  },
  {
   "cell_type": "code",
   "execution_count": 77,
   "id": "dbc6572c",
   "metadata": {},
   "outputs": [
    {
     "data": {
      "text/plain": [
       "10946"
      ]
     },
     "execution_count": 77,
     "metadata": {},
     "output_type": "execute_result"
    }
   ],
   "source": [
    "def stairsRec(n=20):\n",
    "    if n<=1:\n",
    "        return 1\n",
    "    return stairsRec(n-1)+ stairsRec(n-2)\n",
    "\n",
    "stairsRec()"
   ]
  },
  {
   "cell_type": "code",
   "execution_count": 1,
   "id": "88b24592",
   "metadata": {},
   "outputs": [
    {
     "data": {
      "text/plain": [
       "10946"
      ]
     },
     "execution_count": 1,
     "metadata": {},
     "output_type": "execute_result"
    }
   ],
   "source": [
    "def starisRecMemo(n=20,knownways={}):\n",
    "    if n<=1:\n",
    "        return 1\n",
    "    if n not in knownways:\n",
    "        knownways[n]=starisRecMemo(n-1,knownways)+starisRecMemo(n-2,knownways)\n",
    "    return  knownways[n]\n",
    "\n",
    "starisRecMemo()"
   ]
  },
  {
   "cell_type": "markdown",
   "id": "e737883c",
   "metadata": {},
   "source": [
    "# Longest Palindrome"
   ]
  },
  {
   "cell_type": "markdown",
   "id": "f2452cbd",
   "metadata": {},
   "source": [
    "Given a string s which consists of lowercase or uppercase letters, return the length of the longest palindrome that can be built with those letters.\n",
    "\n",
    "Letters are case sensitive, for example, \"Aa\" is not considered a palindrome here.\n",
    "Example 1:\n",
    "\n",
    "Input: s = \"abccccdd\"\n",
    "Output: 7\n",
    "Explanation: One longest palindrome that can be built is \"dccaccd\", whose length is 7.\n",
    "Example 2:\n",
    "\n",
    "Input: s = \"a\"\n",
    "Output: 1\n",
    "Explanation: The longest palindrome that can be built is \"a\", whose length is 1."
   ]
  },
  {
   "cell_type": "code",
   "execution_count": 2,
   "id": "f139d64f",
   "metadata": {},
   "outputs": [
    {
     "data": {
      "text/plain": [
       "7"
      ]
     },
     "execution_count": 2,
     "metadata": {},
     "output_type": "execute_result"
    }
   ],
   "source": [
    "def longestPalind(s='abccccdd'):\n",
    "    dic={}\n",
    "    for ch in s:\n",
    "        dic[ch]=dic.get(ch,0)+1\n",
    "    longest=0\n",
    "    for k,v in dic.items():\n",
    "        if v>1:\n",
    "            longest+=v//2*2\n",
    "            dic[k]-=v//2*2\n",
    "    if 1 in dic.values():\n",
    "        return longest+1\n",
    "    return longest\n",
    "\n",
    "longestPalind()"
   ]
  },
  {
   "cell_type": "markdown",
   "id": "7165adf3",
   "metadata": {},
   "source": [
    "# Majority Element"
   ]
  },
  {
   "cell_type": "code",
   "execution_count": 44,
   "id": "9d97610f",
   "metadata": {},
   "outputs": [
    {
     "data": {
      "text/plain": [
       "1"
      ]
     },
     "execution_count": 44,
     "metadata": {},
     "output_type": "execute_result"
    }
   ],
   "source": [
    "# Runtime: 188 ms, faster than 65.42% of Python3 online submissions for Majority Element.\n",
    "# Memory Usage: 15.5 MB, less than 81.81% of Python3 online submissions for Majority Element.\n",
    "\n",
    "def majorityElement( nums=[1,1,1,2,3]):\n",
    "    target, d = len(nums)//2, {i:0 for i in nums}\n",
    "    for i in nums:\n",
    "        d[i]+=1\n",
    "        if d[i]>target:\n",
    "            return i\n",
    "\n",
    "            \n",
    "def majorityElement_mine( nums=[1,1,1,2,3]):\n",
    "    s=set(nums)\n",
    "    #print(s)\n",
    "\n",
    "    for item in s:\n",
    "        cur_sum=0\n",
    "        for num in nums:\n",
    "            if num==item:\n",
    "                cur_sum+=1\n",
    "        if cur_sum>len(nums)//2:\n",
    "            return item\n",
    "        \n",
    "majorityElement()\n"
   ]
  },
  {
   "cell_type": "markdown",
   "id": "537d469d",
   "metadata": {},
   "source": [
    "# Merge intervals"
   ]
  },
  {
   "cell_type": "code",
   "execution_count": 4,
   "id": "fa9fbc16",
   "metadata": {},
   "outputs": [
    {
     "data": {
      "text/plain": [
       "[[-5, 8], [9, 10]]"
      ]
     },
     "execution_count": 4,
     "metadata": {},
     "output_type": "execute_result"
    }
   ],
   "source": [
    "def mergeIntervals(intervals=[[1,6],[-5,8],[9,10]]):\n",
    "    res=[]\n",
    "    intervals=sorted(intervals,key=lambda x:x[0])\n",
    "    #print(intervals)\n",
    "    res=[]\n",
    "    for v in intervals:\n",
    "        if not res or v[0]>res[-1][1]: # first interval or no overlap\n",
    "            res.append(v)\n",
    "        else:                           # there is an overlap between current v and the last item in res\n",
    "            res[-1][1]=max(res[-1][1],v[1])\n",
    "    return res\n",
    "        \n",
    "mergeIntervals()"
   ]
  },
  {
   "cell_type": "markdown",
   "id": "49f29356",
   "metadata": {},
   "source": [
    "# Insert Interval"
   ]
  },
  {
   "cell_type": "markdown",
   "id": "85090eae",
   "metadata": {},
   "source": [
    "\n",
    "You are given an array of non-overlapping intervals intervals where intervals[i] = [starti, endi] represent the start and the end of the ith interval and intervals is sorted in ascending order by starti. You are also given an interval newInterval = [start, end] that represents the start and end of another interval.\n",
    "\n",
    "Insert newInterval into intervals such that intervals is still sorted in ascending order by starti and intervals still does not have any overlapping intervals (merge overlapping intervals if necessary).\n",
    "\n",
    "Return intervals after the insertion."
   ]
  },
  {
   "cell_type": "code",
   "execution_count": 6,
   "id": "af9acc8e",
   "metadata": {},
   "outputs": [
    {
     "data": {
      "text/plain": [
       "[[-2, 9], [10, 15]]"
      ]
     },
     "execution_count": 6,
     "metadata": {},
     "output_type": "execute_result"
    }
   ],
   "source": [
    "def insertInterval(intervals=[[10,15],[1,3],[6,9]], newint=[-2,7]):\n",
    "    if not intervals:\n",
    "        return [newint]\n",
    "    res=[]\n",
    "    intervals.append(newint)\n",
    "    intervals=sorted(intervals,key=lambda x:x[0])\n",
    "    for v in intervals:\n",
    "        if not res or v[0]>res[-1][1]:\n",
    "            res.append(v)\n",
    "        else: #there is an overlap between v and the last elemet\n",
    "            #res[-1][0]=min(res[-1][0],v[0])\n",
    "            res[-1][1]=max(res[-1][1],v[1])                  \n",
    "    return res\n",
    "\n",
    "insertInterval()\n",
    "\n"
   ]
  },
  {
   "cell_type": "markdown",
   "id": "304caa7d",
   "metadata": {},
   "source": [
    "# 01 Matrix"
   ]
  },
  {
   "cell_type": "markdown",
   "id": "1368e304",
   "metadata": {},
   "source": [
    "Given an m x n binary matrix mat, return the distance of the nearest 0 for each cell.\n",
    "\n",
    "The distance between two adjacent cells is 1.\n",
    "Input: mat = [[0,0,0],[0,1,0],[1,1,1]]\n",
    "Output: [[0,0,0],[0,1,0],[1,2,1]]"
   ]
  },
  {
   "cell_type": "code",
   "execution_count": 2,
   "id": "28d53d14",
   "metadata": {},
   "outputs": [
    {
     "name": "stdout",
     "output_type": "stream",
     "text": [
      "[0, 0, 1]\n",
      "[1, 1, 2]\n",
      "[2, 2, 3]\n"
     ]
    }
   ],
   "source": [
    "\n",
    "def updateMatrix( matrix=[[0,0,1],\n",
    "                          [1,1,1],\n",
    "                          [1,1,1]]):\n",
    "    \"\"\"\n",
    "    :type mat: List[List[int]]\n",
    "    :rtype: List[List[int]]\n",
    "    \"\"\"\n",
    "    h=len(matrix)\n",
    "    w=len(matrix[0])\n",
    "    #nighbors=[(-1,0),(1,0),(0,-1),(0,1)]\n",
    "    q= []\n",
    "    # first round: add coordinates (r,c) of 0 values to queue\n",
    "    for i in range(h):\n",
    "        for j in range(w):\n",
    "            if matrix[i][j]==0:\n",
    "                q.append((i,j))\n",
    "            else:\n",
    "                matrix[i][j]=float(\"inf\")          \n",
    "    # do BFS from 0 values to 1    \n",
    "    for row,col in q:\n",
    "        dist = matrix[row][col] + 1\n",
    "        for dy, dx in  [(-1,0),(1,0),(0,-1),(0,1)]:\n",
    "            r=row+dy\n",
    "            c=col+dx\n",
    "            if 0 <= r < h and 0 <= c < w and dist < matrix[r][c]:\n",
    "                matrix[r][c]=dist\n",
    "                q.append((r,c)) \n",
    "    return matrix\n",
    "\n",
    "print(\"\\n\".join([''.join(str(r)) for r in updateMatrix()]))"
   ]
  },
  {
   "cell_type": "markdown",
   "id": "1c764ac5",
   "metadata": {},
   "source": [
    "# K Closest Points to Origin"
   ]
  },
  {
   "cell_type": "markdown",
   "id": "ba0453bd",
   "metadata": {},
   "source": [
    "Given an array of points where points[i] = [xi, yi] represents a point on the X-Y plane and an integer k, return the k closest points to the origin (0, 0).\n",
    "\n",
    "The distance between two points on the X-Y plane is the Euclidean distance (i.e., √(x1 - x2)2 + (y1 - y2)2).\n",
    "\n",
    "You may return the answer in any order. The answer is guaranteed to be unique (except for the order that it is in).\n",
    "\n",
    "Input: points = [[1,3],[-2,2]], k = 1\n",
    "Output: [[-2,2]]"
   ]
  },
  {
   "cell_type": "code",
   "execution_count": 12,
   "id": "16323a9f",
   "metadata": {},
   "outputs": [
    {
     "name": "stdout",
     "output_type": "stream",
     "text": [
      "[(2.8284271247461903, -2, 2), (3.1622776601683795, 1, 3), (7.0710678118654755, 5, 5)]\n"
     ]
    },
    {
     "data": {
      "text/plain": [
       "[[-2, 2], [1, 3]]"
      ]
     },
     "execution_count": 12,
     "metadata": {},
     "output_type": "execute_result"
    }
   ],
   "source": [
    "from numpy import sqrt \n",
    "def kClosest( points= [[1,3],[-2,2],[5,5]], k=2):\n",
    "\n",
    "    dist=[]\n",
    "    for x,y in points:\n",
    "        dist.append((sqrt(x*x+y*y),x,y))\n",
    "        \n",
    "    dist=sorted(dist,key=lambda x:x[0])\n",
    "    print(dist)\n",
    "    res= [[p1,p2] for d,p1,p2 in  dist]\n",
    "    #print(res[:k])\n",
    "    return res[:k]\n",
    "\n",
    "kClosest()"
   ]
  },
  {
   "cell_type": "markdown",
   "id": "97758a3d",
   "metadata": {},
   "source": [
    "# Level order traversal of a tree (a version of BFS)"
   ]
  },
  {
   "cell_type": "code",
   "execution_count": 49,
   "id": "bd67b720",
   "metadata": {},
   "outputs": [
    {
     "data": {
      "text/plain": [
       "[[1], [2, 20], [4, 5, 50, 40]]"
      ]
     },
     "execution_count": 49,
     "metadata": {},
     "output_type": "execute_result"
    }
   ],
   "source": [
    "# Definition for a binary tree node.\n",
    "# class TreeNode(object):\n",
    "#     def __init__(self, val=0, left=None, right=None):\n",
    "#         self.val = val\n",
    "#         self.left = left\n",
    "#         self.right = right\n",
    "from collections import deque\n",
    "\n",
    "def levelOrder( root):\n",
    "    \"\"\"\n",
    "    :type root: TreeNode\n",
    "    :rtype: List[List[int]]\n",
    "    \"\"\"\n",
    "    if not root:\n",
    "        return []\n",
    "    q=deque([root])\n",
    "    res=[]\n",
    "    while q:\n",
    "        n=len(q)\n",
    "        lvl=[]\n",
    "        for i in range(n):\n",
    "            node=q.popleft()\n",
    "            lvl.append(node.val)\n",
    "            if node.left:\n",
    "                q.append(node.left)\n",
    "            if node.right:\n",
    "                q.append(node.right)\n",
    "\n",
    "        res.append(lvl)\n",
    "    return res\n",
    "\n",
    "levelOrder( root=treeNode(               1,\n",
    "                            treeNode(2,\n",
    "                        treeNode(4),     treeNode(5)),          treeNode(20,\n",
    "                                                               treeNode(50),     treeNode(40))))"
   ]
  },
  {
   "cell_type": "code",
   "execution_count": 21,
   "id": "df242d31",
   "metadata": {},
   "outputs": [
    {
     "data": {
      "text/plain": [
       "3"
      ]
     },
     "execution_count": 21,
     "metadata": {},
     "output_type": "execute_result"
    }
   ],
   "source": [
    "#leet code approved solution\n",
    "def lengthOfLongestSubstring( s='abcc'):\n",
    "    l=r=0\n",
    "    totM=0\n",
    "    visited=set()\n",
    "    while r<len(s):\n",
    "        while s[r] in visited:\n",
    "            visited.remove(s[l])\n",
    "            l+=1\n",
    "        visited.add(s[r])\n",
    "        totM=max(totM,r-l+1)\n",
    "        r+=1    \n",
    "    return totM\n",
    "lengthOfLongestSubstring()"
   ]
  },
  {
   "cell_type": "markdown",
   "id": "efdbe5b2",
   "metadata": {},
   "source": [
    "# Evaluate Reverse Polish Notation"
   ]
  },
  {
   "cell_type": "markdown",
   "id": "e437e4be",
   "metadata": {},
   "source": [
    "\n",
    "\n",
    "Evaluate the value of an arithmetic expression in Reverse Polish Notation.\n",
    "\n",
    "Valid operators are +, -, *, and /. Each operand may be an integer or another expression.\n",
    "\n",
    "Note that division between two integers should truncate toward zero.\n",
    "\n",
    "It is guaranteed that the given RPN expression is always valid. That means the expression would always evaluate to a result, and there will not be any division by zero operation.\n",
    "\n",
    " \n",
    "\n",
    "Example 1:\n",
    "\n",
    "Input: tokens = [\"2\",\"1\",\"+\",\"3\",\"*\"]\n",
    "Output: 9\n",
    "Explanation: ((2 + 1) * 3) = 9"
   ]
  },
  {
   "cell_type": "code",
   "execution_count": 57,
   "id": "6dcae06b",
   "metadata": {},
   "outputs": [
    {
     "data": {
      "text/plain": [
       "22"
      ]
     },
     "execution_count": 57,
     "metadata": {},
     "output_type": "execute_result"
    }
   ],
   "source": [
    "def evalRPN( tokens=[\"10\",\"6\",\"9\",\"3\",\"+\",\"-11\",\"*\",\"/\",\"*\",\"17\",\"+\",\"5\",\"+\"]):\n",
    "    \"\"\"\n",
    "    :type tokens: List[str]\n",
    "    :rtype: int\n",
    "    \"\"\"\n",
    "    stk=[]\n",
    "    for t in tokens:\n",
    "        if t not in '+/*-':\n",
    "            stk.append(int(t))\n",
    "        else:\n",
    "            b=stk.pop()\n",
    "            a=stk.pop()\n",
    "            if t=='+': res=a+b\n",
    "            elif t=='-': res=a-b\n",
    "            elif t=='/': res=int(a/b)\n",
    "            else:res=a*b\n",
    "            stk.append(res)\n",
    "    return stk[-1]\n",
    "\n",
    "evalRPN()\n",
    "\n"
   ]
  },
  {
   "cell_type": "markdown",
   "id": "a8037ae4",
   "metadata": {},
   "source": [
    "# Course schedule"
   ]
  },
  {
   "cell_type": "markdown",
   "id": "9bf1a1cc",
   "metadata": {},
   "source": [
    "There are a total of numCourses courses you have to take, labeled from 0 to numCourses - 1. You are given an array prerequisites where prerequisites[i] = [ai, bi] indicates that you must take course bi first if you want to take course ai.\n",
    "\n",
    "For example, the pair [0, 1], indicates that to take course 0 you have to first take course 1.\n",
    "Return true if you can finish all courses. Otherwise, return false.\n",
    "\n",
    "Example 1:\n",
    "\n",
    "Input: numCourses = 2, prerequisites = [[1,0]]\n",
    "Output: true\n",
    "Explanation: There are a total of 2 courses to take. \n",
    "To take course 1 you should have finished course 0. So it is possible.\n",
    "Example 2:\n",
    "\n",
    "Input: numCourses = 2, prerequisites = [[1,0],[0,1]]\n",
    "Output: false\n",
    "Explanation: There are a total of 2 courses to take. \n",
    "To take course 1 you should have finished course 0, and to take course 0 you should also have finished course 1. So it is impossible."
   ]
  },
  {
   "cell_type": "code",
   "execution_count": 7,
   "id": "ac447ed7",
   "metadata": {},
   "outputs": [
    {
     "data": {
      "text/plain": [
       "False"
      ]
     },
     "execution_count": 7,
     "metadata": {},
     "output_type": "execute_result"
    }
   ],
   "source": [
    "    \n",
    "def canFinish( numCourses=2, prerequisites=[[1,0],[0,1]]):\n",
    "    preMap={i:[] for i in range(numCourses)}\n",
    "    visited=[0]*numCourses  # 0-> not visited, 1->being visited, 2->completed\n",
    "    for crs,pre in prerequisites:\n",
    "        preMap[crs].append(pre)\n",
    "\n",
    "    def dfs(crs):\n",
    "        if visited[crs]==1:\n",
    "            return False \n",
    "        if preMap[crs]==[]:\n",
    "            return True\n",
    "        visited[crs]=1\n",
    "        for pre in preMap[crs]:\n",
    "            if not dfs(pre):\n",
    "                return False\n",
    "            preMap[crs].remove(pre)\n",
    "        visited[crs]=2\n",
    "        return True\n",
    "\n",
    "    for crs in range(numCourses):\n",
    "        if visited[crs]==0 and not dfs(crs):return False\n",
    "    return True\n",
    "\n",
    "canFinish()        \n"
   ]
  },
  {
   "cell_type": "markdown",
   "id": "9a0717aa",
   "metadata": {},
   "source": [
    "# Coin Change"
   ]
  },
  {
   "cell_type": "markdown",
   "id": "5eedeff2",
   "metadata": {},
   "source": [
    "\n",
    "You are given an integer array coins representing coins of different denominations and an integer amount representing a total amount of money.\n",
    "\n",
    "Return the fewest number of coins that you need to make up that amount. If that amount of money cannot be made up by any combination of the coins, return -1.\n",
    "\n",
    "You may assume that you have an infinite number of each kind of coin.\n",
    "\n",
    "\n",
    "Example 1:\n",
    "\n",
    "Input: coins = [1,2,5], amount = 11\n",
    "Output: 3\n",
    "Explanation: 11 = 5 + 5 + 1"
   ]
  },
  {
   "cell_type": "code",
   "execution_count": null,
   "id": "ba5e5c50",
   "metadata": {},
   "outputs": [],
   "source": [
    "def coinChange( coins, amount):\n",
    "\n",
    "    dp=[amount+1]*(amount+1)\n",
    "    dp[0]=0\n",
    "    for i in range(1,len(dp)):\n",
    "        for c in coins:\n",
    "            if c<=i:\n",
    "                #dp[i]+=dp[i-c] # all possible combinations\n",
    "                dp[i]=min(dp[i],1+dp[i-c])\n",
    "    #print(dp)\n",
    "    return dp[amount] if dp[amount]!=amount+1 else-1\n"
   ]
  },
  {
   "cell_type": "markdown",
   "id": "1ae10fbc",
   "metadata": {},
   "source": [
    "## Is valid BST (BFS (root,-inf,inf))"
   ]
  },
  {
   "cell_type": "code",
   "execution_count": 82,
   "id": "831d7306",
   "metadata": {},
   "outputs": [],
   "source": [
    "def isValidBST(self, root):\n",
    "\n",
    "    if not root: \n",
    "        return True\n",
    "    q=deque([(root,float('-inf'),float('inf'))])\n",
    "    while q:\n",
    "        node,low,high=q.popleft()\n",
    "        if node.val<=low or node.val>=high:\n",
    "            return False\n",
    "        if node.left:\n",
    "            q.append((node.left,low,node.val))\n",
    "        if node.right:\n",
    "            q.append((node.right,node.val,high))\n",
    "    return True"
   ]
  },
  {
   "cell_type": "markdown",
   "id": "e670918a",
   "metadata": {},
   "source": [
    "# Rotting Oranges\n"
   ]
  },
  {
   "cell_type": "markdown",
   "id": "277a2215",
   "metadata": {},
   "source": [
    "You are given an m x n grid where each cell can have one of three values:\n",
    "\n",
    "0 representing an empty cell,\n",
    "1 representing a fresh orange, or\n",
    "2 representing a rotten orange.\n",
    "Every minute, any fresh orange that is 4-directionally adjacent to a rotten orange becomes rotten.\n",
    "\n",
    "Return the minimum number of minutes that must elapse until no cell has a fresh orange. If this is impossible, return -1.\n",
    "\n"
   ]
  },
  {
   "cell_type": "code",
   "execution_count": 84,
   "id": "4ba58c23",
   "metadata": {},
   "outputs": [
    {
     "data": {
      "text/plain": [
       "4"
      ]
     },
     "execution_count": 84,
     "metadata": {},
     "output_type": "execute_result"
    }
   ],
   "source": [
    "def orangesRotting( grid=[[2,1,1],[1,1,0],[0,1,1]]):\n",
    "    visited=set()\n",
    "    rows,cols=len(grid),len(grid[0])\n",
    "    time,fresh=0,0\n",
    "    q=deque([])\n",
    "\n",
    "    for i in range(rows):\n",
    "        for j in range(cols):\n",
    "            if grid[i][j]==1:\n",
    "                fresh+=1\n",
    "            elif grid[i][j]==2:\n",
    "                q.append((i,j))\n",
    "\n",
    "    while q and fresh>0:\n",
    "        for k in range(len(q)):\n",
    "            i,j=q.popleft()\n",
    "            for di,dj in [(-1,0),(1,0),(0,-1),(0,1)]:\n",
    "                x,y=i+di,j+dj\n",
    "                if 0<=x<rows and 0<=y<cols and grid[x][y]==1:\n",
    "                    grid[x][y]=2\n",
    "                    fresh-=1\n",
    "                    q.append((x,y))\n",
    "        time+=1\n",
    "    return time if fresh==0 else -1\n",
    "\n",
    "orangesRotting()"
   ]
  },
  {
   "cell_type": "markdown",
   "id": "e481286c",
   "metadata": {},
   "source": [
    "# Permuteations of a list"
   ]
  },
  {
   "cell_type": "code",
   "execution_count": 124,
   "id": "04a3d3ac",
   "metadata": {},
   "outputs": [
    {
     "name": "stdout",
     "output_type": "stream",
     "text": [
      "[[3, 2, 1], [2, 3, 1], [3, 1, 2], [1, 3, 2], [2, 1, 3], [1, 2, 3]]\n",
      "{(1, 2), (2,), (1, 2, 3), (2, 3), (1,), (3,), (1, 3)}\n"
     ]
    }
   ],
   "source": [
    "def permute( nums=[1,2,3]):\n",
    "    path=[]\n",
    "    res=[]\n",
    "    def perms_(nums,path,res):\n",
    "        if not nums:\n",
    "            res.append(path)\n",
    "\n",
    "        for i in range (len(nums)):\n",
    "            perms_(nums[:i]+nums[i+1:],[nums[i]]+path,res)\n",
    "        return res\n",
    "\n",
    "    return perms_(nums,path,res)\n",
    "\n",
    "def permuteSubseq(nums=[1,2,3]):\n",
    "    res=set()\n",
    "    \n",
    "    def perms_(i,path):\n",
    "        if path:\n",
    "            res.add(tuple(path))\n",
    "            \n",
    "        if i==len(nums):\n",
    "            return\n",
    "        \n",
    "        perms_(i+1,path+[nums[i]])\n",
    "        perms_(i+1,path)\n",
    "        \n",
    "    perms_(0,[])\n",
    "\n",
    "    return res\n",
    "\n",
    "print(permute())\n",
    "print(permuteSubseq())"
   ]
  },
  {
   "cell_type": "markdown",
   "id": "c33b531c",
   "metadata": {},
   "source": [
    "# Combination Sum"
   ]
  },
  {
   "cell_type": "code",
   "execution_count": 123,
   "id": "ab8aa985",
   "metadata": {},
   "outputs": [
    {
     "name": "stdout",
     "output_type": "stream",
     "text": [
      "[[2, 2, 3], [2, 3, 2], [3, 2, 2], [7]]\n"
     ]
    }
   ],
   "source": [
    "def combinationSum( candidates=[2,3,6,7], target=7):\n",
    "    res=[]\n",
    "    path=[]\n",
    "\n",
    "    def perm(cand,path,target):\n",
    "        if target<0: return\n",
    "        if target==0: \n",
    "            res.append(path)\n",
    "            #print(res,path)\n",
    "        for i in range (len(cand)):\n",
    "            #print(i,cand[i],path)\n",
    "            perm(cand,path+[cand[i]],target-cand[i])\n",
    "             \n",
    "        return res\n",
    "\n",
    "    return perm(candidates,path,target)\n",
    "\n",
    "print(combinationSum())\n"
   ]
  },
  {
   "cell_type": "code",
   "execution_count": 84,
   "id": "526c4006",
   "metadata": {},
   "outputs": [
    {
     "data": {
      "text/plain": [
       "[[2, 2, 3], [7]]"
      ]
     },
     "execution_count": 84,
     "metadata": {},
     "output_type": "execute_result"
    }
   ],
   "source": [
    "#more accurate solution using 2 decisions ( two dfs running)\n",
    "def combinationSum( candidates=[2,3,6,7], target=7 )  :\n",
    "\n",
    "    res,path=[],[]\n",
    "\n",
    "    def perm(i,path,total):\n",
    "        if total==target: \n",
    "            res.append(path.copy())\n",
    "            return\n",
    "        if total>target or i>=len(candidates): \n",
    "            return\n",
    "        path.append(candidates[i])\n",
    "        perm(i,path,candidates[i]+total)\n",
    "        path.pop()\n",
    "        perm(i+1,path,total)\n",
    "\n",
    "        return res\n",
    "\n",
    "    return perm(0,path,0)\n",
    "\n",
    "combinationSum()"
   ]
  },
  {
   "cell_type": "markdown",
   "id": "d030bc65",
   "metadata": {},
   "source": [
    "# Account Merge"
   ]
  },
  {
   "cell_type": "markdown",
   "id": "f282e623",
   "metadata": {},
   "source": [
    "Given a list of accounts where each element accounts[i] is a list of strings, where the first element accounts[i][0] is a name, and the rest of the elements are emails representing emails of the account.\n",
    "\n",
    "Now, we would like to merge these accounts. Two accounts definitely belong to the same person if there is some common email to both accounts. Note that even if two accounts have the same name, they may belong to different people as people could have the same name. A person can have any number of accounts initially, but all of their accounts definitely have the same name.\n",
    "\n",
    "After merging the accounts, return the accounts in the following format: the first element of each account is the name, and the rest of the elements are emails in sorted order. The accounts themselves can be returned in any order.\n",
    "\n",
    " \n",
    "\n",
    "Example 1:\n",
    "\n",
    "Input: accounts = [[\"John\",\"johnsmith@mail.com\",\"john_newyork@mail.com\"],[\"John\",\"johnsmith@mail.com\",\"john00@mail.com\"],[\"Mary\",\"mary@mail.com\"],[\"John\",\"johnnybravo@mail.com\"]]\n",
    "Output: [[\"John\",\"john00@mail.com\",\"john_newyork@mail.com\",\"johnsmith@mail.com\"],[\"Mary\",\"mary@mail.com\"],[\"John\",\"johnnybravo@mail.com\"]]\n",
    "Explanation:\n",
    "The first and second John's are the same person as they have the common email \"johnsmith@mail.com\".\n",
    "The third John and Mary are different people as none of their email addresses are used by other accounts.\n",
    "We could return these lists in any order, for example the answer [['Mary', 'mary@mail.com'], ['John', 'johnnybravo@mail.com'], \n",
    "['John', 'john00@mail.com', 'john_newyork@mail.com', 'johnsmith@mail.com']] would still be accepted."
   ]
  },
  {
   "cell_type": "code",
   "execution_count": 131,
   "id": "cd73c8f3",
   "metadata": {},
   "outputs": [
    {
     "data": {
      "text/plain": [
       "[['John', 'john00@mail.com', 'john_newyork@mail.com', 'johnsmith@mail.com'],\n",
       " ['Mary', 'mary@mail.com'],\n",
       " ['John', 'johnnybravo@mail.com']]"
      ]
     },
     "execution_count": 131,
     "metadata": {},
     "output_type": "execute_result"
    }
   ],
   "source": [
    "import collections\n",
    "def accountsMerge(accounts = [[\"John\",\"johnsmith@mail.com\",\"john_newyork@mail.com\"],\n",
    "                              [\"John\",\"johnsmith@mail.com\",\"john00@mail.com\"],\n",
    "                              [\"Mary\",\"mary@mail.com\"],\n",
    "                              [\"John\",\"johnnybravo@mail.com\"]] ):\n",
    "    res=[]\n",
    "    temp_res=[]\n",
    "    graph=collections.defaultdict(set)#{:set([])}\n",
    "    visited=set([])\n",
    "\n",
    "    email_name={}\n",
    "\n",
    "    for acc in accounts:\n",
    "        name=acc[0]\n",
    "\n",
    "        for email in acc[1:]:\n",
    "            graph[acc[1]].add(email)\n",
    "            graph[email].add(acc[1])\n",
    "            \n",
    "            email_name[email]=name\n",
    "\n",
    "    def dfs(email):\n",
    "        if email in visited: return \n",
    "        visited.add(email)\n",
    "        temp_res.append(email)\n",
    "        for adj in graph[email]:\n",
    "            dfs(adj)\n",
    "\n",
    "    for email in graph:\n",
    "        if email not in visited:\n",
    "            dfs(email)\n",
    "            res.append([email_name[email]]+sorted(temp_res))\n",
    "            temp_res=[]\n",
    "    return res\n",
    "\n",
    "accountsMerge()"
   ]
  },
  {
   "cell_type": "markdown",
   "id": "dcc2601a",
   "metadata": {},
   "source": [
    "# Unique paths"
   ]
  },
  {
   "cell_type": "markdown",
   "id": "dfaaec1c",
   "metadata": {},
   "source": [
    "There is a robot on an m x n grid. The robot is initially located at the top-left corner (i.e., grid[0][0]). The robot tries to move to the bottom-right corner (i.e., grid[m - 1][n - 1]). The robot can only move either down or right at any point in time.\n",
    "\n",
    "Given the two integers m and n, return the number of possible unique paths that the robot can take to reach the bottom-right corner.\n",
    "\n",
    "The test cases are generated so that the answer will be less than or equal to 2 * 109.\n",
    "\n",
    "Example 1:\n",
    "\n",
    "\n",
    "Input: m = 3, n = 7\n",
    "Output: 28"
   ]
  },
  {
   "cell_type": "code",
   "execution_count": 159,
   "id": "bf72818b",
   "metadata": {},
   "outputs": [
    {
     "name": "stdout",
     "output_type": "stream",
     "text": [
      "20 [['D', 'D', 'D', 'R', 'R', 'R'], ['D', 'D', 'R', 'D', 'R', 'R'], ['D', 'D', 'R', 'R', 'D', 'R'], ['D', 'D', 'R', 'R', 'R', 'D'], ['D', 'R', 'D', 'D', 'R', 'R'], ['D', 'R', 'D', 'R', 'D', 'R'], ['D', 'R', 'D', 'R', 'R', 'D'], ['D', 'R', 'R', 'D', 'D', 'R'], ['D', 'R', 'R', 'D', 'R', 'D'], ['D', 'R', 'R', 'R', 'D', 'D'], ['R', 'D', 'D', 'D', 'R', 'R'], ['R', 'D', 'D', 'R', 'D', 'R'], ['R', 'D', 'D', 'R', 'R', 'D'], ['R', 'D', 'R', 'D', 'D', 'R'], ['R', 'D', 'R', 'D', 'R', 'D'], ['R', 'D', 'R', 'R', 'D', 'D'], ['R', 'R', 'D', 'D', 'D', 'R'], ['R', 'R', 'D', 'D', 'R', 'D'], ['R', 'R', 'D', 'R', 'D', 'D'], ['R', 'R', 'R', 'D', 'D', 'D']]\n"
     ]
    }
   ],
   "source": [
    "def uniquePaths(m=4, n=4):\n",
    "\n",
    "    path=[]\n",
    "    res=[]\n",
    "    if m==1 and n==1:\n",
    "        return 1\n",
    "    def move(r,c,path):\n",
    "        if (r>=m and c<n) or (c>=n and r<m): return\n",
    "        if r==m-1 and c==n-1:\n",
    "            res.append(path)\n",
    "            \n",
    "        move(r+1,c,path+['D'])\n",
    "        move(r,c+1,path+['R'])\n",
    "        #print(res)\n",
    "        return res\n",
    "    \n",
    "    final=move(0,0,path)\n",
    "    print(len(final),final)\n",
    "     \n",
    "\n",
    "uniquePaths()"
   ]
  },
  {
   "cell_type": "code",
   "execution_count": 165,
   "id": "59bc7910",
   "metadata": {},
   "outputs": [
    {
     "name": "stdout",
     "output_type": "stream",
     "text": [
      "[[0, 0, 0], [0, 2, 0], [0, 0, 0]]\n",
      "[[0, 0, 0], [3, 2, 0], [0, 0, 0]]\n",
      "[[0, 3, 0], [3, 2, 0], [0, 0, 0]]\n",
      "[[6, 3, 0], [3, 2, 0], [0, 0, 0]]\n"
     ]
    },
    {
     "data": {
      "text/plain": [
       "6"
      ]
     },
     "execution_count": 165,
     "metadata": {},
     "output_type": "execute_result"
    }
   ],
   "source": [
    "#dp solution\n",
    "\n",
    "def uniquePaths(m=3,n=3):\n",
    "    dp=[[0 for _ in range(n)] for _ in range(m)]\n",
    "\n",
    "    def solve(i,j):\n",
    "        if i==m-1 or j==n-1:\n",
    "            return 1\n",
    "        if dp[i][j]!=0:\n",
    "            return dp[i][j]\n",
    "        dp[i][j]=solve(i+1,j)+solve(i,j+1)\n",
    "        print(dp)\n",
    "        return dp[i][j]\n",
    "\n",
    "    return solve(0,0)\n",
    "\n",
    "uniquePaths()"
   ]
  },
  {
   "cell_type": "markdown",
   "id": "bc30b7d5",
   "metadata": {},
   "source": [
    "# Can_segment"
   ]
  },
  {
   "cell_type": "code",
   "execution_count": 179,
   "id": "48c2db9f",
   "metadata": {
    "scrolled": true
   },
   "outputs": [
    {
     "data": {
      "text/plain": [
       "False"
      ]
     },
     "execution_count": 179,
     "metadata": {},
     "output_type": "execute_result"
    }
   ],
   "source": [
    "def wordBreak(s=\"aaaaaaaaaaaaaaab\"\n",
    ", wordDict=[\"a\",\"aa\",\"aaa\",\"aaaa\",\"aaaaa\",\"aaaaaa\",\"aaaaaaa\",\"aaaaaaaa\",\"aaaaaaaaa\",\"aaaaaaaaaa\"]):\n",
    "\n",
    "    if len(s)==1:\n",
    "        if s in wordDict:\n",
    "            return True\n",
    "        else:\n",
    "            return False\n",
    "\n",
    "    def can_segment(s):\n",
    "        n=len(s)\n",
    "\n",
    "        for i in range(n+1):\n",
    "            l=s[:i]\n",
    "            if  l in wordDict:\n",
    "                r=s[i:]\n",
    "                if r in wordDict or not r or  can_segment(r):\n",
    "                    return True\n",
    "        return False\n",
    "\n",
    "    return can_segment(s)\n",
    "\n",
    "wordBreak()"
   ]
  },
  {
   "cell_type": "markdown",
   "id": "52cc3d16",
   "metadata": {},
   "source": [
    "# DP correct solution for word break (can segment)"
   ]
  },
  {
   "cell_type": "code",
   "execution_count": 178,
   "id": "9debd189",
   "metadata": {},
   "outputs": [
    {
     "data": {
      "text/plain": [
       "True"
      ]
     },
     "execution_count": 178,
     "metadata": {},
     "output_type": "execute_result"
    }
   ],
   "source": [
    "def wordBreak(s='leetcodeappleleetapple',\n",
    "              wordDict=[\"leet\",\"code\",'apple']):\n",
    "    n=len(s)\n",
    "    dp=[False]*(n+1)\n",
    "    dp[n]=True\n",
    "\n",
    "    for i in range(n-1,-1,-1):\n",
    "        for w in wordDict:\n",
    "            if s[i:i+len(w)]==w and i+len(w)<=n:\n",
    "                dp[i]=dp[i+len(w)]\n",
    "            if dp[i]:\n",
    "                break\n",
    "    return dp[0]\n",
    "\n",
    "wordBreak()"
   ]
  },
  {
   "cell_type": "markdown",
   "id": "1cda9a1c",
   "metadata": {},
   "source": [
    "# Prtition equal subset sum (Can partition array)"
   ]
  },
  {
   "cell_type": "code",
   "execution_count": 202,
   "id": "5b453df4",
   "metadata": {},
   "outputs": [
    {
     "data": {
      "text/plain": [
       "True"
      ]
     },
     "execution_count": 202,
     "metadata": {},
     "output_type": "execute_result"
    }
   ],
   "source": [
    "def canPartition( nums=[1,5,11,5]):\n",
    "    n=(2**len(nums))\n",
    "    res=[]\n",
    "    rescomp=[]\n",
    "    for i in range(1,n):\n",
    "        s=set()\n",
    "        for j in range(len(nums)):\n",
    "            if i&(1<<j):\n",
    "                s.add(j)\n",
    "        res.append(list(s))\n",
    "        rescomp.append([c for c in range(len(nums)) if c not in s])\n",
    "        \n",
    "        #if \n",
    "    for i in range(1,n-1):\n",
    "        p1=p2=0\n",
    "        for j in range(len(res[i])):\n",
    "            p1+=nums[res[i][j]]\n",
    "        for j in range(len(rescomp[i])):\n",
    "            p2+=nums[rescomp[i][j]]\n",
    "        if p1==p2:\n",
    "            return True\n",
    "            \n",
    "    return res,rescomp\n",
    "\n",
    "canPartition()\n"
   ]
  },
  {
   "cell_type": "code",
   "execution_count": 206,
   "id": "dee8bf8d",
   "metadata": {},
   "outputs": [
    {
     "name": "stdout",
     "output_type": "stream",
     "text": [
      "{0, 5}\n",
      "{0, 16, 11, 5}\n",
      "{0, 5, 10, 11, 16, 21}\n",
      "{0, 1, 5, 6, 10, 11, 12, 16, 17, 21, 22}\n"
     ]
    },
    {
     "data": {
      "text/plain": [
       "True"
      ]
     },
     "execution_count": 206,
     "metadata": {},
     "output_type": "execute_result"
    }
   ],
   "source": [
    "def canPartition(nums=[1,5,11,5]):\n",
    "    target=sum(nums)//2\n",
    "    if sum(nums)%2==1:\n",
    "        return False\n",
    "    dp=set({0})\n",
    "    #dp.add(0)\n",
    "\n",
    "    for i in range(len(nums)-1,-1,-1):\n",
    "        nextdp=set()\n",
    "        for t in dp:\n",
    "            nextdp.add(t+nums[i])\n",
    "            nextdp.add(t)\n",
    "        dp=nextdp\n",
    "        print(dp)\n",
    "    return True if target in dp else False\n",
    "\n",
    "canPartition()"
   ]
  },
  {
   "cell_type": "code",
   "execution_count": 89,
   "id": "22488398",
   "metadata": {},
   "outputs": [
    {
     "data": {
      "text/plain": [
       "2"
      ]
     },
     "execution_count": 89,
     "metadata": {},
     "output_type": "execute_result"
    }
   ],
   "source": [
    "i=3\n",
    "bin(i).count('1')"
   ]
  },
  {
   "cell_type": "markdown",
   "id": "3f9de180",
   "metadata": {},
   "source": [
    "# Longest Palindrome substring"
   ]
  },
  {
   "cell_type": "code",
   "execution_count": 218,
   "id": "a7bc11bd",
   "metadata": {},
   "outputs": [
    {
     "data": {
      "text/plain": [
       "'cvc'"
      ]
     },
     "execution_count": 218,
     "metadata": {},
     "output_type": "execute_result"
    }
   ],
   "source": [
    "def longestPalindrome( s='abxcvc'):\n",
    "\n",
    "    res=''\n",
    "    lenRes=0\n",
    "\n",
    "    for i in range(len(s)):\n",
    "        #Odd length palidromes: strat from each ch and expand outward to the left and right\n",
    "        l,r=i,i\n",
    "        while l>=0 and r<len(s) and s[l]==s[r]: \n",
    "            if (r-l+1)>lenRes:\n",
    "                res=s[l:r+1]\n",
    "                lenRes=(r-l+1)\n",
    "            l-=1\n",
    "            r+=1\n",
    "\n",
    "       #Even length palidromes: strat from each ch and expand outward to the left and right\n",
    "        l,r=i,i+1\n",
    "        while l>=0 and r<len(s) and s[l]==s[r]: \n",
    "            if (r-l+1)>lenRes:\n",
    "                res=s[l:r+1]\n",
    "                lenRes=(r-l+1)\n",
    "            l-=1\n",
    "            r+=1\n",
    "\n",
    "    return res\n",
    "\n",
    "longestPalindrome()"
   ]
  },
  {
   "cell_type": "markdown",
   "id": "6f4eb4af",
   "metadata": {},
   "source": [
    "# Construct Binary Tree from Preorder and Inorder Traversal\n"
   ]
  },
  {
   "cell_type": "markdown",
   "id": "5697615d",
   "metadata": {},
   "source": [
    "Given two integer arrays preorder and inorder where preorder is the preorder traversal of a binary tree and inorder is the inorder traversal of the same tree, construct and return the binary tree.\n",
    "Example 1:\n",
    "Input: preorder = [3,9,20,15,7], inorder = [9,3,15,20,7]\n",
    "Output: [3,9,20,null,null,15,7]\n",
    "Example 2:\n",
    "\n",
    "Input: preorder = [-1], inorder = [-1]\n",
    "Output: [-1]\n",
    " "
   ]
  },
  {
   "cell_type": "code",
   "execution_count": 220,
   "id": "3c9c2115",
   "metadata": {},
   "outputs": [],
   "source": [
    "def buildTree( preorder, inorder):\n",
    "\n",
    "\n",
    "    def build(preorder,inorder):\n",
    "        if not preorder or not inorder: return \n",
    "        root=TreeNode(preorder[0])\n",
    "        mid=inorder.index(preorder[0])\n",
    "        root.left=build(preorder[1:mid+1],inorder[:mid])\n",
    "        root.right=build(preorder[mid+1:],inorder[mid+1:])\n",
    "        return root\n",
    "\n",
    "    return build(preorder,inorder)"
   ]
  },
  {
   "cell_type": "markdown",
   "id": "101c86fa",
   "metadata": {},
   "source": [
    "# Container with most Water"
   ]
  },
  {
   "cell_type": "markdown",
   "id": "34a7fcaa",
   "metadata": {},
   "source": [
    "You are given an integer array height of length n. There are n vertical lines drawn such that the two endpoints of the ith line are (i, 0) and (i, height[i]).\n",
    "\n",
    "Find two lines that together with the x-axis form a container, such that the container contains the most water.\n",
    "\n",
    "Return the maximum amount of water a container can store.\n",
    "nput: height = [1,8,6,2,5,4,8,3,7]\n",
    "Output: 49\n",
    "Explanation: The above vertical lines are represented by array [1,8,6,2,5,4,8,3,7]. In this case, the max area of water (blue section) the container can contain is 49."
   ]
  },
  {
   "cell_type": "code",
   "execution_count": 223,
   "id": "37be779c",
   "metadata": {},
   "outputs": [
    {
     "data": {
      "text/plain": [
       "49"
      ]
     },
     "execution_count": 223,
     "metadata": {},
     "output_type": "execute_result"
    }
   ],
   "source": [
    "def maxArea( height=[1,8,6,2,5,4,8,3,7]):\n",
    "\n",
    "    l,r=0,len(height)-1\n",
    "    totMax=0\n",
    "\n",
    "    while l<r:\n",
    "        curMax=(r-l)*min(height[l],height[r])\n",
    "        if curMax>totMax:\n",
    "            totMax=curMax\n",
    "        if height[l]>height[r]:\n",
    "            r-=1\n",
    "        else:\n",
    "            l+=1\n",
    "    return totMax\n",
    "\n",
    "maxArea()"
   ]
  },
  {
   "cell_type": "markdown",
   "id": "20947998",
   "metadata": {},
   "source": [
    "# Letter combinations"
   ]
  },
  {
   "cell_type": "code",
   "execution_count": 241,
   "id": "2ca506ed",
   "metadata": {},
   "outputs": [
    {
     "data": {
      "text/plain": [
       "['adg',\n",
       " 'adh',\n",
       " 'adi',\n",
       " 'aeg',\n",
       " 'aeh',\n",
       " 'aei',\n",
       " 'afg',\n",
       " 'afh',\n",
       " 'afi',\n",
       " 'bdg',\n",
       " 'bdh',\n",
       " 'bdi',\n",
       " 'beg',\n",
       " 'beh',\n",
       " 'bei',\n",
       " 'bfg',\n",
       " 'bfh',\n",
       " 'bfi',\n",
       " 'cdg',\n",
       " 'cdh',\n",
       " 'cdi',\n",
       " 'ceg',\n",
       " 'ceh',\n",
       " 'cei',\n",
       " 'cfg',\n",
       " 'cfh',\n",
       " 'cfi']"
      ]
     },
     "execution_count": 241,
     "metadata": {},
     "output_type": "execute_result"
    }
   ],
   "source": [
    "def letterCombinations( digits='234'):\n",
    "    \n",
    "    dic={'2':'abc','3':'def','4':'ghi','5':'jkl'}\n",
    "    res=[]\n",
    "    path=''\n",
    "\n",
    "    def combine(digits,path):\n",
    "        if not len(digits):\n",
    "            res.append(path)\n",
    "            return\n",
    "\n",
    "        pre=dic[digits[0]]\n",
    "        for ch in pre:\n",
    "            combine(digits[1:],path+ch)\n",
    "            \n",
    "        return res\n",
    "                       \n",
    "    return  combine(digits,path)\n",
    "                       \n",
    "letterCombinations()"
   ]
  },
  {
   "cell_type": "markdown",
   "id": "822e48a4",
   "metadata": {},
   "source": [
    "# Word Search"
   ]
  },
  {
   "cell_type": "markdown",
   "id": "174bc67f",
   "metadata": {},
   "source": [
    "Given an m x n grid of characters board and a string word, return true if word exists in the grid.\n",
    "\n",
    "The word can be constructed from letters of sequentially adjacent cells, where adjacent cells are horizontally or vertically neighboring. The same letter cell may not be used more than once.\n",
    "\n"
   ]
  },
  {
   "cell_type": "code",
   "execution_count": 252,
   "id": "ae17a382",
   "metadata": {},
   "outputs": [
    {
     "data": {
      "text/plain": [
       "True"
      ]
     },
     "execution_count": 252,
     "metadata": {},
     "output_type": "execute_result"
    }
   ],
   "source": [
    "def wordSearch(board = [[\"A\",\"B\",\"C\",\"E\"],\n",
    "                        [\"S\",\"F\",\"C\",\"S\"],\n",
    "                        [\"A\",\"D\",\"E\",\"E\"]], word = \"ADFC\"):\n",
    "    rows,cols=len(board),len(board[0])\n",
    "    visited=set()\n",
    "    \n",
    "    def dfs(r,c,i):\n",
    "        if i==len(word):return True\n",
    "        if r<0 or r>=rows or c<0 or c>=cols or board[r][c]!=word[i] or (r,c) in visited:\n",
    "            return False\n",
    "        visited.add((r,c))\n",
    "        res=dfs(r+1,c,i+1) or dfs(r-1,c,i+1) or dfs(r,c+1,i+1) or dfs(r,c-1,i+1)\n",
    "        visited.remove((r,c))\n",
    "        return res\n",
    "    \n",
    "    for r in range(rows):\n",
    "        for c in range(cols):\n",
    "            if dfs(r,c,0):\n",
    "                return True\n",
    "    return False\n",
    "\n",
    "wordSearch()"
   ]
  },
  {
   "cell_type": "code",
   "execution_count": 8,
   "id": "8ac4413f",
   "metadata": {},
   "outputs": [],
   "source": [
    "# Sort an array in which each element is off its sorted position by at most k positions\n",
    "\n",
    "# input:  A = [10, 40, 50, 20, 30], k = 2\n",
    "\n",
    "# output: [10, 20, 30, 40, 50]\n",
    "\n",
    "#i=0,k=2,j:0-2-> \n",
    "\n",
    "# inp=[10, 40, 50, 20, 30]\n",
    "# res=[10,20,30,40,50]\n",
    "#heap:[40,50]\n",
    "class MinHeap:\n",
    "    def push(x):pass\n",
    "    def pop():pass\n",
    "\n",
    "def sort(A,k):\n",
    "    heap=MinHeap()\n",
    "    res=[]\n",
    "\n",
    "    #push first k elements with O(log k)\n",
    "    for j in range(k):\n",
    "            heap.push(A[j])\n",
    "\n",
    "    for i in range(k,len(A)):\n",
    "        res.append(heap.pop())\n",
    "        heap.push(A[i])\n",
    "\n",
    "    while heap: # if still there are remaining elements in the heap\n",
    "        res.append(heap.pop())\n",
    "        \n",
    "    return res"
   ]
  },
  {
   "cell_type": "markdown",
   "id": "e822ecac",
   "metadata": {},
   "source": [
    "# Binary tree height"
   ]
  },
  {
   "cell_type": "code",
   "execution_count": 81,
   "id": "282f4d88",
   "metadata": {},
   "outputs": [
    {
     "data": {
      "text/plain": [
       "4"
      ]
     },
     "execution_count": 81,
     "metadata": {},
     "output_type": "execute_result"
    }
   ],
   "source": [
    "# height at each root= 1+max(height of the left sub tree + height of the right sub tree)\n",
    "class treeNode:\n",
    "    def __init__(self,val=0,left=None,right=None):\n",
    "        self.val=val\n",
    "        self.left=left\n",
    "        self.right=right\n",
    "\n",
    "root=treeNode(1,treeNode(2,treeNode(4)),treeNode(3,treeNode(5)))\n",
    "\n",
    "def treeDiam(root=root):\n",
    "    diam=0\n",
    "    def treeHieght(root=root):\n",
    "        nonlocal diam\n",
    "        if not root:\n",
    "            return -1\n",
    "        leftH=treeHieght(root.left)\n",
    "        rightH=treeHieght(root.right)\n",
    "        diam=max(diam,2+leftH+rightH)\n",
    "        return 1+max(leftH,rightH)\n",
    "    \n",
    "    treeHieght(root)\n",
    "    return diam\n",
    "treeDiam()\n",
    "#treeHieght()"
   ]
  },
  {
   "cell_type": "markdown",
   "id": "c5fa4700",
   "metadata": {},
   "source": [
    "# Minimum Height Trees"
   ]
  },
  {
   "cell_type": "code",
   "execution_count": null,
   "id": "0025fee2",
   "metadata": {},
   "outputs": [],
   "source": []
  },
  {
   "cell_type": "code",
   "execution_count": null,
   "id": "27eb0535",
   "metadata": {},
   "outputs": [],
   "source": []
  },
  {
   "cell_type": "markdown",
   "id": "d662aa2e",
   "metadata": {},
   "source": [
    "\n",
    "A tree is an undirected graph in which any two vertices are connected by exactly one path. In other words, any connected graph without simple cycles is a tree.\n",
    "\n",
    "Given a tree of n nodes labelled from 0 to n - 1, and an array of n - 1 edges where edges[i] = [ai, bi] indicates that there is an undirected edge between the two nodes ai and bi in the tree, you can choose any node of the tree as the root. When you select a node x as the root, the result tree has height h. Among all possible rooted trees, those with minimum height (i.e. min(h))  are called minimum height trees (MHTs).\n",
    "\n",
    "Return a list of all MHTs' root labels. You can return the answer in any order.\n",
    "\n",
    "The height of a rooted tree is the number of edges on the longest downward path between the root and a leaf.\n",
    "\n",
    " "
   ]
  },
  {
   "cell_type": "code",
   "execution_count": 40,
   "id": "d4159b91",
   "metadata": {},
   "outputs": [
    {
     "name": "stdout",
     "output_type": "stream",
     "text": [
      "{0: [1], 1: [0, 2, 3], 2: [1], 3: [1]}\n"
     ]
    },
    {
     "data": {
      "text/plain": [
       "[1]"
      ]
     },
     "execution_count": 40,
     "metadata": {},
     "output_type": "execute_result"
    }
   ],
   "source": [
    "\n",
    "def findMinHeightTrees(n = 4, edges = [[1,0],[1,2],[1,3]]):\n",
    "    \"\"\"\n",
    "    :type n: int\n",
    "    :type edges: List[List[int]]\n",
    "    :rtype: List[int]\n",
    "    \"\"\"\n",
    "    res=[]\n",
    "    graph={node:[] for node in range(n)}\n",
    "    for src,dst in edges:\n",
    "        graph[src].append(dst)\n",
    "        graph[dst].append(src)\n",
    "    print(graph)\n",
    "    visited=set()\n",
    "\n",
    "    def dfs(root,starting):\n",
    "        if  len(graph[root])==1 and root!=starting: return 0\n",
    "        if  root in visited: return 0\n",
    "        visited.add(root)\n",
    "        maxD=1\n",
    "        for child in graph[root]:\n",
    "                maxD=max(maxD,1+dfs(child,starting))   \n",
    "        return maxD\n",
    "    \n",
    "    def bfs(root,starting):\n",
    "        if  len(graph[root])==1 and root!=starting : return 0\n",
    "        if root in visited:return 0\n",
    "        q=deque([root])\n",
    "        h=0\n",
    "        while q:\n",
    "            n=len(q)\n",
    "            for i in range(n):\n",
    "                node=q.popleft()\n",
    "                visited.add(node)\n",
    "                for child in graph[node]:\n",
    "                    if not child in visited:\n",
    "                        visited.add(child)\n",
    "                        q.append(child)\n",
    "            h+=1\n",
    "        return h-1\n",
    "                        \n",
    "\n",
    "\n",
    "\n",
    "    for root in range(n):\n",
    "        if not root in visited:\n",
    "            res.append([root,dfs(root,root)])\n",
    "        visited.clear()\n",
    "\n",
    "    Heights=[h for [r,h] in res]\n",
    "    mht=[r for [r,h] in res if h==min(Heights)]\n",
    "    #print(res,Heights,mht)\n",
    "    return mht\n",
    "\n",
    "findMinHeightTrees()\n"
   ]
  },
  {
   "cell_type": "code",
   "execution_count": null,
   "id": "e8ccc09d",
   "metadata": {},
   "outputs": [],
   "source": []
  },
  {
   "cell_type": "code",
   "execution_count": 44,
   "id": "fdf41d39",
   "metadata": {},
   "outputs": [
    {
     "data": {
      "text/plain": [
       "[1]"
      ]
     },
     "execution_count": 44,
     "metadata": {},
     "output_type": "execute_result"
    }
   ],
   "source": [
    "def findMinHeightTrees(n = 4, edges = [[1,0],[1,2],[1,3]]):\n",
    "    if n<=2:\n",
    "        return [i for i in range(n)]\n",
    "    res=[]\n",
    "    leaves=[]\n",
    "    graph={node:set([]) for node in range(n)}\n",
    "    for src,dst in edges:\n",
    "        graph[src].add(dst)\n",
    "        graph[dst].add(src)\n",
    "\n",
    "\n",
    "    for i in range(n):\n",
    "        if len(graph[i])==1:\n",
    "            leaves.append(i)\n",
    "\n",
    "    remaining_nodes=n\n",
    "    while remaining_nodes>2:\n",
    "        remaining_nodes-=len(leaves)\n",
    "        new_leaves=[]\n",
    "        while leaves:\n",
    "            leaf=leaves.pop()\n",
    "            neighbor=graph[leaf].pop()\n",
    "            graph[neighbor].remove(leaf)\n",
    "            if len(graph[neighbor])==1:\n",
    "                new_leaves.append(neighbor)\n",
    "        leaves=new_leaves\n",
    "    return leaves\n",
    "\n",
    "findMinHeightTrees()"
   ]
  },
  {
   "cell_type": "markdown",
   "id": "790d52bc",
   "metadata": {},
   "source": [
    "# Binary Tree right side view"
   ]
  },
  {
   "cell_type": "code",
   "execution_count": 1,
   "id": "544e2656",
   "metadata": {},
   "outputs": [],
   "source": [
    "def rightSideView( root):\n",
    "\n",
    "    res=[]\n",
    "\n",
    "    def bfs_level(root):\n",
    "        if not root:return \n",
    "        q=deque([root])\n",
    "        res.append(q[-1].val)\n",
    "\n",
    "        while q:\n",
    "            n=len(q)\n",
    "\n",
    "            for i in range(n):\n",
    "                node=q.popleft()\n",
    "                if node.left:\n",
    "                    q.append(node.left)\n",
    "                if  node.right:\n",
    "                    q.append(node.right)\n",
    "\n",
    "\n",
    "            if len(q)>0:\n",
    "                res.append(q[-1].val)\n",
    "\n",
    "        return res\n",
    "\n",
    "    return bfs_level(root)"
   ]
  },
  {
   "cell_type": "markdown",
   "id": "fb56402c",
   "metadata": {},
   "source": [
    "# Letter combinations of a phone number"
   ]
  },
  {
   "cell_type": "code",
   "execution_count": 3,
   "id": "be352c85",
   "metadata": {},
   "outputs": [
    {
     "data": {
      "text/plain": [
       "['ad', 'ae', 'af', 'bd', 'be', 'bf', 'cd', 'ce', 'cf']"
      ]
     },
     "execution_count": 3,
     "metadata": {},
     "output_type": "execute_result"
    }
   ],
   "source": [
    "def letterCombinations( digits='23'):\n",
    "   \n",
    "    dic={'2':'abc','3':'def','4':'ghi','5':'jkl','6':'mno','7':'pqrs','8':'tuv','9':'wxyz'}\n",
    "    res=[]\n",
    "    path=''\n",
    "\n",
    "    def combine(digits,path):\n",
    "        if not len(digits):\n",
    "            res.append(path)\n",
    "            return\n",
    "\n",
    "        pre=dic[digits[0]]\n",
    "        for ch in pre:\n",
    "            combine(digits[1:],path+ch)          \n",
    "        return res\n",
    "\n",
    "    return combine(digits,path)\n",
    "\n",
    "letterCombinations()"
   ]
  },
  {
   "cell_type": "markdown",
   "id": "41eb964b",
   "metadata": {},
   "source": [
    "# Task scheduler"
   ]
  },
  {
   "cell_type": "code",
   "execution_count": 46,
   "id": "25369027",
   "metadata": {},
   "outputs": [
    {
     "data": {
      "text/plain": [
       "6"
      ]
     },
     "execution_count": 46,
     "metadata": {},
     "output_type": "execute_result"
    }
   ],
   "source": [
    "import heapq\n",
    "from collections import  deque\n",
    "\n",
    "def taskscheduler( tasks=[\"A\",\"A\",\"A\",\"B\",\"B\",'C'], n = 1):\n",
    "    \n",
    "    dic={task:0 for task in tasks}\n",
    "\n",
    "    for task in tasks:\n",
    "        dic[task]+=1\n",
    "    #dic=Counter(tasks)   \n",
    "    maxHeap=[-cnt for cnt in dic.values()]\n",
    "    heapq.heapify(maxHeap)\n",
    "\n",
    "    q=deque()\n",
    "    time=0\n",
    "\n",
    "    while maxHeap or q:\n",
    "        time+=1\n",
    "        #print(maxHeap,q,time)\n",
    "        if maxHeap:\n",
    "            cnt=1+heapq.heappop(maxHeap) # process the most frequent task and pop it from max heap and subtract one unit \n",
    "            if cnt: \n",
    "                q.append([cnt,time+n]) # add task count of task X and next availble time slot to q\n",
    "        #print(q[0])   \n",
    "        if q and q[0][1]==time:\n",
    "            heapq.heappush(maxHeap,q.popleft()[0])\n",
    "\n",
    "    return time\n",
    "\n",
    "taskscheduler()\n"
   ]
  },
  {
   "cell_type": "markdown",
   "id": "651952d4",
   "metadata": {},
   "source": [
    "# LRU cache"
   ]
  },
  {
   "cell_type": "code",
   "execution_count": 19,
   "id": "d06ab11a",
   "metadata": {},
   "outputs": [],
   "source": [
    "class Node:\n",
    "    def __init__(self, key,val):\n",
    "        self.key=key\n",
    "        self.val=val\n",
    "        self.prev=None\n",
    "        self.next=None\n",
    "        \n",
    "class LRUCache(object):\n",
    "    \n",
    "\n",
    "    def __init__(self, capacity):\n",
    "        \"\"\"\n",
    "        :type capacity: int\n",
    "        \"\"\"\n",
    "        self.capacity=capacity\n",
    "        self.cache={} #values of hash map stores the pointers to doublt linked list Nodes\n",
    "        #two dummy nodes in left and right to keep the address of LRU (left) and most RU (right) nodes in doubly linked list \n",
    "        self.left,self.right=Node(0,0),Node(0,0)\n",
    "        self.left.next=self.right\n",
    "        self.right.prev=self.left\n",
    "    \n",
    "    #removes from anywhere \n",
    "    def remove(self,node):\n",
    "        prev,next=node.prev,node.next\n",
    "        prev.next,next.prev=next,prev\n",
    "    \n",
    "    #insert node to the right as most recently used node\n",
    "    def insert(self,node):\n",
    "        prev,next=self.right.prev,self.right\n",
    "        prev.next=node\n",
    "        next.prev=node\n",
    "        \n",
    "        node.prev=prev\n",
    "        node.next=next\n",
    "\n",
    "    def get(self, key):\n",
    "        if key in self.cache:\n",
    "            self.remove(self.cache[key])\n",
    "            self.insert(self.cache[key])\n",
    "            return self.cache[key].val  \n",
    "        return -1\n",
    "        \n",
    "\n",
    "    def put(self, key, value):\n",
    "        if key  in self.cache:\n",
    "            self.remove(self.cache[key])\n",
    "        self.cache[key]=Node(key,value)\n",
    "        self.insert(self.cache[key])\n",
    "        \n",
    "        if len(self.cache)>self.capacity:\n",
    "            lru=self.left.next\n",
    "            self.remove(lru)\n",
    "            self.cache.pop(lru.key)"
   ]
  },
  {
   "cell_type": "markdown",
   "id": "38ddeb0a",
   "metadata": {},
   "source": [
    "# Longest common prefix"
   ]
  },
  {
   "cell_type": "code",
   "execution_count": 137,
   "id": "fbf5fe80",
   "metadata": {},
   "outputs": [
    {
     "data": {
      "text/plain": [
       "'fl'"
      ]
     },
     "execution_count": 137,
     "metadata": {},
     "output_type": "execute_result"
    }
   ],
   "source": [
    "def longestCommonPrefix( strs=[\"flower\",\"flow\",\"flight\"]):\n",
    "   \n",
    "    strs=sorted(strs,key=lambda x:len(x))\n",
    "    query=strs[0]\n",
    "    pre=''\n",
    "    for i in range(len(query)):\n",
    "        for j in range(1,len(strs)):\n",
    "            if strs[j][i]!=query[i]:\n",
    "                return pre\n",
    "        pre+=query[i]\n",
    "    return pre\n",
    "\n",
    "longestCommonPrefix()"
   ]
  },
  {
   "cell_type": "markdown",
   "id": "3227f5e9",
   "metadata": {},
   "source": [
    "# Remove Duplicates from sorted array"
   ]
  },
  {
   "cell_type": "code",
   "execution_count": 21,
   "id": "aa71fd1f",
   "metadata": {},
   "outputs": [
    {
     "data": {
      "text/plain": [
       "(4, [1, 2, 3, 4, 2, 2, 3, 4])"
      ]
     },
     "execution_count": 21,
     "metadata": {},
     "output_type": "execute_result"
    }
   ],
   "source": [
    "def removeDuplicates( nums=[1,1,1,2,2,2,3,4]):\n",
    "    \n",
    "    l,r=0,0\n",
    "    while r<len(nums):\n",
    "        if nums[l]==nums[r]:\n",
    "            r+=1\n",
    "        else:\n",
    "            l+=1\n",
    "            nums[l]=nums[r]\n",
    "    return l+1,nums\n",
    "\n",
    "removeDuplicates()"
   ]
  },
  {
   "cell_type": "markdown",
   "id": "c9c9b890",
   "metadata": {},
   "source": [
    "# Remove element in place from array"
   ]
  },
  {
   "cell_type": "code",
   "execution_count": 22,
   "id": "4962ecb0",
   "metadata": {},
   "outputs": [
    {
     "data": {
      "text/plain": [
       "(2, [2, 3, 2, 1, 3])"
      ]
     },
     "execution_count": 22,
     "metadata": {},
     "output_type": "execute_result"
    }
   ],
   "source": [
    "def removeElement(nums=[1,1,2,1,3], val=1):\n",
    "\n",
    "    l=0\n",
    "    for r in range(len(nums)) :\n",
    "        if nums[r]!=val:\n",
    "            nums[l]=nums[r]\n",
    "            l+=1\n",
    "    return l,nums\n",
    "removeElement()"
   ]
  },
  {
   "cell_type": "markdown",
   "id": "967acd00",
   "metadata": {},
   "source": [
    "# Implement steStr or index of substring in a string"
   ]
  },
  {
   "cell_type": "code",
   "execution_count": 23,
   "id": "9135956e",
   "metadata": {},
   "outputs": [
    {
     "data": {
      "text/plain": [
       "2"
      ]
     },
     "execution_count": 23,
     "metadata": {},
     "output_type": "execute_result"
    }
   ],
   "source": [
    "def strStr( haystack='hello', needle='ll'):\n",
    "\n",
    "    if not needle : return 0\n",
    "\n",
    "    for i in range(len(haystack)-len(needle)+1):\n",
    "        for j in range(len(needle)):\n",
    "            if haystack[i+j]!=needle[j]:\n",
    "                break\n",
    "            if j==len(needle)-1:\n",
    "                return i\n",
    "    return -1\n",
    "strStr()"
   ]
  },
  {
   "cell_type": "markdown",
   "id": "addcdab0",
   "metadata": {},
   "source": [
    "# K smallest element of a BST"
   ]
  },
  {
   "cell_type": "code",
   "execution_count": 25,
   "id": "1952fff0",
   "metadata": {},
   "outputs": [],
   "source": [
    "def kthSmallest( root, k):\n",
    "\n",
    "    res=[]\n",
    "    def dfs_inorder(root):\n",
    "        if not root:return\n",
    "        dfs_inorder(root.left)\n",
    "        res.append(root.val)\n",
    "        dfs_inorder(root.right)\n",
    "        return res\n",
    "\n",
    "    def inorder(root,k):\n",
    "        stack=[]\n",
    "        res=[]\n",
    "        while True:\n",
    "            while root:\n",
    "                stack.append(root)\n",
    "                root=root.left\n",
    "            root=stack.pop()\n",
    "            k-=1\n",
    "            if not k:return root.val\n",
    "            #res.append(root)\n",
    "            root=root.right\n",
    "        #return res\n",
    "\n",
    "\n",
    "    return inorder(root,k)\n",
    "    #return dfs_inorder(root)[k-1]"
   ]
  },
  {
   "cell_type": "markdown",
   "id": "a7423c20",
   "metadata": {},
   "source": [
    "# Length of the last word"
   ]
  },
  {
   "cell_type": "code",
   "execution_count": 27,
   "id": "8a432657",
   "metadata": {},
   "outputs": [
    {
     "data": {
      "text/plain": [
       "6"
      ]
     },
     "execution_count": 27,
     "metadata": {},
     "output_type": "execute_result"
    }
   ],
   "source": [
    "def lengthOfLastWord( s='hello worlds'):\n",
    "    s=s.strip()\n",
    "    lastlen=0\n",
    "    for i in range(len(s)-1,-1,-1):\n",
    "        if s[i]!=' ':\n",
    "            lastlen+=1\n",
    "        else:\n",
    "            break\n",
    "    return lastlen\n",
    "lengthOfLastWord()\n"
   ]
  },
  {
   "cell_type": "markdown",
   "id": "f18e3ee3",
   "metadata": {},
   "source": [
    "# Add two numbers orginized in linked lists"
   ]
  },
  {
   "cell_type": "code",
   "execution_count": 28,
   "id": "d33c3024",
   "metadata": {},
   "outputs": [],
   "source": [
    "def addTwoNumbers(self, l1, l2):\n",
    "    \n",
    "    carry,total=0,0\n",
    "    p1,p2=l1,l2\n",
    "    dummy=ListNode()\n",
    "    p3=dummy\n",
    "    while p1 and p2:\n",
    "        p3.next=ListNode()\n",
    "        p3=p3.next\n",
    "        total=p1.val+p2.val\n",
    "        p3.val=(total+carry)%10\n",
    "        carry=(total+carry)//10\n",
    "        p2=p2.next\n",
    "        p1=p1.next\n",
    "\n",
    "    while p1:\n",
    "        p3.next=ListNode()\n",
    "        p3=p3.next\n",
    "        total=p1.val\n",
    "        p3.val=(total+carry)%10\n",
    "        carry=(total+carry)//10\n",
    "\n",
    "        #print(p1.val,0,p3.val)\n",
    "        p1=p1.next\n",
    "\n",
    "    while p2:\n",
    "        p3.next=ListNode()\n",
    "        p3=p3.next\n",
    "        total=p2.val\n",
    "        p3.val=(total+carry)%10\n",
    "        carry=(total+carry)//10\n",
    "\n",
    "        #print(0,p2.val,p3.val)\n",
    "        p2=p2.next\n",
    "\n",
    "    if carry:\n",
    "        p3.next=ListNode()\n",
    "        p3=p3.next\n",
    "        p3.val=carry\n",
    "\n",
    "\n",
    "    return dummy.next"
   ]
  },
  {
   "cell_type": "markdown",
   "id": "3d040c70",
   "metadata": {},
   "source": [
    "# save a number in linked list"
   ]
  },
  {
   "cell_type": "code",
   "execution_count": 30,
   "id": "b94e9586",
   "metadata": {},
   "outputs": [
    {
     "name": "stdout",
     "output_type": "stream",
     "text": [
      "3-->2-->1-->None\n"
     ]
    }
   ],
   "source": [
    "class ListNode:\n",
    "    def __init__(self,val=0,next=None):\n",
    "        self.val=val\n",
    "        self.next=next\n",
    "\n",
    "def numtoList(num=123):\n",
    "    dum=ListNode()\n",
    "    cur=dum\n",
    "    \n",
    "    while num:\n",
    "        cur.next=ListNode(num%10)\n",
    "        num=num//10\n",
    "        cur=cur.next\n",
    "        \n",
    "    return dum.next\n",
    "        \n",
    "def printList(head):\n",
    "    cur=head\n",
    "    while cur:\n",
    "        print(cur.val,end='-->')\n",
    "        cur=cur.next\n",
    "    print('None')\n",
    "\n",
    "printList(numtoList())\n",
    "        "
   ]
  },
  {
   "cell_type": "markdown",
   "id": "10f0c501",
   "metadata": {},
   "source": [
    "# Reverse Integer"
   ]
  },
  {
   "cell_type": "code",
   "execution_count": 31,
   "id": "0c139eef",
   "metadata": {},
   "outputs": [
    {
     "data": {
      "text/plain": [
       "8991"
      ]
     },
     "execution_count": 31,
     "metadata": {},
     "output_type": "execute_result"
    }
   ],
   "source": [
    "def reverse( x=1998):\n",
    "\n",
    "    sign=-1 if x<0 else 1\n",
    "    x=-1*x if x<0 else x\n",
    "    res=0\n",
    "    while x:\n",
    "        res=res*10+(x%10)\n",
    "        if res>=(2**31)-1:\n",
    "            return 0\n",
    "        x=x//10\n",
    "\n",
    "    return sign*res  \n",
    "reverse()"
   ]
  },
  {
   "cell_type": "markdown",
   "id": "e68c1033",
   "metadata": {},
   "source": [
    "# Integer to Roman"
   ]
  },
  {
   "cell_type": "code",
   "execution_count": 50,
   "id": "aeb4cdf6",
   "metadata": {},
   "outputs": [
    {
     "data": {
      "text/plain": [
       "'CXXIII'"
      ]
     },
     "execution_count": 50,
     "metadata": {},
     "output_type": "execute_result"
    }
   ],
   "source": [
    "def intToRoman( num=123):\n",
    "    \n",
    "    symbolList=[[1,'I'],[4,'IV'],[5,'V'],[9,'IX'],[10,'X'],[40,'XL'],[50,'L'],\n",
    "                [90,'XC'],[100,'C'],[400,'CD'],[500,'D'],[900,'CM'],[1000,'M']]\n",
    "\n",
    "    #symbolList=sorted(symbolList,key=lambda x:-1*x[0])\n",
    "    res=''\n",
    "    for val,sym in reversed(symbolList):\n",
    "        if num//val:\n",
    "            count=num//val\n",
    "            res+=(sym*count)\n",
    "            num=num%val\n",
    "    return res\n",
    "intToRoman()\n"
   ]
  },
  {
   "cell_type": "markdown",
   "id": "e65dd9e7",
   "metadata": {},
   "source": [
    "# Roman to integer"
   ]
  },
  {
   "cell_type": "code",
   "execution_count": 60,
   "id": "fac1f3e8",
   "metadata": {},
   "outputs": [
    {
     "data": {
      "text/plain": [
       "123"
      ]
     },
     "execution_count": 60,
     "metadata": {},
     "output_type": "execute_result"
    }
   ],
   "source": [
    "def romanToInt( s):\n",
    "   \n",
    "    dic={'I':1,'V':5,'X':10,'L':50,'C':100,'D':500,'M':1000}\n",
    "    dic2={'IV':4,'IX':9,'XL':40,'XC':90,'CD':400,'CM':900}\n",
    "    res,i=0,0\n",
    "    n=len(s)\n",
    "    while i<n:\n",
    "  \n",
    "        if i<n-1 and s[i]+s[i+1] in dic2 :\n",
    "            res+=dic2[s[i]+s[i+1]]\n",
    "            i+=2\n",
    "        elif s[i] in dic:\n",
    "            res+=dic[s[i]]\n",
    "            i+=1\n",
    "         \n",
    "    return res\n",
    "romanToInt('CXXIII')"
   ]
  },
  {
   "cell_type": "markdown",
   "id": "e05e524e",
   "metadata": {},
   "source": [
    "# Tree Sum closest"
   ]
  },
  {
   "cell_type": "code",
   "execution_count": 64,
   "id": "8ac2e0e8",
   "metadata": {},
   "outputs": [
    {
     "data": {
      "text/plain": [
       "2"
      ]
     },
     "execution_count": 64,
     "metadata": {},
     "output_type": "execute_result"
    }
   ],
   "source": [
    "def threeSumClosest( nums = [-1,2,1,-4], target = 1):\n",
    "   \n",
    "    nums.sort()\n",
    "    res=nums[0]+nums[1]+nums[2]\n",
    "\n",
    "    for i,a in enumerate(nums):\n",
    "        l,r=i+1,len(nums)-1\n",
    "        while l<r:\n",
    "            curS=a+nums[l]+nums[r]\n",
    "            if curS<target:\n",
    "                l+=1\n",
    "            elif curS>target:\n",
    "                r-=1\n",
    "            else:\n",
    "                return curS\n",
    "            if abs(target-curS)<abs(target-res):\n",
    "                res=curS\n",
    "    return res\n",
    "threeSumClosest()"
   ]
  },
  {
   "cell_type": "markdown",
   "id": "b0787f78",
   "metadata": {},
   "source": [
    "# Swap pairs of a linked list\n"
   ]
  },
  {
   "cell_type": "code",
   "execution_count": 83,
   "id": "9d58b755",
   "metadata": {},
   "outputs": [],
   "source": [
    "def swapPairs( head):\n",
    "\n",
    "    dum=ListNode(0,head)\n",
    "    prev,cur=dum,head\n",
    "\n",
    "    while  cur and cur.next:\n",
    "        #save ptrs\n",
    "        sec=cur.next\n",
    "        nextPair=cur.next.next\n",
    "\n",
    "        #swap this pair\n",
    "        sec.next=cur\n",
    "        cur.next=nextPair\n",
    "        prev.next=sec\n",
    "\n",
    "        #update\n",
    "        prev=cur\n",
    "        cur=nextPair\n",
    "\n",
    "    return dum.next"
   ]
  },
  {
   "cell_type": "markdown",
   "id": "d62a5bb5",
   "metadata": {},
   "source": [
    "# Top 10 Fb interview questions"
   ]
  },
  {
   "cell_type": "markdown",
   "id": "19e1756c",
   "metadata": {},
   "source": [
    "### 1. Merge Intervals"
   ]
  },
  {
   "cell_type": "code",
   "execution_count": 88,
   "id": "733487b5",
   "metadata": {},
   "outputs": [
    {
     "data": {
      "text/plain": [
       "[[1, 6], [8, 10]]"
      ]
     },
     "execution_count": 88,
     "metadata": {},
     "output_type": "execute_result"
    }
   ],
   "source": [
    "def mergeInterval(intervals=[[1,3],[2,6],[8,10]]):\n",
    "    res=[]\n",
    "    intervals=sorted(intervals, key = lambda x:x[0])\n",
    "    for v in intervals:\n",
    "        if not res or v[0]>res[-1][1]:\n",
    "            res.append(v)\n",
    "        else:\n",
    "            res[-1][1]=max(v[1],res[-1][1])\n",
    "    return res\n",
    "mergeInterval()"
   ]
  },
  {
   "cell_type": "markdown",
   "id": "762f90ac",
   "metadata": {},
   "source": [
    "### 2. LRU cache"
   ]
  },
  {
   "cell_type": "code",
   "execution_count": 130,
   "id": "d7fb30eb",
   "metadata": {},
   "outputs": [
    {
     "name": "stdout",
     "output_type": "stream",
     "text": [
      "-1\n"
     ]
    }
   ],
   "source": [
    "class dllNode:\n",
    "    def __init__(self,key,val):\n",
    "        self.key=key\n",
    "        self.val=val\n",
    "        self.next=None\n",
    "        self.prev=None\n",
    "        \n",
    "class LRUcache(object):\n",
    "    \n",
    "    def __init__(self,capacity):\n",
    "        self.cap=capacity\n",
    "        self.cache={}\n",
    "        self.left=dllNode(0,0)\n",
    "        self.right=dllNode(0,0)\n",
    "        self.left.next=self.right\n",
    "        self.right.prev=self.left\n",
    "        \n",
    "    #removes from anywhere \n",
    "    def remove(self,node):\n",
    "        prev,next=node.prev,node.next\n",
    "        prev.next,next.prev=next,prev\n",
    "    \n",
    "    #insert node to the right as most recently used node\n",
    "    def insert(self,node):\n",
    "        prev,next=self.right.prev,self.right\n",
    "        prev.next=node\n",
    "        next.prev=node\n",
    "        \n",
    "        node.prev=prev\n",
    "        node.next=next\n",
    "\n",
    "    def get(self, key):\n",
    "        if key in self.cache:\n",
    "            self.remove(self.cache[key])\n",
    "            self.insert(self.cache[key])\n",
    "            return self.cache[key].val  \n",
    "        return -1\n",
    "        \n",
    "\n",
    "    def put(self, key, value):\n",
    "        if key  in self.cache:\n",
    "            self.remove(self.cache[key])\n",
    "        self.cache[key]=Node(key,value)\n",
    "        self.insert(self.cache[key])\n",
    "        \n",
    "        if len(self.cache)>self.cap:\n",
    "            lru=self.left.next\n",
    "            self.remove(lru)\n",
    "            self.cache.pop(lru.key)\n",
    "        \n",
    "c=LRUcache(2)  \n",
    "c.put(1,1)\n",
    "c.put(2,2)\n",
    "#c.get(1)\n",
    "c.put(3,3)\n",
    "print(c.get(1))\n",
    "#print(c.get(3))\n",
    "#c.put(4,4)\n",
    "#c.put(5,5)\n",
    "#print(c.get(4))"
   ]
  },
  {
   "cell_type": "markdown",
   "id": "17e2e7a1",
   "metadata": {},
   "source": [
    "### 3. Sub array Sum equals K"
   ]
  },
  {
   "cell_type": "code",
   "execution_count": 138,
   "id": "e8ef715b",
   "metadata": {},
   "outputs": [
    {
     "data": {
      "text/plain": [
       "3"
      ]
     },
     "execution_count": 138,
     "metadata": {},
     "output_type": "execute_result"
    }
   ],
   "source": [
    "#brute force o(n^2)\n",
    "def subsum2(nums=[1,2,3,4,-1],k=2):\n",
    "    res=0\n",
    "    for i in range(len(nums)):\n",
    "        for j in range(i,len(nums)):\n",
    "            if sum(nums[i:j+1])==k:\n",
    "                res+=1\n",
    "    return res\n",
    "\n",
    "def subsum(nums=[1,2,3,4,-1],k=3):\n",
    "    res,curSum=0,0\n",
    "    prefixSum={0:1}\n",
    "    for num in nums:\n",
    "        curSum+=num\n",
    "        diff=curSum-k\n",
    "        res+=prefixSum.get(diff,0)\n",
    "        prefixSum[curSum]=1+prefixSum.get(curSum,0)\n",
    "    return res\n",
    "subsum()"
   ]
  },
  {
   "cell_type": "markdown",
   "id": "41932eea",
   "metadata": {},
   "source": [
    "### 4. K-closeset points to origio"
   ]
  },
  {
   "cell_type": "code",
   "execution_count": 153,
   "id": "25adb06b",
   "metadata": {},
   "outputs": [
    {
     "name": "stdout",
     "output_type": "stream",
     "text": [
      "[(1.4142135623730951, 1, 1), (3.605551275463989, 2, 3), (5.0, 3, 4), (7.0710678118654755, 5, 5), (8.48528137423857, 6, 6), (13.45362404707371, 10, 9)]\n"
     ]
    },
    {
     "data": {
      "text/plain": [
       "[[1, 1], [2, 3], [3, 4]]"
      ]
     },
     "execution_count": 153,
     "metadata": {},
     "output_type": "execute_result"
    }
   ],
   "source": [
    "import math\n",
    "def kClosest(points=[[10,9],[1,1],[2,3],[3,4],[5,5],[6,6]],k=3):\n",
    "    res=[]\n",
    "    data=[(math.sqrt(i**2+j**2),i,j) for [i,j] in points ]\n",
    "    data=sorted(data,key=lambda x:x[0])\n",
    "    print(data)\n",
    "    return [[i,j] for dist,i,j in data ][0:k]\n",
    "    \n",
    "kClosest()"
   ]
  },
  {
   "cell_type": "markdown",
   "id": "0e4a9ba7",
   "metadata": {},
   "source": [
    "### 5. Basic Calculator"
   ]
  },
  {
   "cell_type": "code",
   "execution_count": 205,
   "id": "06d680ee",
   "metadata": {},
   "outputs": [
    {
     "name": "stdout",
     "output_type": "stream",
     "text": [
      "3 3\n",
      "4 4\n",
      "5 9\n"
     ]
    },
    {
     "data": {
      "text/plain": [
       "-12"
      ]
     },
     "execution_count": 205,
     "metadata": {},
     "output_type": "execute_result"
    }
   ],
   "source": [
    "def basicClac(s='\"- (3 + (4 + 5))\"'):\n",
    "    curSum,num=0,0\n",
    "    sign,i=1,0\n",
    "    stack=[]\n",
    "    \n",
    "     #'12+(3+ 1) -13 +10)'\n",
    "     #    ^\n",
    "    #num:0\n",
    "    #curSum:0\n",
    "    #stk:12+\n",
    "    while i < len(s):\n",
    "        # number\n",
    "\n",
    "        if s[i]>='0' and s[i]<='9':\n",
    "            num=0\n",
    "            while  i<len(s) and s[i]>='0' and s[i]<='9':\n",
    "                num=num*10+int(s[i])\n",
    "                i+=1\n",
    "            curSum+=sign*num\n",
    "            print(num,curSum)\n",
    "            i-=1\n",
    "\n",
    "        elif s[i]=='+':\n",
    "            sign=1\n",
    "        elif s[i]=='-':\n",
    "            sign=-1\n",
    "        elif s[i]=='(':\n",
    "            stack.append(curSum)\n",
    "            stack.append(sign)\n",
    "            curSum=0\n",
    "            sign=1\n",
    "        elif s[i]==')':\n",
    "            if stack!=[]:\n",
    "                curSum=stack.pop()*curSum\n",
    "                curSum+=stack.pop()  \n",
    "        \n",
    "       \n",
    "        i+=1\n",
    "    return curSum\n",
    "\n",
    "basicClac()\n",
    "        \n",
    "    "
   ]
  },
  {
   "cell_type": "markdown",
   "id": "b6f32331",
   "metadata": {},
   "source": [
    "### 6. Vertical order traversal of binary tree"
   ]
  },
  {
   "cell_type": "code",
   "execution_count": 11,
   "id": "055dd82a",
   "metadata": {},
   "outputs": [
    {
     "data": {
      "text/plain": [
       "[[2], [5], [1, 6, 7], [3], [4]]"
      ]
     },
     "execution_count": 11,
     "metadata": {},
     "output_type": "execute_result"
    }
   ],
   "source": [
    "class treeNode:\n",
    "    def __init__(self,val,left=None,right=None):\n",
    "        self.val=val\n",
    "        self.left=left\n",
    "        self.right=right\n",
    "        \n",
    "'''\n",
    "       1\n",
    "     /   \\\n",
    "    5     3\n",
    "   / \\   / \\\n",
    "  2   6 7   4\n",
    "'''\n",
    "def vertcalOrder(root=treeNode(1,treeNode(5,treeNode(2),treeNode(6)),treeNode(3,treeNode(7),treeNode(4)))):\n",
    "        res={}\n",
    "        output=[]\n",
    "        def dfs(root,col,row):\n",
    "            if not root:return\n",
    "            dfs(root.left,col-1,row+1)\n",
    "            res[col]=res.get(col,[])+[(row,root.val)]\n",
    "            dfs(root.right,col+1,row+1)\n",
    "            return res\n",
    "        \n",
    "        for k in sorted(dfs(root,0,0).keys()):\n",
    "            output.append([v for r,v in sorted(res[k])])\n",
    "\n",
    "        return  output\n",
    "vertcalOrder()"
   ]
  },
  {
   "cell_type": "markdown",
   "id": "d60b7c86",
   "metadata": {},
   "source": [
    "### 7. Pow(x,n)"
   ]
  },
  {
   "cell_type": "code",
   "execution_count": 5,
   "id": "853d2917",
   "metadata": {},
   "outputs": [
    {
     "data": {
      "text/plain": [
       "0.25"
      ]
     },
     "execution_count": 5,
     "metadata": {},
     "output_type": "execute_result"
    }
   ],
   "source": [
    "def pow_(x=2,n=-2):\n",
    "    if n<0:\n",
    "        return pow_(1/x,-n)# handel negative power\n",
    "    r=1\n",
    "    while n>0:\n",
    "        if n%2==0:\n",
    "            x*=x\n",
    "            n/=2\n",
    "        else: #handle odd power\n",
    "            r=r*x\n",
    "            n=n-1\n",
    "    return r\n",
    "pow_()"
   ]
  },
  {
   "cell_type": "markdown",
   "id": "25d993d0",
   "metadata": {},
   "source": [
    "### 8.  Pick index with weight"
   ]
  },
  {
   "cell_type": "code",
   "execution_count": null,
   "id": "55fe27a4",
   "metadata": {},
   "outputs": [],
   "source": [
    "class Solution(object):\n",
    "    import random\n",
    "\n",
    "    def __init__(self, w):\n",
    "        \"\"\"\n",
    "        :type w: List[int]\n",
    "        \"\"\"\n",
    "        self.presums=[]\n",
    "        self.presums.append(0)\n",
    "        cursum=0\n",
    "        for wt in w:\n",
    "            cursum+=wt\n",
    "            self.presums.append(cursum)\n",
    "        self.totalSum=cursum\n",
    "            \n",
    "                \n",
    "        \n",
    "\n",
    "    def pickIndex(self):\n",
    "        \"\"\"\n",
    "        :rtype: int\n",
    "        \"\"\"\n",
    "        target=random.random()*self.totalSum\n",
    "        l,r=0,len(self.presums)-1\n",
    "        while l<=r:\n",
    "            mid=(r+l)//2 #l+(r-l)//2\n",
    "            if target>self.presums[mid]:\n",
    "                l=mid+1\n",
    "            elif target<self.presums[mid]:\n",
    "                r=mid-1\n",
    "            else:\n",
    "                return mid-1\n",
    "        return l-1\n",
    "            "
   ]
  },
  {
   "cell_type": "markdown",
   "id": "7afa8ff2",
   "metadata": {},
   "source": [
    "### 9. Rangesum of a BST"
   ]
  },
  {
   "cell_type": "code",
   "execution_count": 6,
   "id": "882978e1",
   "metadata": {},
   "outputs": [],
   "source": [
    "# Definition for a binary tree node.\n",
    "# class TreeNode(object):\n",
    "#     def __init__(self, val=0, left=None, right=None):\n",
    "#         self.val = val\n",
    "#         self.left = left\n",
    "#         self.right = right\n",
    "from collections import deque\n",
    "class Solution(object):\n",
    "\n",
    "    def __init__(self):\n",
    "        self.rangeSum=0\n",
    "    def rangeSumBST(self, root, low, high):\n",
    "        \"\"\"\n",
    "        :type root: TreeNode\n",
    "        :type low: int\n",
    "        :type high: int\n",
    "        :rtype: int\n",
    "        \"\"\"\n",
    "        def dfs(root,low,high):\n",
    "            if not root :return\n",
    "            if root.val>=low and root.val<=high:\n",
    "                self.rangeSum+=(root.val)\n",
    "            dfs(root.left,low,high)\n",
    "            dfs(root.right,low,high)\n",
    "            return self.rangeSum\n",
    "        \n",
    "        def bfs(root,low,high):\n",
    "            if not root:return\n",
    "            q=deque([root])\n",
    "            while q:\n",
    "                node=q.popleft()\n",
    "                if node.val>=low and node.val<=high:\n",
    "                    self.rangeSum+=node.val\n",
    "                if node.left:\n",
    "                    q.append(node.left)\n",
    "                if node.right:\n",
    "                    q.append(node.right)\n",
    "            return self.rangeSum\n",
    "                \n",
    "            \n",
    "        return dfs(root,low,high)\n",
    "    \n",
    "    \n",
    "                \n",
    "        "
   ]
  },
  {
   "cell_type": "markdown",
   "id": "75521a52",
   "metadata": {},
   "source": [
    "### 10. Valid Palindrome\n"
   ]
  },
  {
   "cell_type": "code",
   "execution_count": 17,
   "id": "76297140",
   "metadata": {},
   "outputs": [
    {
     "data": {
      "text/plain": [
       "False"
      ]
     },
     "execution_count": 17,
     "metadata": {},
     "output_type": "execute_result"
    }
   ],
   "source": [
    "def validpalindrome(s='a ssal'):\n",
    "    s=[ch.lower() for ch in s if ch.isalnum()]\n",
    "    l,r=0,len(s)-1\n",
    "    while l<r:\n",
    "        if s[l]==s[r]:\n",
    "            l+=1\n",
    "            r-=1\n",
    "        else:\n",
    "            return False\n",
    "    return True\n",
    "            \n",
    "validpalindrome()"
   ]
  },
  {
   "cell_type": "code",
   "execution_count": 14,
   "id": "79ed19be",
   "metadata": {},
   "outputs": [
    {
     "name": "stdout",
     "output_type": "stream",
     "text": [
      "['a', '1', 'b', 's']\n"
     ]
    }
   ],
   "source": [
    "s='a1 BS^'\n",
    "s=[ch.lower() for ch in s if ch.isalnum()]\n",
    "print(s)"
   ]
  },
  {
   "cell_type": "markdown",
   "id": "6d01bd1b",
   "metadata": {},
   "source": [
    "### Minimum Window Substring\n"
   ]
  },
  {
   "cell_type": "markdown",
   "id": "d27d45e0",
   "metadata": {},
   "source": [
    "Given two strings s and t of lengths m and n respectively, return the minimum window substring of s such that every character in t (including duplicates) is included in the window. If there is no such substring, return the empty string \"\".\n",
    "\n",
    "The testcases will be generated such that the answer is unique.\n",
    "\n",
    "A substring is a contiguous sequence of characters within the string.\n",
    "\n",
    "Example 1:\n",
    "\n",
    "Input: s = \"ADOBECODEBANC\", t = \"ABC\"\n",
    "Output: \"BANC\"\n",
    "Explanation: The minimum window substring \"BANC\" includes 'A', 'B', and 'C' from string t."
   ]
  },
  {
   "cell_type": "code",
   "execution_count": 18,
   "id": "f279d61c",
   "metadata": {},
   "outputs": [
    {
     "data": {
      "text/plain": [
       "'BANC'"
      ]
     },
     "execution_count": 18,
     "metadata": {},
     "output_type": "execute_result"
    }
   ],
   "source": [
    "def minWindow( s = \"ADOBECODEBANC\", t = \"ABC\"):\n",
    "\n",
    "    countT,countWin={},{}\n",
    "\n",
    "    for ch in t:\n",
    "        countT[ch]=countT.get(ch,0)+1\n",
    "\n",
    "    have,need=0,len(countT)\n",
    "    res,lenres=[-1,-1],float('inf')\n",
    "\n",
    "    l=0\n",
    "    for r in range(l,len(s)):\n",
    "\n",
    "        countWin[s[r]]=1+countWin.get(s[r],0)\n",
    "\n",
    "        if s[r] in countT and countT[s[r]]==countWin[s[r]] :\n",
    "            have+=1\n",
    "\n",
    "        while need==have:\n",
    "            if r-l+1<lenres:\n",
    "                res=[l,r]\n",
    "                lenres=r-l+1\n",
    "            countWin[s[l]]-=1\n",
    "            if s[l] in countT and countWin[s[l]]<countT[s[l]]:\n",
    "                have-=1\n",
    "            l+=1\n",
    "\n",
    "    l,r=res\n",
    "    return s[l:r+1]\n",
    "\n",
    "\n",
    "minWindow()\n"
   ]
  },
  {
   "cell_type": "markdown",
   "id": "c56b91f3",
   "metadata": {},
   "source": [
    "## Serialize and deserialize a binary tree"
   ]
  },
  {
   "cell_type": "code",
   "execution_count": 44,
   "id": "d0addfef",
   "metadata": {},
   "outputs": [
    {
     "name": "stdout",
     "output_type": "stream",
     "text": [
      "1;5;3;None;None;None;4;None;None\n",
      "1 5 3\n",
      "5 None None\n",
      "3 None 4\n",
      "4 None None\n",
      "1;5;3;None;None;None;4;None;None\n"
     ]
    }
   ],
   "source": [
    "from collections import deque\n",
    "class treeNode:\n",
    "    def __init__(self,val,left=None,right=None):\n",
    "        self.val=val\n",
    "        self.left=left\n",
    "        self.right=right\n",
    "\n",
    "class treeSerilizer:\n",
    "    def serialize(self,root):\n",
    "        if not root:return ''\n",
    "        q=deque([root])\n",
    "        embedding=[]\n",
    "        res=[]\n",
    "        while q:\n",
    "            node=q.popleft()\n",
    "            if node is None:\n",
    "                embedding.append('None')\n",
    "            else:\n",
    "                embedding.append(str(node.val))\n",
    "                q.append(node.left)\n",
    "                q.append(node.right)\n",
    "        return ';'.join(embedding)\n",
    "\n",
    "    def deSerialize(self,embedding):\n",
    "        if not embedding return \n",
    "    \n",
    "        nodesList=embedding.split(';')\n",
    "        root=treeNode(nodesList.pop(0))\n",
    "        q=deque([root])\n",
    "        while q:\n",
    "            node=q.popleft()\n",
    "            if node==None:\n",
    "                continue\n",
    "            else:\n",
    "                left,right=nodesList.pop(0),nodesList.pop(0)\n",
    "                print(node.val,left,right)\n",
    "                node.left=treeNode(int(left)) if left!='None' else None\n",
    "                node.right=treeNode(int(right)) if right!='None' else None\n",
    "                q.append(node.left)\n",
    "                q.append(node.right)\n",
    "        return root \n",
    "        \n",
    "ts=treeSerilizer()\n",
    "emd=ts.serialize(root=treeNode(1,treeNode(5,None,None),treeNode(3,None,treeNode(4))))\n",
    "print(emd)\n",
    "des=ts.deSerialize(emd) \n",
    "des_=ts.serialize(des)\n",
    "print(des_)\n",
    "            \n",
    "        \n",
    "        "
   ]
  },
  {
   "cell_type": "markdown",
   "id": "10398253",
   "metadata": {},
   "source": [
    "### Trap rain water"
   ]
  },
  {
   "cell_type": "code",
   "execution_count": 45,
   "id": "ed208395",
   "metadata": {},
   "outputs": [
    {
     "data": {
      "text/plain": [
       "9"
      ]
     },
     "execution_count": 45,
     "metadata": {},
     "output_type": "execute_result"
    }
   ],
   "source": [
    "def trap( h=[4,2,0,3,2,5]):\n",
    "\n",
    "    maxLeft=[0]*len(h)\n",
    "    maxRight=[0]*len(h)\n",
    "\n",
    "    maxLeft[0]=0\n",
    "    curmax=h[0]\n",
    "    for i in range(1,len(h)):\n",
    "        if h[i]>=curmax:\n",
    "            curmax=h[i]\n",
    "        maxLeft[i]=curmax\n",
    "\n",
    "    maxRight[-1]=0\n",
    "    curmax=h[-1]\n",
    "    for i in range(len(h)-2,-1,-1):\n",
    "        if h[i]>curmax:\n",
    "            curmax=h[i]\n",
    "        maxRight[i]=curmax\n",
    "\n",
    "    res=0\n",
    "    curres=0\n",
    "    for i in range(len(h)):\n",
    "        curres=min(maxLeft[i],maxRight[i])-h[i]\n",
    "        res+= curres if curres>0 else 0 \n",
    "\n",
    "\n",
    "    return res\n",
    "trap()"
   ]
  },
  {
   "cell_type": "code",
   "execution_count": 74,
   "id": "13ec3e25",
   "metadata": {},
   "outputs": [
    {
     "data": {
      "text/plain": [
       "[[1, 5], [1, 2, 3], [1, 2, 4]]"
      ]
     },
     "execution_count": 74,
     "metadata": {},
     "output_type": "execute_result"
    }
   ],
   "source": [
    "from collections import deque\n",
    "class treeNode:\n",
    "    def __init__(self,val,left=None,right=None):\n",
    "        self.val=val\n",
    "        self.left=left\n",
    "        self.right=right\n",
    "\n",
    "def deSerializeTree(nodesList=[1,5,2,'N','N',3,4,'N','N','N','N',]):\n",
    "    if not nodesList: return \n",
    "    root=treeNode(nodesList.pop(0))\n",
    "    q=deque([root])\n",
    "    while q:\n",
    "        node=q.popleft()\n",
    "        if node==None:\n",
    "            continue\n",
    "        else:\n",
    "            left,right=nodesList.pop(0),nodesList.pop(0)\n",
    "            #print(node.val,left,right)\n",
    "            node.left=treeNode(int(left)) if left!='N' else None\n",
    "            node.right=treeNode(int(right)) if right!='N' else None\n",
    "            q.append(node.left)\n",
    "            q.append(node.right)\n",
    "    return root \n",
    "\n",
    "def preorder(root):\n",
    "    if not root:return\n",
    "    print(root.val,end=' ')\n",
    "    preorder(root.left)\n",
    "    preorder(root.right)\n",
    "\n",
    "res=[]\n",
    "path=[]\n",
    "def dfs(root,path):\n",
    "    if not root:\n",
    "        #print(path)\n",
    "        if path not in res:\n",
    "            res.append(path)\n",
    "        return\n",
    "    dfs(root.left,path+[root.val])\n",
    "    dfs(root.right,path+[root.val])\n",
    "    return res\n",
    "    \n",
    "#preorder(deSerializeTree())\n",
    "dfs(deSerializeTree(),[])\n",
    "    "
   ]
  },
  {
   "cell_type": "markdown",
   "id": "e7d3f5a9",
   "metadata": {},
   "source": [
    "## Prune a tree (remove subtrees without 1)"
   ]
  },
  {
   "cell_type": "code",
   "execution_count": null,
   "id": "2ba0afcd",
   "metadata": {},
   "outputs": [],
   "source": [
    "def pruneTree(root):\n",
    "    if not root: return None\n",
    "    if not self.pruneTree(root.left):\n",
    "        root.left=None\n",
    "    if not self.pruneTree(root.right):\n",
    "        root.right=None\n",
    "    if root.val!=1 and root.left is None and root.right is None:\n",
    "        root=None\n",
    "    return root\n"
   ]
  },
  {
   "cell_type": "markdown",
   "id": "e8a2bf04",
   "metadata": {},
   "source": [
    "## Largest Rectangle in Histogram\n"
   ]
  },
  {
   "cell_type": "markdown",
   "id": "ff0eee14",
   "metadata": {},
   "source": [
    "\n",
    "Given an array of integers heights representing the histograms bar height where the width of each bar\n",
    "is 1, return the area of the largest rectangle in the histogram."
   ]
  },
  {
   "cell_type": "code",
   "execution_count": 75,
   "id": "05b371bc",
   "metadata": {},
   "outputs": [],
   "source": [
    "def largestRectangleArea( heights):\n",
    "\n",
    "    stack=[]\n",
    "    maxArea=0\n",
    "    for idx,h in enumerate(heights):\n",
    "        startIdx=idx\n",
    "        while stack and stack[-1][1]>=h:\n",
    "            stackIdx,stackH=stack.pop()\n",
    "            maxArea=max(maxArea,(idx-stackIdx)*stackH)\n",
    "            startIdx=stackIdx\n",
    "        stack.append([startIdx,h])\n",
    "    # process leftovers from the stack\n",
    "    for idx,h in stack:\n",
    "        maxArea=max(maxArea,h*(len(heights)-idx))\n",
    "    return maxArea\n"
   ]
  },
  {
   "cell_type": "markdown",
   "id": "d9e07ab5",
   "metadata": {},
   "source": [
    "# Word Ladder (BFS)"
   ]
  },
  {
   "cell_type": "markdown",
   "id": "f6bafea8",
   "metadata": {},
   "source": [
    "A transformation sequence from word beginWord to word endWord using a dictionary wordList is a sequence of words beginWord -> s1 -> s2 -> ... -> sk such that:\n",
    "\n",
    "Every adjacent pair of words differs by a single letter.\n",
    "Every si for 1 <= i <= k is in wordList. Note that beginWord does not need to be in wordList.\n",
    "sk == endWord\n",
    "Given two words, beginWord and endWord, and a dictionary wordList, return the number of words in the shortest transformation sequence from beginWord to endWord, or 0 if no such sequence exists.\n",
    "\n",
    " \n",
    "\n",
    "Example 1:\n",
    "\n",
    "Input: beginWord = \"hit\", endWord = \"cog\", wordList = [\"hot\",\"dot\",\"dog\",\"lot\",\"log\",\"cog\"]\n",
    "Output: 5\n",
    "Explanation: One shortest transformation sequence is \"hit\" -> \"hot\" -> \"dot\" -> \"dog\" -> cog\", which is 5 words long."
   ]
  },
  {
   "cell_type": "code",
   "execution_count": 19,
   "id": "a34ee4c8",
   "metadata": {
    "scrolled": true
   },
   "outputs": [
    {
     "name": "stdout",
     "output_type": "stream",
     "text": [
      "hit\n",
      "hot->dot->lot->dog->log->cog->"
     ]
    },
    {
     "data": {
      "text/plain": [
       "5"
      ]
     },
     "execution_count": 19,
     "metadata": {},
     "output_type": "execute_result"
    }
   ],
   "source": [
    "def ladderLength( beginWord=\"hit\", endWord=\"cog\", wordList=[\"hot\",\"dot\",\"dog\",\"lot\",\"log\",\"cog\"]):\n",
    "    depth={}\n",
    "    for w in wordList:\n",
    "        depth[w]=None\n",
    "    depth[beginWord]=1\n",
    "    print(beginWord)\n",
    "    q=[beginWord]\n",
    "    while q:\n",
    "        w=q.pop(0)\n",
    "        if w==endWord:\n",
    "            return depth[w]\n",
    "        for i in range (len(w)):\n",
    "            for j in range(26):\n",
    "                c=chr(ord('a')+j)\n",
    "                new_w=w[:i]+c+w[i+1:]\n",
    "                #print(new_w)\n",
    "                if new_w in depth and not depth[new_w]: #check new word is in word list and not used\n",
    "                    depth[new_w]=1+depth[w]\n",
    "                    print(new_w,end='->')\n",
    "                    q.append(new_w)\n",
    "    return 0\n",
    "ladderLength()"
   ]
  },
  {
   "cell_type": "markdown",
   "id": "7e1c4fe0",
   "metadata": {},
   "source": [
    "### Number of weak characters"
   ]
  },
  {
   "cell_type": "code",
   "execution_count": 24,
   "id": "212fc552",
   "metadata": {},
   "outputs": [
    {
     "name": "stdout",
     "output_type": "stream",
     "text": [
      "[[10, 4], [4, 3], [1, 5]]\n",
      "1\n"
     ]
    }
   ],
   "source": [
    "def weakCharacters(prop=[[1,5],[10,4],[4,3]]):\n",
    "    prop.sort(key=lambda x:(-x[0],x[1]))\n",
    "    weaks=0\n",
    "    maxdefence=0\n",
    "    for _,d in prop:\n",
    "        if d<maxdefence:\n",
    "            weaks+=1\n",
    "        else:\n",
    "            maxdefence=d\n",
    "         \n",
    "    print(prop)\n",
    "    print(weaks)\n",
    "    \n",
    "weakCharacters()"
   ]
  },
  {
   "cell_type": "markdown",
   "id": "cb57b0b4",
   "metadata": {},
   "source": [
    "# Maximum Profit in job scheduling"
   ]
  },
  {
   "cell_type": "markdown",
   "id": "754f6e14",
   "metadata": {},
   "source": [
    "We have n jobs, where every job is scheduled to be done from startTime[i] to endTime[i], obtaining a profit of profit[i].\n",
    "\n",
    "You're given the startTime, endTime and profit arrays, return the maximum profit you can take such that there are no two jobs in the subset with overlapping time range.\n",
    "\n",
    "If you choose a job that ends at time X you will be able to start another job that starts at time X."
   ]
  },
  {
   "cell_type": "code",
   "execution_count": 29,
   "id": "d2947246",
   "metadata": {},
   "outputs": [
    {
     "data": {
      "text/plain": [
       "120"
      ]
     },
     "execution_count": 29,
     "metadata": {},
     "output_type": "execute_result"
    }
   ],
   "source": [
    "import bisect\n",
    "def jobScheduling( startTime = [1,2,3,3], endTime = [3,4,5,6], profit = [50,10,40,70]):\n",
    "\n",
    "    jobs=list(zip(startTime,endTime,profit))\n",
    "    jobs.sort()\n",
    "    startTime.sort()\n",
    "\n",
    "    def rec(i):\n",
    "        if i==len(startTime): return 0\n",
    "        j=i+1\n",
    "        #while j<len(startTime) and jobs[i][1]>jobs[j][0]:\n",
    "        #    j+=1\n",
    "        j=bisect.bisect_left(startTime,jobs[i][1])\n",
    "        option1=jobs[i][2]+rec(j)\n",
    "        option2=rec(i+1)\n",
    "        return max(option1,option2)\n",
    "    return rec(0)\n",
    "\n",
    "jobScheduling()"
   ]
  },
  {
   "cell_type": "markdown",
   "id": "952ceba8",
   "metadata": {},
   "source": [
    "# Second Round review"
   ]
  },
  {
   "cell_type": "code",
   "execution_count": null,
   "id": "d26e3cc8",
   "metadata": {},
   "outputs": [],
   "source": [
    "def largeestsum(nums=[-2,1,-3,4,-1,2,1,-5,4]):\n",
    "    curSum=0\n",
    "    maxSum=nums[0]\n",
    "    l,r=0,1\n",
    "    while r<len(nums):\n",
    "        curSum+=nums[r]\n",
    "        maxSum=max(curSum,maxSum)\n",
    "        \n",
    "        r+=1"
   ]
  },
  {
   "cell_type": "code",
   "execution_count": 30,
   "id": "9ddabb35",
   "metadata": {},
   "outputs": [
    {
     "name": "stdout",
     "output_type": "stream",
     "text": [
      "3 1\n",
      "5 1\n",
      "7 1\n",
      "9 1\n",
      "9 2\n"
     ]
    },
    {
     "data": {
      "text/plain": [
       "True"
      ]
     },
     "execution_count": 30,
     "metadata": {},
     "output_type": "execute_result"
    }
   ],
   "source": [
    "def subStr(s='alibababobk',p='bk'):\n",
    "\n",
    "    for  i in range (len(s)):\n",
    "        j=0\n",
    "        while j<len(p):\n",
    "            if s[i+j]==p[j]:\n",
    "                j+=1\n",
    "                print(i,j)\n",
    "            else:\n",
    "                break\n",
    "                \n",
    "        if j==len(p):\n",
    "            return True\n",
    "    return False\n",
    "\n",
    "subStr()\n",
    "    "
   ]
  },
  {
   "cell_type": "markdown",
   "id": "cb82788e",
   "metadata": {},
   "source": [
    "## String Matching "
   ]
  },
  {
   "cell_type": "code",
   "execution_count": 32,
   "id": "283a4ab6",
   "metadata": {},
   "outputs": [
    {
     "data": {
      "text/plain": [
       "['as', 'hero']"
      ]
     },
     "execution_count": 32,
     "metadata": {},
     "output_type": "execute_result"
    }
   ],
   "source": [
    "class stringMatcher(object):\n",
    "    def stringMatching(self, words= [\"mass\",\"as\",\"hero\",\"superhero\"]):\n",
    "        \n",
    "        words.sort(key =lambda x:len(x))\n",
    "        #print(words)\n",
    "        res=[]\n",
    "        for i in range(len(words)-1):\n",
    "            for j in range(i+1,len(words)):\n",
    "                #print(words[i],words[j],self.substr(words[i],words[j]))\n",
    "                if self.substr(words[i],words[j]) and not words[i] in res:\n",
    "                    res.append(words[i])\n",
    "        return res\n",
    "    \n",
    "    def substr(self,p,s):\n",
    "        for i in range(len(s)-len(p)+1):\n",
    "            j=0\n",
    "            while j<len(p):\n",
    "                if s[i+j]==p[j]:\n",
    "                    j+=1\n",
    "                else:\n",
    "                    break\n",
    "            if j==len(p):\n",
    "                return True\n",
    "        return False\n",
    "    \n",
    "obj=stringMatcher()\n",
    "obj.stringMatching()"
   ]
  },
  {
   "cell_type": "code",
   "execution_count": 6,
   "id": "7635fe4b",
   "metadata": {},
   "outputs": [
    {
     "data": {
      "text/plain": [
       "[(1, 2, 5), (3, 4, 25), (1, 1, 2), (5, 5, 50)]"
      ]
     },
     "execution_count": 6,
     "metadata": {},
     "output_type": "execute_result"
    }
   ],
   "source": [
    "points=[(1,2),(3,4),(1,1),(5,5)]\n",
    "data =[(x,y,x*x+y*y) for x,y in points]\n",
    "data"
   ]
  },
  {
   "cell_type": "markdown",
   "id": "ad5bc7b8",
   "metadata": {},
   "source": [
    "# Number of Islands"
   ]
  },
  {
   "cell_type": "code",
   "execution_count": 9,
   "id": "2ecdb7d1",
   "metadata": {},
   "outputs": [
    {
     "data": {
      "text/plain": [
       "1"
      ]
     },
     "execution_count": 9,
     "metadata": {},
     "output_type": "execute_result"
    }
   ],
   "source": [
    "def numIslands( grid = [\n",
    "  [\"1\",\"1\",\"1\",\"1\",\"0\"],\n",
    "  [\"1\",\"1\",\"0\",\"1\",\"0\"],\n",
    "  [\"1\",\"1\",\"0\",\"0\",\"0\"],\n",
    "  [\"0\",\"0\",\"0\",\"0\",\"0\"]\n",
    "]):\n",
    "\n",
    "    visited=set()\n",
    "    rows,cols=len(grid),len(grid[0])\n",
    "    islandsNum=0\n",
    "\n",
    "    def dfs(r,c):\n",
    "        if (r,c) in visited:\n",
    "            return \n",
    "        visited.add((r,c))\n",
    "\n",
    "        for dr,dc in [(0,1),(0,-1),(1,0),(-1,0)]:\n",
    "            x,y=r+dr,c+dc\n",
    "            if 0<=x<rows and 0<=y<cols and grid[x][y]==\"1\":\n",
    "                dfs(x,y)\n",
    "\n",
    "\n",
    "    for r in range(rows):\n",
    "        for c in range(cols):\n",
    "            if grid[r][c] ==\"1\" and (r,c) not in visited:\n",
    "                dfs(r,c)\n",
    "                islandsNum+=1\n",
    "\n",
    "    return islandsNum\n",
    "\n",
    "numIslands()"
   ]
  },
  {
   "cell_type": "markdown",
   "id": "427be3dd",
   "metadata": {},
   "source": [
    "# Sliding window max"
   ]
  },
  {
   "cell_type": "code",
   "execution_count": 14,
   "id": "98518a99",
   "metadata": {},
   "outputs": [
    {
     "data": {
      "text/plain": [
       "[3, 3, 5, 5, 6, 7]"
      ]
     },
     "execution_count": 14,
     "metadata": {},
     "output_type": "execute_result"
    }
   ],
   "source": [
    "from collections import deque\n",
    "def maxSlidingWindow(nums = [1,3,-1,-3,5,3,6,7], k = 3):\n",
    "        output = []\n",
    "        maxQueue = deque()\n",
    "\n",
    "        i,j = 0,0\n",
    "        n = len(nums)\n",
    "\n",
    "        while(j < n):\n",
    "            #Remove all elements from deque that are smaller than current element at index j\n",
    "            while(len(maxQueue) > 0 and nums[j] > maxQueue[-1]): maxQueue.pop()  \n",
    "                \n",
    "            #And once removed, then put the j index element in the Queue\n",
    "            maxQueue.append(nums[j])\n",
    "\n",
    "            #Check Window size\n",
    "            if(j - i + 1 < k): j += 1\n",
    "            #If Window size = k\n",
    "            else:\n",
    "                #Put the maximum element in this window in the output\n",
    "                output.append(maxQueue[0])\n",
    "                \n",
    "                #Before sliding the window, check if the element we are not going to include in next window is max element or not\n",
    "                # It it is the max element, that means we remove it from deQue as well\n",
    "                if(nums[i] == maxQueue[0]): maxQueue.popleft()\n",
    "                #Slide the window\n",
    "                i += 1\n",
    "                j += 1\n",
    "\n",
    "        return output\n",
    "    \n",
    "maxSlidingWindow()"
   ]
  },
  {
   "cell_type": "code",
   "execution_count": 11,
   "id": "bca33401",
   "metadata": {},
   "outputs": [
    {
     "data": {
      "text/plain": [
       "[3, 3, 5, 5, 6, 7]"
      ]
     },
     "execution_count": 11,
     "metadata": {},
     "output_type": "execute_result"
    }
   ],
   "source": [
    "def maxwin(nums = [1,3,-1,-3,5,3,6,7], k = 3):#Output: [3,3,5,5,6,7] O(n.k)\n",
    "    res=[]\n",
    "    for i in range(len(nums)-k+1):\n",
    "        curmax=nums[i]\n",
    "        for j in range(i+1,k+i):\n",
    "            if nums[j]>curmax:\n",
    "                curmax=nums[j]\n",
    "        res.append(curmax)\n",
    "    return res\n",
    "\n",
    "maxwin()\n",
    "            \n"
   ]
  },
  {
   "cell_type": "markdown",
   "id": "57b65dd5",
   "metadata": {},
   "source": [
    "# Reverse Words"
   ]
  },
  {
   "cell_type": "code",
   "execution_count": 65,
   "id": "91d08485",
   "metadata": {},
   "outputs": [
    {
     "data": {
      "text/plain": [
       "'I evol u'"
      ]
     },
     "execution_count": 65,
     "metadata": {},
     "output_type": "execute_result"
    }
   ],
   "source": [
    "def reverseWords( s='I love u'):\n",
    "    \"\"\"\n",
    "    :type s: str\n",
    "    :rtype: str\n",
    "    \"\"\"\n",
    "    stk=[]\n",
    "    res=''\n",
    "    for ch in s:\n",
    "        if ch!=' ':\n",
    "            stk.append(ch)\n",
    "        else:\n",
    "            while stk:\n",
    "                res+=stk.pop()\n",
    "            res+=' '\n",
    "            \n",
    "    while stk:\n",
    "        res+=stk.pop()\n",
    "\n",
    "    return res\n",
    "\n",
    "reverseWords()\n"
   ]
  },
  {
   "cell_type": "raw",
   "id": "dd190afc",
   "metadata": {},
   "source": [
    " def reverseWords(self,str):\n",
    "    # Time Complexity => O(N) \n",
    "\t# Space => O(1)\n",
    "\t\n",
    "    str = list(str)\n",
    "    n = len(str)\n",
    "    i=j=0 \n",
    "    while j<n:\n",
    "      while j<n and str[j] != \" \": j=j+1\n",
    "      k=j+1\n",
    "      j=j-1\n",
    "      while i<j:\n",
    "        str[i],str[j] = str[j],str[i]\n",
    "        i=i+1 \n",
    "        j=j-1\n",
    "      i=k\n",
    "      j=k\n",
    "    return \"\".join(str)\n",
    "  \n",
    "  def reverseWords(self,str):\n",
    "   \n",
    "    return \" \".join([word[::-1] for word in str.split()])\n",
    "    \n",
    "  def reverseWords(self,str):\n",
    "    # Time Complexity => O(N * O(len(word))) \n",
    "\t\n",
    "    res = \"\"\n",
    "    for word in str.split():\n",
    "      word = \"\".join(reversed(word))\n",
    "      res += word+\" \"\n",
    "    return res \n",
    "    \n",
    "  def reverseWords(self,str):\n",
    "   # Time > O(N *O(len(word)))\n",
    "   # Space => O(N)\n",
    "   stack = [] \n",
    "    res = \"\"\n",
    "    for char in str:\n",
    "      if char == \" \":\n",
    "        while stack:\n",
    "          res +=stack.pop() \n",
    "        res +=\" \"\n",
    "      else:\n",
    "        stack.append(char)\n",
    "    while stack:\n",
    "      res +=stack.pop()\n",
    "    return res"
   ]
  },
  {
   "cell_type": "markdown",
   "id": "93d675e5",
   "metadata": {},
   "source": [
    "# Exersice"
   ]
  },
  {
   "cell_type": "code",
   "execution_count": 73,
   "id": "d78a672c",
   "metadata": {},
   "outputs": [
    {
     "data": {
      "text/plain": [
       "3"
      ]
     },
     "execution_count": 73,
     "metadata": {},
     "output_type": "execute_result"
    }
   ],
   "source": [
    "#sub array equls k\n",
    "\n",
    "def subsum(nums=[1,1,2,3,1,1,1],k=3):\n",
    "    res=0\n",
    "    for i in range (len(nums)):\n",
    "        for j in range(i,len(nums)):\n",
    "            if sum(nums[i:j+1])==k:\n",
    "                res+=1\n",
    "    return res\n",
    "\n",
    "def subsum2(nums=[1,1,2,3,1,1,1],k=3):\n",
    "    presum={0:1}\n",
    "    res, cursum=0,0\n",
    "    for num in nums:\n",
    "        cursum+=num\n",
    "        \n",
    "        diff=cursum-k\n",
    "        res+=presum.get(diff,0)\n",
    "        presum[cursum]=1+presum.get(cursum,0)\n",
    "    return res\n",
    "\n",
    "subsum2()\n",
    "            "
   ]
  },
  {
   "cell_type": "code",
   "execution_count": 77,
   "id": "7d3d68a0",
   "metadata": {},
   "outputs": [
    {
     "data": {
      "text/plain": [
       "0.25"
      ]
     },
     "execution_count": 77,
     "metadata": {},
     "output_type": "execute_result"
    }
   ],
   "source": [
    "def pow(x=2,n=-2):\n",
    "    if n<0:\n",
    "        return pow(1/x,-n)\n",
    "    res=1\n",
    "    while n>0:\n",
    "        if n%2==0:\n",
    "            x*=x\n",
    "            n/=2\n",
    "        else:\n",
    "            res*=x\n",
    "            n-=1\n",
    "    return res\n",
    "\n",
    "pow()\n",
    "    "
   ]
  },
  {
   "cell_type": "code",
   "execution_count": 81,
   "id": "954e454e",
   "metadata": {},
   "outputs": [
    {
     "data": {
      "text/plain": [
       "5"
      ]
     },
     "execution_count": 81,
     "metadata": {},
     "output_type": "execute_result"
    }
   ],
   "source": [
    "#basic calculator\n",
    "\n",
    "def basicCalc(s='  1+3+(4-5)+2'):\n",
    "    i,cursum,sign=0,0,1\n",
    "    stack=[]\n",
    "    \n",
    "    while i<len(s):\n",
    "        if s[i]>='0' and s[i]<='9':\n",
    "            num=0\n",
    "            while i<len(s) and s[i]>='0' and s[i]<='9' :\n",
    "                num=num*10 + int(s[i])\n",
    "                i+=1\n",
    "            cursum+=sign*num\n",
    "            i-=1\n",
    "        elif s[i]=='-':\n",
    "            sign=-1\n",
    "        elif s[i]=='+':\n",
    "            sign=1\n",
    "        elif s[i]=='(':\n",
    "            stack.append(cursum)\n",
    "            stack.append(sign)\n",
    "            cursum=0\n",
    "            sign=1\n",
    "        elif s[i]==')':\n",
    "            cursum*=stack.pop()\n",
    "            cursum+=stack.pop()\n",
    "            \n",
    "        i+=1\n",
    "        \n",
    "    return cursum\n",
    "                    \n",
    "basicCalc()"
   ]
  },
  {
   "cell_type": "code",
   "execution_count": 1,
   "id": "0d9ac43f",
   "metadata": {},
   "outputs": [
    {
     "data": {
      "text/plain": [
       "[[2], [5], [1, 6, 7], [3], [4]]"
      ]
     },
     "execution_count": 1,
     "metadata": {},
     "output_type": "execute_result"
    }
   ],
   "source": [
    "# vertical order traversal of a tree\n",
    "\n",
    "class treeNode:\n",
    "    def __init__(self,val,left=None,right=None):\n",
    "        self.val=val\n",
    "        self.left=left\n",
    "        self.right=right\n",
    "        \n",
    "'''\n",
    "       1\n",
    "     /   \\\n",
    "    5     3\n",
    "   / \\   / \\\n",
    "  2   6 7   4\n",
    "'''\n",
    "def vertcalOrder(root=treeNode(1,treeNode(5,treeNode(2),treeNode(6)),treeNode(3,treeNode(7),treeNode(4)))):\n",
    "    dic={} # col: [(row,node.val)]\n",
    "    res=[]\n",
    "    \n",
    "    def dfs(root,row,col): # in-order travese and record the row and col and val for nodes\n",
    "        if not root:\n",
    "            return\n",
    "        \n",
    "        dfs(root.left,row+1,col-1)\n",
    "        dic[col]=dic.get(col,[])+[(row,root.val)]\n",
    "        dfs(root.right,row+1,col+1)\n",
    "        \n",
    "        return dic\n",
    "    \n",
    "    #dic={0:[(0,1),(2,6),(2,7)],.. }\n",
    "    for k in sorted(dfs(root,0,0).keys()): #sort by col\n",
    "        res.append([v for r,v in sorted(dic[k])]) #sort by row\n",
    "        \n",
    "    return res\n",
    "\n",
    "vertcalOrder()\n",
    "        \n",
    "        "
   ]
  },
  {
   "cell_type": "code",
   "execution_count": 21,
   "id": "c257a49b",
   "metadata": {},
   "outputs": [
    {
     "name": "stdout",
     "output_type": "stream",
     "text": [
      "0\n",
      "0\n",
      "1\n",
      "1\n",
      "1\n",
      "1\n",
      "1\n",
      "0\n",
      "0\n",
      "0\n"
     ]
    }
   ],
   "source": [
    "import random\n",
    "\n",
    "def pickindex(w=[1,1]):\n",
    "    presum=[0]\n",
    "    cursum=0\n",
    "\n",
    "    for wi in w:\n",
    "        cursum+=wi\n",
    "        presum.append(cursum)\n",
    "    totalsum=cursum\n",
    "    \n",
    "    target=random.random()*totalsum\n",
    "    l,r=0,len(presum)-1\n",
    "    while l<=r:\n",
    "        mid=(r+l)//2 #l+(r-l)//2\n",
    "        if target>presum[mid]:\n",
    "            l=mid+1\n",
    "        elif target<presum[mid]:\n",
    "            r=mid-1\n",
    "        else:\n",
    "            return mid-1\n",
    "    return l-1\n",
    "    \n",
    "for i in range (10):\n",
    "    print(pickindex())\n",
    "        \n",
    "    \n",
    "        "
   ]
  },
  {
   "cell_type": "code",
   "execution_count": 30,
   "id": "06de3800",
   "metadata": {},
   "outputs": [
    {
     "data": {
      "text/plain": [
       "4"
      ]
     },
     "execution_count": 30,
     "metadata": {},
     "output_type": "execute_result"
    }
   ],
   "source": [
    "#minimum number of paranteces need to be removed to make balanced paranteces\n",
    "def minparanteces(s='))()()()())('):\n",
    "    stack=[]\n",
    "    \n",
    "    for ch in s:\n",
    "     \n",
    "        if ch==')'and stack and stack[-1]=='(':\n",
    "            stack.pop()\n",
    "        else:\n",
    "            stack.append(ch)\n",
    "                        \n",
    "    return len(stack)\n",
    "\n",
    "minparanteces()"
   ]
  },
  {
   "cell_type": "code",
   "execution_count": 45,
   "id": "935ca5ff",
   "metadata": {},
   "outputs": [
    {
     "name": "stdout",
     "output_type": "stream",
     "text": [
      "stack: )) [')', ')']\n",
      ")) \n"
     ]
    },
    {
     "data": {
      "text/plain": [
       "''"
      ]
     },
     "execution_count": 45,
     "metadata": {},
     "output_type": "execute_result"
    }
   ],
   "source": [
    "def minRemoveToMakeValid(s = \"))\"):\n",
    "\n",
    "    stack=[]\n",
    "    indexes=[]\n",
    "    for i in range (len(s)):\n",
    "        if s[i]==')' and stack and stack[-1]=='(':\n",
    "            stack.pop()\n",
    "            indexes.pop()\n",
    "        elif s[i]=='(' or s[i]==')':\n",
    "            stack.append(s[i])\n",
    "            indexes.append(i)\n",
    "    print('stack:',s,stack)\n",
    "    if stack and list(s)!=stack:     \n",
    "        for i in indexes:\n",
    "            print(s,s[i],i)\n",
    "            res=s[:i]+s[i+1:]\n",
    "    else:\n",
    "        res=\"\" \n",
    "\n",
    "    print(s,res)\n",
    "\n",
    "    return res\n",
    "minRemoveToMakeValid()"
   ]
  },
  {
   "cell_type": "code",
   "execution_count": 268,
   "id": "a424486e",
   "metadata": {},
   "outputs": [
    {
     "data": {
      "text/plain": [
       "['1->5->6', '1->3']"
      ]
     },
     "execution_count": 268,
     "metadata": {},
     "output_type": "execute_result"
    }
   ],
   "source": [
    "# find maximum path of a binart tree\n",
    "\n",
    "# vertical order traversal of a tree\n",
    "\n",
    "from copy import copy\n",
    "import numpy as np\n",
    "class treeNode:\n",
    "    def __init__(self,val,left=None,right=None):\n",
    "        self.val=val\n",
    "        self.left=left\n",
    "        self.right=right\n",
    "        \n",
    "'''\n",
    "       1\n",
    "     /   \\\n",
    "    5     3\n",
    "   / \\   / \\\n",
    "   N  6 N   N\n",
    "'''\n",
    "def maxPath(root=treeNode(1,treeNode(5,None,treeNode(6)),treeNode(3,None,None))):\n",
    "    res=[]\n",
    "    path=''\n",
    "    \n",
    "    def dfs(root,path,res):\n",
    "        if not root: return \n",
    "        path+=(str(root.val)+'->')\n",
    "        \n",
    "        if not root.left and not root.right:\n",
    "            res.append(path[:-2])\n",
    "            \n",
    "            \n",
    "\n",
    "        dfs(root.left,path,res)\n",
    "        dfs(root.right,path,res)\n",
    "\n",
    "        \n",
    "        return res\n",
    "\n",
    "    return dfs(root,path,res)\n",
    "\n",
    "maxPath()\n",
    "#maxPath()[np.argmax([len(path) for path in maxPath()])]\n",
    "\n",
    " "
   ]
  },
  {
   "cell_type": "code",
   "execution_count": 82,
   "id": "9d2025ba",
   "metadata": {},
   "outputs": [],
   "source": [
    "'''\n",
    "We have two SORTED arrays of integers: A and B. A has empty slots at the end of it. It has exactly as many empty slots as there are elements in B. Your goal is to merge the elements from B into A so that array A contains all of the elements in sorted order. \n",
    "Optimize for speed and memory usage.\n",
    "\n",
    "Example Input:\n",
    "\n",
    "A = [1, 2, 3, _, _, _, _]\n",
    "\n",
    "B = [2, 4, 6, 100]\n",
    "\n",
    "Expected output:\n",
    "\n",
    "A = [1, 2, 2, 3, 4, 6, 100]\n",
    "\n",
    "'''\n",
    "\n",
    "\n",
    "def merge(A,B):\n",
    "        lenA=1\n",
    "        for i in range(len(A)):\n",
    "            if A[i]:\n",
    "                lenA+=1\n",
    "        for i in range(len(B)):\n",
    "            A[lenA+i]=B[i]\n",
    "\n",
    "        return mergesort(A)\n",
    "    \n",
    "def mergesort(A):\n",
    "    if len(A)>1:\n",
    "        mid=len(A)//2\n",
    "\n",
    "        left=A[:mid]\n",
    "        right=A[mid:]\n",
    "\n",
    "        mergesort(left)\n",
    "        mergesort(right)\n",
    "\n",
    "        i=j=k\n",
    "\n",
    "        while i<len(left) and j<len(right):\n",
    "            if left[i]<right[j]:\n",
    "                A[k]=left[i]\n",
    "                i+=1\n",
    "            else:\n",
    "                A[k]=right[j]\n",
    "                j+=1\n",
    "            k+=1\n",
    "\n",
    "        while i<len(left):\n",
    "            A[k]=left[i]\n",
    "            i+=1\n",
    "            k+=1\n",
    "        while j<len(right):\n",
    "            A[k]=right[j]\n",
    "            j+=1\n",
    "            k+=1\n",
    "\n",
    "        return A\n",
    "\n",
    " \n",
    "'''\n",
    "\n",
    "Given a binary tree, find the length of the longest path between any two nodes.\n",
    "\n",
    "\n",
    "\n",
    "       2\n",
    "      / \\\n",
    "     /   \\\n",
    "    7    3\n",
    "   / |     |\n",
    "  /  |     |\n",
    "1    6     9\n",
    "   /  |     |\n",
    "  /   |     |\n",
    "5     11    4\n",
    "\n",
    "In the above tree, the longest path is 5/11 -> 6 -> 7 -> 2 -> 3 -> 9 -> 4, so the length is 6 (6 edges).\n",
    "\n",
    "\n",
    "'''\n",
    "class tnode:\n",
    "    def __init__(self,val=0,left=None,right=None):\n",
    "        self.val=val\n",
    "        self.left=left\n",
    "        self.right=right\n",
    "\n",
    "# pathLen(src,dst)= pathLen(root,src)+pathLen(root,dst)-2*pathLen(root,LCA(src,dst)) \n",
    "# \n",
    "from collections import deque\n",
    "def pathLen(root,node):\n",
    "    if not root:return\n",
    "    level=0\n",
    "    q=deque([root])\n",
    "    while q:\n",
    "        n=len(q)\n",
    "        if node in q:\n",
    "            return level\n",
    "        else:\n",
    "            level+=1\n",
    "        for i in range(n):\n",
    "            curnode=q.popleft()\n",
    "            if curnode.left:\n",
    "                q.apppend(curnode.left)\n",
    "            if curnode.right:\n",
    "                q.append(curnode.right)\n",
    "\n",
    "    return level\n",
    "\n",
    "def LCA(root,p,q):\n",
    "    if not root: return\n",
    "\n",
    "    if root==p or root==q:\n",
    "        return root\n",
    "\n",
    "    left=LCA(root.left,p,q)\n",
    "    right=LCA(root.right,p,q)\n",
    "\n",
    "    if not left:\n",
    "        return right\n",
    "    if not right:\n",
    "        return left\n",
    "\n",
    "    return root\n",
    "        \n",
    "\n",
    "def driver(root):\n",
    "    leaves=[]\n",
    "    res=[]\n",
    "\n",
    "    def dfs(root):\n",
    "        if not root:return \n",
    "\n",
    "        if not root.left and not root.right:\n",
    "            leaves.append(root)\n",
    "\n",
    "        dfs(root.left)\n",
    "        dfs(root.right)\n",
    "        return leaves\n",
    "\n",
    "    dfs(root)\n",
    "\n",
    "    for i in range(len(leaves)-1):\n",
    "        for j in range(i+1,len(leaves)):\n",
    "            src=leaves[i]\n",
    "            dst=leaves[j]\n",
    "            res.append( pathLen(root,src)+pathLen(root,dst)-2*pathLen(root,LCA(src,dst)) )\n",
    "\n",
    "    return \n",
    "\n",
    "\n",
    "\n",
    "#def findpath(root):\n",
    "\n"
   ]
  },
  {
   "cell_type": "raw",
   "id": "2573cf36",
   "metadata": {},
   "source": [
    "# Given a matrix of integers print out its values along the diagonals\n",
    "\n",
    "\n",
    "# {\n",
    "#  1,  2,  3\n",
    "#  5,  6,  7\n",
    "#  9, 10, 11\n",
    "# }\n",
    "\n",
    "\n",
    "\n",
    "# The print:\n",
    "# 1\n",
    "# 2 5\n",
    "# 3 6 9\n",
    "# 7, 10\n",
    "# 11\n",
    "\n",
    "\n",
    "\n",
    "\n",
    "# =====\n",
    "# no square\n",
    "\n",
    "# For example, given this matrix:\n",
    "\n",
    "# {{1,  2,  3,  4},\n",
    "#  {5,  6,  7,  8},\n",
    "#  {9, 10, 11, 12}}\n",
    "\n",
    "\n",
    "# The print out should be:\n",
    "\n",
    "# 1\n",
    "# 2 5\n",
    "# 3 6 9\n",
    "# 4 7 10\n",
    "# 8 11 \n",
    "# 12\n",
    "#mat=[[],[]...]\n",
    "def diagonals(mat):\n",
    "    rows,cols=len(mat),cols=len(mat[0])\n",
    "\n",
    "    for i in range(rows):\n",
    "        for j in range(cols):\n",
    "            if i==j:\n",
    "                print(mat[i][j]\n",
    "                \n",
    "                #abs(i-rows-1)==abs(j-cols-1):\n",
    "            #mat[i][j],mat[j][i]=mat[j][i],mat[i][j]\n",
    "\n",
    "\n",
    "\n",
    "\n",
    "\n",
    "def diag2(mat):\n",
    "\n",
    "    rows,cols=len(mat),cols=len(mat[0])\n",
    "    r,c=0,0\n",
    "\n",
    "    while r\n",
    "\n",
    "# Given two nodes on a binary tree, try and find the first ancestor they have in common. Nodes have pointers to their parent and their children.\n",
    "\n",
    "# Examples:\n",
    "\n",
    "#      A\n",
    "#     / \\ \n",
    "#    B   C \n",
    "#   /\\   /\\\n",
    "#  D E  F  G \n",
    "#   /     /\n",
    "#  H     I\n",
    "\n",
    "# Input: H, I\n",
    "# Output: A\n",
    "\n",
    "# Input: D, E\n",
    "# Output: B\n",
    "\n",
    "# Input: C, F\n",
    "# Output: C\n",
    "def FindRoot(p):\n",
    "    if not p.paret return p\n",
    "    FindRoot(p.parent)\n",
    "\n",
    "def LCA(p,q):\n",
    "    root=FindRoot(p)\n",
    "\n",
    "    def LCA_(root,p,q):\n",
    "        if not root:return\n",
    "\n",
    "        if root==p or root==q:\n",
    "            return root\n",
    "        left=LCA_(root.left,p,q)\n",
    "        right=LCA_(root.right,p,q)\n",
    "\n",
    "        if not left: return right\n",
    "        if not right:return left\n",
    "        return root\n",
    "\n",
    "    return LCA_(root,p,q)\n"
   ]
  },
  {
   "cell_type": "markdown",
   "id": "3a971daf",
   "metadata": {},
   "source": [
    "# Tree has path Sum"
   ]
  },
  {
   "cell_type": "code",
   "execution_count": 85,
   "id": "3bab291d",
   "metadata": {},
   "outputs": [],
   "source": [
    "def hasPathSum(root, targetSum):\n",
    "\n",
    "    def dfs(root,amount):\n",
    "        if not root: return\n",
    "\n",
    "        amount=amount-root.val\n",
    "        #print(amount,root.val)\n",
    "        if not root.left and not root.right:\n",
    "            return   amount==0\n",
    "\n",
    "        if dfs(root.left,amount):\n",
    "            return True\n",
    "        if dfs(root.right,amount):\n",
    "            return True\n",
    "\n",
    "    return dfs(root,targetSum)"
   ]
  },
  {
   "cell_type": "code",
   "execution_count": 129,
   "id": "eeb3ada4",
   "metadata": {},
   "outputs": [
    {
     "name": "stdout",
     "output_type": "stream",
     "text": [
      "['aababaa', 'aba', 'bab', 'aba', 'baab']\n"
     ]
    }
   ],
   "source": [
    "visitedInices=set()\n",
    "def palSubstrings(s='aababaabce',k=3):\n",
    "    subStrings=[]\n",
    "    l,r=0,0\n",
    "    \n",
    "    while (l<len(s)):\n",
    "        r=l\n",
    "        while r<len(s):\n",
    "\n",
    "            if r-l+1>=k and len(s[l:r+1])>=k:\n",
    "                if isPalindrome(s[l:r+1]) and not overlapped([l,r+1],visitedInices) :\n",
    "                    subStrings.append(s[l:r+1])\n",
    "                    visitedInices.add((l,r+1))\n",
    "            r+=1\n",
    "        l+=1\n",
    "\n",
    "    print(subStrings)\n",
    "    \n",
    "def isPalindrome(s):\n",
    "    l,r=0,len(s)-1\n",
    "    while l<r:\n",
    "        if s[l]!=s[r]:\n",
    "            return False\n",
    "        else:\n",
    "            l+=1\n",
    "            r-=1\n",
    "    return True\n",
    "\n",
    "def overlapped(v,visitedInices):\n",
    "    for u in visitedInices:\n",
    "        if (v[0]<=u[0] and v[1]>=u[0]) or (v[0]>=u[0] and v[1]<=u[0]):\n",
    "            return True\n",
    "    return False\n",
    "            \n",
    "palSubstrings()           \n",
    "    "
   ]
  },
  {
   "cell_type": "code",
   "execution_count": null,
   "id": "6b0483fc",
   "metadata": {},
   "outputs": [],
   "source": []
  }
 ],
 "metadata": {
  "kernelspec": {
   "display_name": "Python 3 (ipykernel)",
   "language": "python",
   "name": "python3"
  },
  "language_info": {
   "codemirror_mode": {
    "name": "ipython",
    "version": 3
   },
   "file_extension": ".py",
   "mimetype": "text/x-python",
   "name": "python",
   "nbconvert_exporter": "python",
   "pygments_lexer": "ipython3",
   "version": "3.9.12"
  }
 },
 "nbformat": 4,
 "nbformat_minor": 5
}
